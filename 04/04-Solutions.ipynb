{
 "cells": [
  {
   "cell_type": "markdown",
   "id": "8b86c48a",
   "metadata": {},
   "source": [
    "### Exercise #1 \n",
    "Create a function, `half_df`, that takes a dataframe and returns the first half of rows, and the first of columns."
   ]
  },
  {
   "cell_type": "code",
   "execution_count": 50,
   "id": "8ecc6b13",
   "metadata": {},
   "outputs": [
    {
     "name": "stdout",
     "output_type": "stream",
     "text": [
      "(25, 18)\n",
      "(12, 9)\n",
      "(6, 4)\n"
     ]
    }
   ],
   "source": [
    "import pandas as pd\n",
    "import numpy as np\n",
    "\n",
    "def half_df(df):\n",
    "    rows = int(df.shape[0] /2)\n",
    "    cols = int(df.shape[1] /2)\n",
    "    return df.iloc[:rows,:cols]\n",
    "    \n",
    "\n",
    "data = pd.DataFrame(np.random.randint(0,100,size=(25, 18)))\n",
    "print(data.shape)\n",
    "\n",
    "data = half_df(data)\n",
    "print(data.shape)\n",
    "\n",
    "data = half_df(data)\n",
    "print(data.shape)"
   ]
  },
  {
   "cell_type": "code",
   "execution_count": 51,
   "id": "f174ffff",
   "metadata": {},
   "outputs": [
    {
     "name": "stdout",
     "output_type": "stream",
     "text": [
      "(25, 18)\n"
     ]
    }
   ],
   "source": [
    "data = pd.DataFrame(np.random.randint(0,100,size=(25, 18)))\n",
    "print(data.shape)"
   ]
  },
  {
   "cell_type": "code",
   "execution_count": 56,
   "id": "90c996fb",
   "metadata": {},
   "outputs": [
    {
     "name": "stdout",
     "output_type": "stream",
     "text": [
      "     0   1   2   3   4   5   6   7   8\n",
      "0   12  38  81  98  35  15  75  86  36\n",
      "1   36  50  12  53  54  86  38  10  73\n",
      "2    5  86  11  23  62  99  27  21  17\n",
      "3   36  21  31  44  43  48  17  55  87\n",
      "4   88  68  94  74  54  93  95  32  34\n",
      "5   43  88  13  89  68  82  50  19  60\n",
      "6   70  84  33  72  76   0  67  18  27\n",
      "7   86  11  75  43  63  46  28  89  18\n",
      "8   96  12  62  52  41  23  46  51  84\n",
      "9   79  50  25  23  20  25   3  63  41\n",
      "10  43  16  15   5  64  26  33  26  66\n",
      "11  87  22  82  86  42  99  96  41  67\n"
     ]
    }
   ],
   "source": [
    "rows = int(data.shape[0]/2)\n",
    "cols = int(data.shape[1]/2)\n",
    "\n",
    "print(data.iloc[:rows,:cols])"
   ]
  },
  {
   "cell_type": "markdown",
   "id": "d18e9327",
   "metadata": {},
   "source": [
    "### Exercise #2\n",
    "Create a new dataframe, `result`, that concatenates:\n",
    "- `A`, and `C` from `df1`, and\n",
    "- Last column of `df4`"
   ]
  },
  {
   "cell_type": "code",
   "execution_count": 18,
   "id": "0be2ed36",
   "metadata": {},
   "outputs": [
    {
     "data": {
      "text/html": [
       "<div>\n",
       "<style scoped>\n",
       "    .dataframe tbody tr th:only-of-type {\n",
       "        vertical-align: middle;\n",
       "    }\n",
       "\n",
       "    .dataframe tbody tr th {\n",
       "        vertical-align: top;\n",
       "    }\n",
       "\n",
       "    .dataframe thead th {\n",
       "        text-align: right;\n",
       "    }\n",
       "</style>\n",
       "<table border=\"1\" class=\"dataframe\">\n",
       "  <thead>\n",
       "    <tr style=\"text-align: right;\">\n",
       "      <th></th>\n",
       "      <th>A</th>\n",
       "      <th>B</th>\n",
       "      <th>C</th>\n",
       "      <th>D</th>\n",
       "    </tr>\n",
       "  </thead>\n",
       "  <tbody>\n",
       "    <tr>\n",
       "      <th>0</th>\n",
       "      <td>A0</td>\n",
       "      <td>B0</td>\n",
       "      <td>C0</td>\n",
       "      <td>D0</td>\n",
       "    </tr>\n",
       "    <tr>\n",
       "      <th>1</th>\n",
       "      <td>A1</td>\n",
       "      <td>B1</td>\n",
       "      <td>C1</td>\n",
       "      <td>D1</td>\n",
       "    </tr>\n",
       "    <tr>\n",
       "      <th>2</th>\n",
       "      <td>A2</td>\n",
       "      <td>B2</td>\n",
       "      <td>C2</td>\n",
       "      <td>D2</td>\n",
       "    </tr>\n",
       "    <tr>\n",
       "      <th>3</th>\n",
       "      <td>A3</td>\n",
       "      <td>B3</td>\n",
       "      <td>C3</td>\n",
       "      <td>D3</td>\n",
       "    </tr>\n",
       "  </tbody>\n",
       "</table>\n",
       "</div>"
      ],
      "text/plain": [
       "    A   B   C   D\n",
       "0  A0  B0  C0  D0\n",
       "1  A1  B1  C1  D1\n",
       "2  A2  B2  C2  D2\n",
       "3  A3  B3  C3  D3"
      ]
     },
     "execution_count": 18,
     "metadata": {},
     "output_type": "execute_result"
    }
   ],
   "source": [
    "import pandas as pd\n",
    "\n",
    "df1 = pd.DataFrame(\n",
    "    {\n",
    "        \"A\": [\"A0\", \"A1\", \"A2\", \"A3\"],\n",
    "        \"B\": [\"B0\", \"B1\", \"B2\", \"B3\"],\n",
    "        \"C\": [\"C0\", \"C1\", \"C2\", \"C3\"],\n",
    "        \"D\": [\"D0\", \"D1\", \"D2\", \"D3\"],\n",
    "    }, index=[0, 1, 2, 3],\n",
    ")\n",
    "df1"
   ]
  },
  {
   "cell_type": "code",
   "execution_count": 26,
   "id": "2be2a3ac",
   "metadata": {},
   "outputs": [
    {
     "data": {
      "text/html": [
       "<div>\n",
       "<style scoped>\n",
       "    .dataframe tbody tr th:only-of-type {\n",
       "        vertical-align: middle;\n",
       "    }\n",
       "\n",
       "    .dataframe tbody tr th {\n",
       "        vertical-align: top;\n",
       "    }\n",
       "\n",
       "    .dataframe thead th {\n",
       "        text-align: right;\n",
       "    }\n",
       "</style>\n",
       "<table border=\"1\" class=\"dataframe\">\n",
       "  <thead>\n",
       "    <tr style=\"text-align: right;\">\n",
       "      <th></th>\n",
       "      <th>B</th>\n",
       "      <th>D</th>\n",
       "      <th>F</th>\n",
       "    </tr>\n",
       "  </thead>\n",
       "  <tbody>\n",
       "    <tr>\n",
       "      <th>2</th>\n",
       "      <td>B2</td>\n",
       "      <td>D2</td>\n",
       "      <td>F2</td>\n",
       "    </tr>\n",
       "    <tr>\n",
       "      <th>3</th>\n",
       "      <td>B3</td>\n",
       "      <td>D3</td>\n",
       "      <td>F3</td>\n",
       "    </tr>\n",
       "    <tr>\n",
       "      <th>6</th>\n",
       "      <td>B6</td>\n",
       "      <td>D6</td>\n",
       "      <td>F6</td>\n",
       "    </tr>\n",
       "    <tr>\n",
       "      <th>7</th>\n",
       "      <td>B7</td>\n",
       "      <td>D7</td>\n",
       "      <td>F7</td>\n",
       "    </tr>\n",
       "  </tbody>\n",
       "</table>\n",
       "</div>"
      ],
      "text/plain": [
       "    B   D   F\n",
       "2  B2  D2  F2\n",
       "3  B3  D3  F3\n",
       "6  B6  D6  F6\n",
       "7  B7  D7  F7"
      ]
     },
     "execution_count": 26,
     "metadata": {},
     "output_type": "execute_result"
    }
   ],
   "source": [
    "df4 = pd.DataFrame(\n",
    "    {\n",
    "        \"B\": [\"B2\", \"B3\", \"B6\", \"B7\"],\n",
    "        \"D\": [\"D2\", \"D3\", \"D6\", \"D7\"],\n",
    "        \"F\": [\"F2\", \"F3\", \"F6\", \"F7\"],\n",
    "    },\n",
    "    index=[2, 3, 6, 7],\n",
    ")\n",
    "df4"
   ]
  },
  {
   "cell_type": "code",
   "execution_count": 45,
   "id": "b311a4c2",
   "metadata": {},
   "outputs": [
    {
     "data": {
      "text/html": [
       "<div>\n",
       "<style scoped>\n",
       "    .dataframe tbody tr th:only-of-type {\n",
       "        vertical-align: middle;\n",
       "    }\n",
       "\n",
       "    .dataframe tbody tr th {\n",
       "        vertical-align: top;\n",
       "    }\n",
       "\n",
       "    .dataframe thead th {\n",
       "        text-align: right;\n",
       "    }\n",
       "</style>\n",
       "<table border=\"1\" class=\"dataframe\">\n",
       "  <thead>\n",
       "    <tr style=\"text-align: right;\">\n",
       "      <th></th>\n",
       "      <th>A</th>\n",
       "      <th>C</th>\n",
       "      <th>F</th>\n",
       "    </tr>\n",
       "  </thead>\n",
       "  <tbody>\n",
       "    <tr>\n",
       "      <th>0</th>\n",
       "      <td>A0</td>\n",
       "      <td>C0</td>\n",
       "      <td>NaN</td>\n",
       "    </tr>\n",
       "    <tr>\n",
       "      <th>1</th>\n",
       "      <td>A1</td>\n",
       "      <td>C1</td>\n",
       "      <td>NaN</td>\n",
       "    </tr>\n",
       "    <tr>\n",
       "      <th>2</th>\n",
       "      <td>A2</td>\n",
       "      <td>C2</td>\n",
       "      <td>F2</td>\n",
       "    </tr>\n",
       "    <tr>\n",
       "      <th>3</th>\n",
       "      <td>A3</td>\n",
       "      <td>C3</td>\n",
       "      <td>F3</td>\n",
       "    </tr>\n",
       "    <tr>\n",
       "      <th>6</th>\n",
       "      <td>NaN</td>\n",
       "      <td>NaN</td>\n",
       "      <td>F6</td>\n",
       "    </tr>\n",
       "    <tr>\n",
       "      <th>7</th>\n",
       "      <td>NaN</td>\n",
       "      <td>NaN</td>\n",
       "      <td>F7</td>\n",
       "    </tr>\n",
       "  </tbody>\n",
       "</table>\n",
       "</div>"
      ],
      "text/plain": [
       "     A    C    F\n",
       "0   A0   C0  NaN\n",
       "1   A1   C1  NaN\n",
       "2   A2   C2   F2\n",
       "3   A3   C3   F3\n",
       "6  NaN  NaN   F6\n",
       "7  NaN  NaN   F7"
      ]
     },
     "execution_count": 45,
     "metadata": {},
     "output_type": "execute_result"
    }
   ],
   "source": [
    "#result = pd.concat([df1, df4], axis=1)\n",
    "#result = pd.concat([df1[[\"A\",\"C\"]], df4[[\"F\"]]], axis=1)\n",
    "result = pd.concat([df1[[\"A\",\"C\"]], df4.iloc[:,-1]], axis=1)\n",
    "result"
   ]
  },
  {
   "cell_type": "markdown",
   "id": "ff43632c",
   "metadata": {},
   "source": [
    "### Exercise #3\n",
    "\n",
    "Modify the program to display the three plots on top of one another instead of side by side."
   ]
  },
  {
   "cell_type": "code",
   "execution_count": 57,
   "id": "c893499d",
   "metadata": {},
   "outputs": [
    {
     "data": {
      "image/png": "[encoded data removed]",
      "text/plain": [
       "<Figure size 216x720 with 3 Axes>"
      ]
     },
     "metadata": {
      "needs_background": "light"
     },
     "output_type": "display_data"
    }
   ],
   "source": [
    "import numpy\n",
    "import matplotlib.pyplot\n",
    "\n",
    "data = numpy.loadtxt(fname='data/inflammation-01.csv', delimiter=',')\n",
    "\n",
    "# change figsize (swap width and height)\n",
    "fig = matplotlib.pyplot.figure(figsize=(3.0, 10.0))\n",
    "\n",
    "# change add_subplot (swap first two parameters)\n",
    "axes1 = fig.add_subplot(3, 1, 1)\n",
    "axes2 = fig.add_subplot(3, 1, 2)\n",
    "axes3 = fig.add_subplot(3, 1, 3)\n",
    "\n",
    "axes1.set_ylabel('average')\n",
    "axes1.plot(numpy.mean(data, axis=0))\n",
    "\n",
    "axes2.set_ylabel('max')\n",
    "axes2.plot(numpy.max(data, axis=0))\n",
    "\n",
    "axes3.set_ylabel('min')\n",
    "axes3.plot(numpy.min(data, axis=0))\n",
    "\n",
    "fig.tight_layout()\n",
    "\n",
    "matplotlib.pyplot.show()"
   ]
  },
  {
   "cell_type": "markdown",
   "id": "66cc4f09",
   "metadata": {},
   "source": [
    "### Exercise #4\n",
    "\n",
    "Show an scatter diagram to compare GDP of China, and Syria in Asia."
   ]
  },
  {
   "cell_type": "code",
   "execution_count": 58,
   "id": "d75949cd",
   "metadata": {},
   "outputs": [
    {
     "data": {
      "text/html": [
       "<div>\n",
       "<style scoped>\n",
       "    .dataframe tbody tr th:only-of-type {\n",
       "        vertical-align: middle;\n",
       "    }\n",
       "\n",
       "    .dataframe tbody tr th {\n",
       "        vertical-align: top;\n",
       "    }\n",
       "\n",
       "    .dataframe thead th {\n",
       "        text-align: right;\n",
       "    }\n",
       "</style>\n",
       "<table border=\"1\" class=\"dataframe\">\n",
       "  <thead>\n",
       "    <tr style=\"text-align: right;\">\n",
       "      <th></th>\n",
       "      <th>1952</th>\n",
       "      <th>1957</th>\n",
       "      <th>1962</th>\n",
       "      <th>1967</th>\n",
       "      <th>1972</th>\n",
       "      <th>1977</th>\n",
       "      <th>1982</th>\n",
       "      <th>1987</th>\n",
       "      <th>1992</th>\n",
       "      <th>1997</th>\n",
       "      <th>2002</th>\n",
       "      <th>2007</th>\n",
       "    </tr>\n",
       "    <tr>\n",
       "      <th>country</th>\n",
       "      <th></th>\n",
       "      <th></th>\n",
       "      <th></th>\n",
       "      <th></th>\n",
       "      <th></th>\n",
       "      <th></th>\n",
       "      <th></th>\n",
       "      <th></th>\n",
       "      <th></th>\n",
       "      <th></th>\n",
       "      <th></th>\n",
       "      <th></th>\n",
       "    </tr>\n",
       "  </thead>\n",
       "  <tbody>\n",
       "    <tr>\n",
       "      <th>Afghanistan</th>\n",
       "      <td>779.445314</td>\n",
       "      <td>820.853030</td>\n",
       "      <td>853.100710</td>\n",
       "      <td>836.197138</td>\n",
       "      <td>739.981106</td>\n",
       "      <td>786.113360</td>\n",
       "      <td>978.011439</td>\n",
       "      <td>852.395945</td>\n",
       "      <td>649.341395</td>\n",
       "      <td>635.341351</td>\n",
       "      <td>726.734055</td>\n",
       "      <td>974.580338</td>\n",
       "    </tr>\n",
       "    <tr>\n",
       "      <th>Bahrain</th>\n",
       "      <td>9867.084765</td>\n",
       "      <td>11635.799450</td>\n",
       "      <td>12753.275140</td>\n",
       "      <td>14804.672700</td>\n",
       "      <td>18268.658390</td>\n",
       "      <td>19340.101960</td>\n",
       "      <td>19211.147310</td>\n",
       "      <td>18524.024060</td>\n",
       "      <td>19035.579170</td>\n",
       "      <td>20292.016790</td>\n",
       "      <td>23403.559270</td>\n",
       "      <td>29796.048340</td>\n",
       "    </tr>\n",
       "    <tr>\n",
       "      <th>Bangladesh</th>\n",
       "      <td>684.244172</td>\n",
       "      <td>661.637458</td>\n",
       "      <td>686.341554</td>\n",
       "      <td>721.186086</td>\n",
       "      <td>630.233627</td>\n",
       "      <td>659.877232</td>\n",
       "      <td>676.981866</td>\n",
       "      <td>751.979403</td>\n",
       "      <td>837.810164</td>\n",
       "      <td>972.770035</td>\n",
       "      <td>1136.390430</td>\n",
       "      <td>1391.253792</td>\n",
       "    </tr>\n",
       "    <tr>\n",
       "      <th>Cambodia</th>\n",
       "      <td>368.469286</td>\n",
       "      <td>434.038336</td>\n",
       "      <td>496.913648</td>\n",
       "      <td>523.432314</td>\n",
       "      <td>421.624026</td>\n",
       "      <td>524.972183</td>\n",
       "      <td>624.475478</td>\n",
       "      <td>683.895573</td>\n",
       "      <td>682.303175</td>\n",
       "      <td>734.285170</td>\n",
       "      <td>896.226015</td>\n",
       "      <td>1713.778686</td>\n",
       "    </tr>\n",
       "    <tr>\n",
       "      <th>China</th>\n",
       "      <td>400.448611</td>\n",
       "      <td>575.987001</td>\n",
       "      <td>487.674018</td>\n",
       "      <td>612.705693</td>\n",
       "      <td>676.900092</td>\n",
       "      <td>741.237470</td>\n",
       "      <td>962.421380</td>\n",
       "      <td>1378.904018</td>\n",
       "      <td>1655.784158</td>\n",
       "      <td>2289.234136</td>\n",
       "      <td>3119.280896</td>\n",
       "      <td>4959.114854</td>\n",
       "    </tr>\n",
       "  </tbody>\n",
       "</table>\n",
       "</div>"
      ],
      "text/plain": [
       "                    1952          1957          1962          1967  \\\n",
       "country                                                              \n",
       "Afghanistan   779.445314    820.853030    853.100710    836.197138   \n",
       "Bahrain      9867.084765  11635.799450  12753.275140  14804.672700   \n",
       "Bangladesh    684.244172    661.637458    686.341554    721.186086   \n",
       "Cambodia      368.469286    434.038336    496.913648    523.432314   \n",
       "China         400.448611    575.987001    487.674018    612.705693   \n",
       "\n",
       "                     1972          1977          1982          1987  \\\n",
       "country                                                               \n",
       "Afghanistan    739.981106    786.113360    978.011439    852.395945   \n",
       "Bahrain      18268.658390  19340.101960  19211.147310  18524.024060   \n",
       "Bangladesh     630.233627    659.877232    676.981866    751.979403   \n",
       "Cambodia       421.624026    524.972183    624.475478    683.895573   \n",
       "China          676.900092    741.237470    962.421380   1378.904018   \n",
       "\n",
       "                     1992          1997          2002          2007  \n",
       "country                                                              \n",
       "Afghanistan    649.341395    635.341351    726.734055    974.580338  \n",
       "Bahrain      19035.579170  20292.016790  23403.559270  29796.048340  \n",
       "Bangladesh     837.810164    972.770035   1136.390430   1391.253792  \n",
       "Cambodia       682.303175    734.285170    896.226015   1713.778686  \n",
       "China         1655.784158   2289.234136   3119.280896   4959.114854  "
      ]
     },
     "execution_count": 58,
     "metadata": {},
     "output_type": "execute_result"
    }
   ],
   "source": [
    "import pandas as pd\n",
    "data = pd.read_csv('data/gapminder_gdp_asia.csv', index_col='country')\n",
    "years = data.columns.str.strip('gdpPercap_')\n",
    "data.columns = years.astype(int)\n",
    "data.head()"
   ]
  },
  {
   "cell_type": "code",
   "execution_count": 59,
   "id": "8323f3d1",
   "metadata": {},
   "outputs": [],
   "source": [
    "gdp_china = data.loc['China']\n",
    "gdp_syria = data.loc['Syria']"
   ]
  },
  {
   "cell_type": "code",
   "execution_count": 65,
   "id": "d529be21",
   "metadata": {},
   "outputs": [
    {
     "data": {
      "image/png": "[encoded data removed]",
      "text/plain": [
       "<Figure size 432x288 with 1 Axes>"
      ]
     },
     "metadata": {
      "needs_background": "light"
     },
     "output_type": "display_data"
    }
   ],
   "source": [
    "import matplotlib.pyplot as plt\n",
    "\n",
    "plt.plot([gdp_china,])\n",
    "\n",
    "plt.show()"
   ]
  },
  {
   "cell_type": "code",
   "execution_count": null,
   "id": "720c28a4",
   "metadata": {},
   "outputs": [],
   "source": []
  }
 ],
 "metadata": {
  "kernelspec": {
   "display_name": "Python [conda env:msa8010] *",
   "language": "python",
   "name": "conda-env-msa8010-py"
  },
  "language_info": {
   "codemirror_mode": {
    "name": "ipython",
    "version": 3
   },
   "file_extension": ".py",
   "mimetype": "text/x-python",
   "name": "python",
   "nbconvert_exporter": "python",
   "pygments_lexer": "ipython3",
   "version": "3.6.13"
  }
 },
 "nbformat": 4,
 "nbformat_minor": 5
}
