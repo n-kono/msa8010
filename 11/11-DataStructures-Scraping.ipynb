{
 "cells": [
  {
   "cell_type": "markdown",
   "metadata": {
    "slideshow": {
     "slide_type": "slide"
    }
   },
   "source": [
    "# Session11: Python Data Structures and Web Scraping\n",
    "MSA 8010: Data Programming"
   ]
  },
  {
   "cell_type": "markdown",
   "metadata": {
    "slideshow": {
     "slide_type": "slide"
    }
   },
   "source": [
    "Agenda:\n",
    "- Data Structures\n",
    "    - Structured Data (e.g., SQL)\n",
    "    - Unstructured Data\n",
    "        - Text\n",
    "        - Image\n",
    "- Python Data Structures\n",
    "- Regular Expressions\n",
    "- Web Scraping\n",
    "\n",
    "Sources:\n",
    "- https://www.geeksforgeeks.org/what-is-unstructured-data/\n",
    "- [Broucke, et. al. (2018). Practical Web Scraping for Data Science](https://link.springer.com/book/10.1007/978-1-4842-3582-9)\n",
    "- https://www.ibm.com/cloud/blog/structured-vs-unstructured-data\n",
    "- https://realpython.com/python-data-structures/\n",
    "- https://www.w3schools.com/python/python_regex.asp\n",
    "- https://realpython.com/python-web-scraping-practical-introduction/\n",
    "- https://learn.onemonth.com/understanding-http-basics/\n",
    "- https://www.nature.com/articles/d41586-020-02558-0"
   ]
  },
  {
   "cell_type": "markdown",
   "metadata": {
    "slideshow": {
     "slide_type": "slide"
    }
   },
   "source": [
    "### Structured Data\n",
    "\n",
    "- Structured data is clearly defined types of data in a structure.\n",
    "- Structured data lives in rows and columns and it can be mapped into pre-defined fields.\n",
    "- `SQL` (structured query language) is the programming language used to manage structured data. \n",
    "- A `relational database` is a collection of data items with pre-defined relationships between them.\n",
    "    - We usually use SQL to run queries for CRUD (Create, Read, Update, and Delete) operations.\n",
    "    - Sometimes we call a relational database that we can run SQL queries on it a `SQL database`."
   ]
  },
  {
   "cell_type": "markdown",
   "metadata": {
    "slideshow": {
     "slide_type": "slide"
    }
   },
   "source": [
    "### Structured Data: Pros\n",
    "\n",
    "- Easily used by **algortihms**, including machine learning (ML) algorithms.\n",
    "    - The specific and organized architecture of structured data eases manipulation and querying of data.\n",
    "- Easily used by **business users**.\n",
    "    - With a basic understanding of the topic relative to the data, users can easily access and interpret the data.\n",
    "    - It is easier to search and analyze data.\n",
    "- Accessible by **more tools**.\n",
    "    - Since structured data predates unstructured data, there are more tools available for using and analyzing structured data."
   ]
  },
  {
   "cell_type": "markdown",
   "metadata": {
    "slideshow": {
     "slide_type": "slide"
    }
   },
   "source": [
    "### Structured Data: Cons\n",
    "\n",
    "- **Not flexible**. For example, field types (e.g. alpha, numeric, date, currency) should be defined while desiging a database.\n",
    "    - Data with a predefined structure can only be used for its intended purpose, which limits its flexibility and usability.\n",
    "- Often, **we need RDBMS** (Relational Database Management Systems) to store and use structured data.\n",
    "    - Using third party programs to manage data limits tools that work with plain files. (such as reading a file with Python)\n",
    "- **Scalablity is hard**.\n",
    "    - We need advanced strategies and tools to partition structured data on multiple servers."
   ]
  },
  {
   "cell_type": "markdown",
   "metadata": {
    "slideshow": {
     "slide_type": "slide"
    }
   },
   "source": [
    "### Structured Data: Application Examples\n",
    "\n",
    "- Customer Relationship Management (CRM) software\n",
    "- Online Banking\n",
    "- Accounting"
   ]
  },
  {
   "cell_type": "markdown",
   "metadata": {
    "slideshow": {
     "slide_type": "slide"
    }
   },
   "source": [
    "### Structured Data: Tools\n",
    "\n",
    "- MySQL\n",
    "- PostgreSQL\n",
    "- Oracle Database\n",
    "- Microsoft SQL Server\n",
    "- SQLite"
   ]
  },
  {
   "cell_type": "markdown",
   "metadata": {
    "slideshow": {
     "slide_type": "slide"
    }
   },
   "source": [
    "### Unstructured Data\n",
    "\n",
    "- In contrast to structured data, unstructured data doesn’t have a predetermined data model. \n",
    "- Long text, images, videos, voices, and binaries are generally categorized as unstructured data.\n",
    "- Data neither conforms to a data model nor has any structure.\n",
    "- Data has no easily identifiable structure."
   ]
  },
  {
   "cell_type": "markdown",
   "metadata": {
    "slideshow": {
     "slide_type": "slide"
    }
   },
   "source": [
    "### Unstructured Data: Pros\n",
    "\n",
    "- **High flexiblity**, becuase The data is not constrained by a fixed schema. \n",
    "- Unstructured Data is usually stored as **flat files** in hard disks\n",
    "    - It makes data portable and platform-independent.\n",
    "- **Scaliblity is easy**.\n",
    "    - Breaking files to multiple parts and storing them on multiple servers is relatively easy.\n",
    "- It can deal easily with the **heterogeneity of sources**.\n",
    "    - We can read data from multiple sources such as websites, software logs, other databases and store the raw data without much modifications."
   ]
  },
  {
   "cell_type": "markdown",
   "metadata": {
    "slideshow": {
     "slide_type": "slide"
    }
   },
   "source": [
    "### Unstructured Data: Cons\n",
    "\n",
    "- Unlike storing, using unstructured data **requires domain knowledge**.\n",
    "    - Unstructured data, stored in its native format, remains undefined until needed.\n",
    "    - Due to its undefined/non-formatted nature, data science expertise is required to prepare and analyze unstructured data. \n",
    "- **Specialized tools**, or custom codes are required to manipulate unstructure data.\n",
    "    - Based on the usecase, programmers usually need to write codes to modify data.\n",
    "- **Expensive computations** are required to process unstructured data.\n",
    "    - It requires a lot more processing power, and time to extract value out of unstructured Data."
   ]
  },
  {
   "cell_type": "markdown",
   "metadata": {
    "slideshow": {
     "slide_type": "slide"
    }
   },
   "source": [
    "### Unstructured Data: Application Examples\n",
    "\n",
    "- Data mining\n",
    "    - Enables businesses to use unstructured data to identify consumer behavior, product sentiment, and purchasing patterns to better accommodate their customer base.\n",
    "- Chatbots\n",
    "- Gaining information from images and videos (e.g., ship detection in oceans, Astronomy discoveries)"
   ]
  },
  {
   "cell_type": "markdown",
   "metadata": {
    "slideshow": {
     "slide_type": "slide"
    }
   },
   "source": [
    "### Unstructured Data: Tools\n",
    "\n",
    "- Hadoop (HBase, Giraph)\n",
    "    - Provides distributed processing of large data sets using simple programming models and no formatting requirements.\n",
    "- MongoDB\n",
    "    - Unlike relational databases such as SQL Server, Oracle, and MySQL, which store data in tables according to a rigid schema, MongoDB stores data in documents with flexible schema.\n",
    "- Neo4j\n",
    "    - A graph database management system."
   ]
  },
  {
   "cell_type": "markdown",
   "metadata": {
    "slideshow": {
     "slide_type": "slide"
    }
   },
   "source": [
    "### Python Data Structures\n",
    "\n",
    "- Data structures are the fundamental constructs around which you build your programs. \n",
    "- Each data structure provides a particular way of organizing data so it can be accessed efficiently, depending on your use case. \n",
    "- Python ships with an extensive set of data structures in its standard library.\n",
    "- In this session, we review some of the Python's built-in data structures."
   ]
  },
  {
   "cell_type": "markdown",
   "metadata": {
    "slideshow": {
     "slide_type": "slide"
    }
   },
   "source": [
    "### Python Data Structures: Array\n",
    "\n",
    "- An **array** is a fundamental data structure available in most programming languages, and it has a wide range of uses across different algorithms.\n",
    "- A real-world analogy for an array data structure is a parking lot.\n",
    "    - You can look at the parking lot as a whole and treat it as a single object, but inside the lot there are parking spots indexed by a unique number. \n",
    "    - Parking spots are containers for vehicles—each parking spot can either be empty or have a car, a motorbike, or some other vehicle parked on it.\n",
    "- Performance-wise, it’s very fast to look up an element contained in an array given the element’s index. "
   ]
  },
  {
   "cell_type": "markdown",
   "metadata": {
    "slideshow": {
     "slide_type": "slide"
    }
   },
   "source": [
    "#### `list`: Mutable Dynamic Arrays\n",
    "- Lists are a part of the core Python language. Despite their name, Python’s lists are implemented as **dynamic arrays** behind the scenes.\n",
    "    - This means a list allows elements to be added or removed, and the list will automatically adjust the backing store that holds these elements by allocating or releasing memory.\n",
    "- Python lists can hold arbitrary elements—everything is an object in Python, including functions. \n",
    "    - Therefore, you can mix and match different kinds of data types and store them all in a single list."
   ]
  },
  {
   "cell_type": "code",
   "execution_count": 1,
   "metadata": {
    "slideshow": {
     "slide_type": "slide"
    }
   },
   "outputs": [
    {
     "name": "stdout",
     "output_type": "stream",
     "text": [
      "one\n",
      "['one', 'two', 'three']\n"
     ]
    }
   ],
   "source": [
    "arr = ['one', 'two', 'three']\n",
    "\n",
    "print(arr[0])\n",
    "print(arr)"
   ]
  },
  {
   "cell_type": "code",
   "execution_count": 2,
   "metadata": {
    "slideshow": {
     "slide_type": "slide"
    }
   },
   "outputs": [
    {
     "name": "stdout",
     "output_type": "stream",
     "text": [
      "['one', 'hello', 'three']\n",
      "['one', 'three']\n",
      "['one', 'three', 23]\n"
     ]
    }
   ],
   "source": [
    "# Lists are mutable:\n",
    "arr[1] = 'hello'\n",
    "print(arr)\n",
    "\n",
    "del arr[1]\n",
    "print(arr)\n",
    "\n",
    "arr.append(23) # Lists can hold arbitrary data types\n",
    "print(arr)"
   ]
  },
  {
   "cell_type": "markdown",
   "metadata": {
    "slideshow": {
     "slide_type": "slide"
    }
   },
   "source": [
    "#### `tuple`: Immutable Containers\n",
    "- Just like lists, tuples are part of the Python core language. \n",
    "    - Unlike lists, however, Python’s tuple objects are immutable. \n",
    "    - This means elements can’t be added or removed dynamically.\n",
    "    - All elements in a tuple must be defined at creation time.\n",
    "- Tuples are another data structure that can hold elements of arbitrary data types."
   ]
  },
  {
   "cell_type": "code",
   "execution_count": 3,
   "metadata": {
    "slideshow": {
     "slide_type": "slide"
    }
   },
   "outputs": [
    {
     "name": "stdout",
     "output_type": "stream",
     "text": [
      "one\n",
      "('one', 'two', 'three')\n"
     ]
    }
   ],
   "source": [
    "arr = ('one', 'two', 'three')\n",
    "\n",
    "print(arr[0])\n",
    "print(arr)"
   ]
  },
  {
   "cell_type": "code",
   "execution_count": 4,
   "metadata": {
    "slideshow": {
     "slide_type": "slide"
    }
   },
   "outputs": [],
   "source": [
    "# Tuples are immutable:\n",
    "# arr[1] = 'hello'\n",
    "# del arr[1]"
   ]
  },
  {
   "cell_type": "code",
   "execution_count": 5,
   "metadata": {
    "slideshow": {
     "slide_type": "slide"
    }
   },
   "outputs": [
    {
     "data": {
      "text/plain": [
       "('one', 'two', 'three', 23)"
      ]
     },
     "execution_count": 5,
     "metadata": {},
     "output_type": "execute_result"
    }
   ],
   "source": [
    "# Tuples can hold arbitrary data types:\n",
    "# (Adding elements creates a copy of the tuple)\n",
    "arr + (23,)"
   ]
  },
  {
   "cell_type": "markdown",
   "metadata": {
    "slideshow": {
     "slide_type": "slide"
    }
   },
   "source": [
    "`Dictionary`: <b>Mutable Key-Value Pairs</b>\n",
    "\n",
    "- In Python, dictionaries (or **dicts** for short) are a central data structure. \n",
    "- Dictionaries store an arbitrary number of objects, each identified by a unique dictionary **key**.\n",
    "- Dictionaries **values** can hold elements of arbitrary data types.\n",
    "- Phone books make a decent real-world analog for dictionary objects.\n",
    "    - They allow you to quickly retrieve the information (phone number) associated with a given key (a person’s name).\n",
    "    - You can jump more or less directly to a name and look up the associated information.`"
   ]
  },
  {
   "cell_type": "code",
   "execution_count": 6,
   "metadata": {
    "slideshow": {
     "slide_type": "slide"
    }
   },
   "outputs": [
    {
     "name": "stdout",
     "output_type": "stream",
     "text": [
      "3719\n"
     ]
    }
   ],
   "source": [
    "phonebook = {\n",
    "    'bob': 7387,\n",
    "    'alice': 3719,\n",
    "    'jack': 7052,\n",
    "}\n",
    "\n",
    "print(phonebook['alice'])"
   ]
  },
  {
   "cell_type": "code",
   "execution_count": 7,
   "metadata": {},
   "outputs": [
    {
     "name": "stdout",
     "output_type": "stream",
     "text": [
      "{'home': 7052, 'cell': [1512, 5123], 'fax': 1551}\n"
     ]
    }
   ],
   "source": [
    "phonebook = {\n",
    "    'bob': {'home': 7387,\n",
    "            'cell': 5123},\n",
    "    'alice': {'home': 3719},\n",
    "    'jack': {'home': 7052,\n",
    "             'cell': [1512, 5123],\n",
    "             'fax': 1551},\n",
    "}\n",
    "\n",
    "print(phonebook.get('jack'))"
   ]
  },
  {
   "cell_type": "code",
   "execution_count": 8,
   "metadata": {
    "scrolled": true,
    "slideshow": {
     "slide_type": "slide"
    }
   },
   "outputs": [
    {
     "name": "stdout",
     "output_type": "stream",
     "text": [
      "{0: 0, 1: 1, 2: 4, 3: 9, 4: 16, 5: 25}\n"
     ]
    }
   ],
   "source": [
    "squares = {x: x * x for x in range(6)}\n",
    "\n",
    "print(squares)"
   ]
  },
  {
   "cell_type": "markdown",
   "metadata": {
    "slideshow": {
     "slide_type": "slide"
    }
   },
   "source": [
    "**Exercise 1:** Given the dictionary provided below, try to do the followings:\n",
    "\n",
    "- Add a key to inventory called _pocket_ with the value of:\n",
    "    - a list consisting of the strings 'seashell', 'strange berry', and 'lint'.\n",
    "- Add 50 to the number stored under the _gold_ key.\n",
    "- Print the dictionary."
   ]
  },
  {
   "cell_type": "code",
   "execution_count": 9,
   "metadata": {
    "slideshow": {
     "slide_type": "fragment"
    }
   },
   "outputs": [],
   "source": [
    "inventory = {\n",
    "    'gold' : 500,\n",
    "    'pouch' : ['flint', 'twine', 'gemstone'],\n",
    "    'backpack' : ['xylophone','dagger', 'bedroll','bread loaf']\n",
    "}"
   ]
  },
  {
   "cell_type": "markdown",
   "metadata": {
    "slideshow": {
     "slide_type": "slide"
    }
   },
   "source": [
    "### Python Data Structures: Sets and Multisets\n",
    "\n",
    "- A set is an unordered collection of objects that doesn’t allow duplicate elements. \n",
    "- Typically, sets are used to:\n",
    "    - quickly test a value for membership in the set,\n",
    "    - to insert or delete new values from a set,\n",
    "    - and to compute the union or intersection of two sets.\n",
    "\n",
    "- The set implementations included in Python’s standard library follow high performance characteristics."
   ]
  },
  {
   "cell_type": "code",
   "execution_count": 10,
   "metadata": {
    "slideshow": {
     "slide_type": "slide"
    }
   },
   "outputs": [
    {
     "name": "stdout",
     "output_type": "stream",
     "text": [
      "{'e', 'o', 'a', 'i', 'u'}\n",
      "{0, 1, 64, 4, 36, 9, 16, 49, 81, 25}\n"
     ]
    }
   ],
   "source": [
    "# The curly-brace set expression syntax and set comprehensions \n",
    "# allow you to conveniently define new set instances:\n",
    "vowels = {'a', 'e', 'i', 'o', 'u'}\n",
    "print(vowels)\n",
    "\n",
    "squares = {x * x for x in range(10)}\n",
    "print(squares)"
   ]
  },
  {
   "cell_type": "markdown",
   "metadata": {
    "slideshow": {
     "slide_type": "slide"
    }
   },
   "source": [
    "**Note:** \n",
    "- To create an empty **set** you’ll need to call the `set()` constructor. \n",
    "- Using empty curly-braces `{}` is ambiguous and will create an empty **dictionary** instead."
   ]
  },
  {
   "cell_type": "code",
   "execution_count": 11,
   "metadata": {
    "slideshow": {
     "slide_type": "slide"
    }
   },
   "outputs": [
    {
     "name": "stdout",
     "output_type": "stream",
     "text": [
      "True\n",
      "Letters: {'e', 'l', 'a', 'c', 'i'}\n",
      "Intersection: {'a', 'i', 'e'}\n",
      "{'e', 'o', 'a', 'x', 'i', 'u'}\n",
      "6\n"
     ]
    }
   ],
   "source": [
    "vowels = {'a', 'e', 'i', 'o', 'u'}\n",
    "print('e' in vowels)\n",
    "\n",
    "letters = set('alice')\n",
    "print('Letters:'', letters)\n",
    "print('Intersection:'', letters.intersection(vowels))\n",
    "\n",
    "vowels.add('x')\n",
    "print(vowels)\n",
    "\n",
    "print(len(vowels))"
   ]
  },
  {
   "cell_type": "markdown",
   "metadata": {
    "slideshow": {
     "slide_type": "slide"
    }
   },
   "source": [
    "#### `collections.Counter`: Multisets\n",
    "\n",
    "- The collections.Counter class in the Python standard library implements a multiset, or bag.\n",
    "- This type allows elements in the `set` to have more than one occurrence.\n",
    "- This is useful if you need to keep track of not only _if_ an element is part of a `set`, but also _how many times_ it’s included in the set."
   ]
  },
  {
   "cell_type": "code",
   "execution_count": 12,
   "metadata": {
    "slideshow": {
     "slide_type": "slide"
    }
   },
   "outputs": [
    {
     "name": "stdout",
     "output_type": "stream",
     "text": [
      "Counter({'bread': 3, 'sword': 1})\n",
      "Counter({'bread': 3, 'sword': 2, 'apple': 1})\n",
      "Unique Elements: 3\n",
      "Total no. of elements: 6\n"
     ]
    }
   ],
   "source": [
    "from collections import Counter\n",
    "inventory = Counter()\n",
    "\n",
    "loot = {'sword': 1, 'bread': 3}\n",
    "inventory.update(loot)\n",
    "print(inventory)\n",
    "\n",
    "more_loot = {'sword': 1, 'apple': 1}\n",
    "inventory.update(more_loot)\n",
    "print(inventory)\n",
    "\n",
    "print('Unique Elements:', len(inventory))\n",
    "print('Total no. of elements:', sum(inventory.values()))"
   ]
  },
  {
   "cell_type": "markdown",
   "metadata": {
    "slideshow": {
     "slide_type": "slide"
    }
   },
   "source": [
    "### Regular Expressions\n",
    "- On an abstract level a regular expression, regex for short, is a shorthand representation for a set:\n",
    "    - A set of strings.\n",
    "- Regular expressions are useful in any scenario that benefits from full or partial pattern matches on strings.\n",
    "\n"
   ]
  },
  {
   "cell_type": "markdown",
   "metadata": {
    "slideshow": {
     "slide_type": "slide"
    }
   },
   "source": [
    "### Regular Expressions: Online Testing\n",
    "\n",
    "- A quick way to test regular expressions on short texts is to use online tools such as:\n",
    "    - https://pythex.org/\n",
    "    - https://regex101.com/\n"
   ]
  },
  {
   "cell_type": "markdown",
   "metadata": {
    "slideshow": {
     "slide_type": "slide"
    }
   },
   "source": [
    "### Regular Expressions: Example Applications\n",
    "\n",
    "- Verify the structure of strings (e.g., mailing addresses)\n",
    "- Extract substrings form structured strings\n",
    "- Search, replace, and rearrange parts of the string\n",
    "- Split a string into tokens\n"
   ]
  },
  {
   "cell_type": "markdown",
   "metadata": {
    "slideshow": {
     "slide_type": "slide"
    }
   },
   "source": [
    "### Regular Expressions in Python\n",
    "\n",
    "- The Python's `re` module offers a set of functions that allows us to search a string for a match:\n",
    "    - `findall`\tReturns a list containing all matches\n",
    "    - `search`\tReturns a Match object if there is a match anywhere in the string\n",
    "    - `split`\tReturns a list where the string has been split at each match\n",
    "    - `sub` \tReplaces one or many matches with a string\n"
   ]
  },
  {
   "cell_type": "markdown",
   "metadata": {
    "slideshow": {
     "slide_type": "slide"
    }
   },
   "source": [
    "### Regular Expressions: The Main Building Blocks\n",
    "\n",
    "- Literals\n",
    "- Character Classes/Sets\n",
    "- Quantifiers\n",
    "- Groups"
   ]
  },
  {
   "cell_type": "markdown",
   "metadata": {
    "slideshow": {
     "slide_type": "slide"
    }
   },
   "source": [
    "#### Literals\n",
    "\n",
    "- The most basic building block in a regular expression is a character a.k.a. literal. \n",
    "- Most characters in a regex pattern do not have a special meaning, they simply match themselves.\n",
    "\n",
    "- Example: finding `test`\n",
    "    - Text: \"We are <ins>test</ins>ing a regular expression\""
   ]
  },
  {
   "cell_type": "markdown",
   "metadata": {
    "slideshow": {
     "slide_type": "slide"
    }
   },
   "source": [
    "#### The `findall()` Function\n",
    "\n",
    "- The `findall()` function returns a list containing all matches.\n"
   ]
  },
  {
   "cell_type": "code",
   "execution_count": 13,
   "metadata": {
    "slideshow": {
     "slide_type": "slide"
    }
   },
   "outputs": [
    {
     "data": {
      "text/plain": [
       "['test']"
      ]
     },
     "execution_count": 13,
     "metadata": {},
     "output_type": "execute_result"
    }
   ],
   "source": [
    "# literals\n",
    "import re\n",
    "text = 'We are testing a regular expression'\n",
    "re.findall(r\"test\", text)"
   ]
  },
  {
   "cell_type": "code",
   "execution_count": 14,
   "metadata": {},
   "outputs": [
    {
     "name": "stdout",
     "output_type": "stream",
     "text": [
      "['ai', 'ai']\n"
     ]
    }
   ],
   "source": [
    "import re\n",
    "\n",
    "txt = 'The rain in Spain'\n",
    "x = re.findall(r\"ai\", txt)\n",
    "print(x)"
   ]
  },
  {
   "cell_type": "markdown",
   "metadata": {
    "slideshow": {
     "slide_type": "slide"
    }
   },
   "source": [
    "#### Character Classes/Sets\n",
    "- A set is a set of characters inside a pair of square brackets `[]` with a special meaning. \n",
    "- Character classes are used to define a set of allowed characters. \n",
    "- The set of allowed characters is put in square brackets.\n",
    "- The character class `[abcdef]` is equivalent to `(a|b|c|d|e|f)`. \n",
    "- Since the class contains alternatives, it matches exactly one character."
   ]
  },
  {
   "cell_type": "code",
   "execution_count": 15,
   "metadata": {
    "slideshow": {
     "slide_type": "slide"
    }
   },
   "outputs": [
    {
     "name": "stdout",
     "output_type": "stream",
     "text": [
      "['r', 'a', 'n', 'n', 'a', 'n']\n",
      "Yes, there is at least one match!\n"
     ]
    }
   ],
   "source": [
    "# [arn] \tReturns a match where one of the specified characters (a, r, or n) are present.\n",
    "import re\n",
    "\n",
    "txt = 'The rain in Spain'\n",
    "\n",
    "#Check if the string has any a, r, or n characters:\n",
    "x = re.findall(r\"[arn]\", txt)\n",
    "\n",
    "print(x)\n",
    "\n",
    "if x:\n",
    "    print('Yes, there is at least one match!')\n",
    "else:\n",
    "    print('No match')"
   ]
  },
  {
   "cell_type": "code",
   "execution_count": 16,
   "metadata": {
    "slideshow": {
     "slide_type": "slide"
    }
   },
   "outputs": [
    {
     "name": "stdout",
     "output_type": "stream",
     "text": [
      "['h', 'e', 'a', 'i', 'n', 'i', 'n', 'a', 'i', 'n']\n",
      "Yes, there is at least one match!\n"
     ]
    }
   ],
   "source": [
    "# [arn] \tReturns a match where one of the specified characters between a and n are present.\n",
    "import re\n",
    "\n",
    "txt = 'The rain in Spain'\n",
    "\n",
    "#Check if the string has any a, r, or n characters:\n",
    "x = re.findall(r\"[abcdefghijklmn]\", txt)\n",
    "\n",
    "print(x)\n",
    "\n",
    "if x:\n",
    "    print('Yes, there is at least one match!')\n",
    "else:\n",
    "    print('No match')"
   ]
  },
  {
   "cell_type": "code",
   "execution_count": 17,
   "metadata": {
    "slideshow": {
     "slide_type": "slide"
    }
   },
   "outputs": [
    {
     "name": "stdout",
     "output_type": "stream",
     "text": [
      "['h', 'e', 'a', 'i', 'n', 'i', 'n', 'a', 'i', 'n']\n",
      "Yes, there is at least one match!\n"
     ]
    }
   ],
   "source": [
    "# [a-n] \tReturns a match for any lower case character, alphabetically between a and n\n",
    "import re\n",
    "\n",
    "txt = \"The rain in Spain\"\n",
    "\n",
    "#Check if the string has any characters between a and n:\n",
    "\n",
    "x = re.findall(r\"[a-n]\", txt)\n",
    "\n",
    "print(x)\n",
    "\n",
    "if x:\n",
    "    print('Yes, there is at least one match!')\n",
    "else:\n",
    "    print('No match')\n"
   ]
  },
  {
   "cell_type": "code",
   "execution_count": 18,
   "metadata": {
    "slideshow": {
     "slide_type": "slide"
    }
   },
   "outputs": [
    {
     "name": "stdout",
     "output_type": "stream",
     "text": [
      "['T', ' ', 'r', ' ', ' ', 'S', 'p']\n",
      "Yes, there is at least one match!\n"
     ]
    }
   ],
   "source": [
    "# [^arn]\tReturns a match for any character EXCEPT a, r, and n\n",
    "import re\n",
    "\n",
    "txt = 'The rain in Spain'\n",
    "\n",
    "#Check if the string has other characters than a, r, or n:\n",
    "\n",
    "x = re.findall(r\"[^a-n]\", txt)\n",
    "\n",
    "print(x)\n",
    "\n",
    "if x:\n",
    "    print('Yes, there is at least one match!')\n",
    "else:\n",
    "    print('No match')\n"
   ]
  },
  {
   "cell_type": "code",
   "execution_count": 19,
   "metadata": {
    "slideshow": {
     "slide_type": "slide"
    }
   },
   "outputs": [
    {
     "name": "stdout",
     "output_type": "stream",
     "text": [
      "[]\n",
      "No match\n"
     ]
    }
   ],
   "source": [
    "# [0123]\tReturns a match where any of the specified digits (0, 1, 2, or 3) are present\n",
    "import re\n",
    "\n",
    "txt = 'The rain in Spain'\n",
    "\n",
    "#Check if the string has any 0, 1, 2, or 3 digits:\n",
    "\n",
    "x = re.findall(r\"[0123]\", txt)\n",
    "\n",
    "print(x)\n",
    "\n",
    "if x:\n",
    "    print('Yes, there is at least one match!')\n",
    "else:\n",
    "    print('No match')\n"
   ]
  },
  {
   "cell_type": "code",
   "execution_count": 20,
   "metadata": {
    "slideshow": {
     "slide_type": "slide"
    }
   },
   "outputs": [
    {
     "name": "stdout",
     "output_type": "stream",
     "text": [
      "['8', '1', '1', '4', '5']\n",
      "Yes, there is at least one match!\n"
     ]
    }
   ],
   "source": [
    "# [0-9] \tReturns a match for any digit between 0 and 9\n",
    "import re\n",
    "\n",
    "txt = '8 times before 11:45 AM'\n",
    "\n",
    "#Check if the string has any digits:\n",
    "\n",
    "x = re.findall(r\"[0-9]\", txt)\n",
    "\n",
    "print(x)\n",
    "\n",
    "if x:\n",
    "    print('Yes, there is at least one match!')\n",
    "else:\n",
    "    print('No match')\n"
   ]
  },
  {
   "cell_type": "code",
   "execution_count": 21,
   "metadata": {
    "slideshow": {
     "slide_type": "slide"
    }
   },
   "outputs": [
    {
     "name": "stdout",
     "output_type": "stream",
     "text": [
      "['11', '45']\n",
      "Yes, there is at least one match!\n"
     ]
    }
   ],
   "source": [
    "# [0-5][0-9]\tReturns a match for any two-digit numbers from 00 and 59\n",
    "import re\n",
    "\n",
    "txt = '8 times before 11:45 AM'\n",
    "\n",
    "#Check if the string has any two-digit numbers, from 00 to 59:\n",
    "\n",
    "x = re.findall(r\"[0-5][0-9]\", txt)\n",
    "\n",
    "print(x)\n",
    "\n",
    "if x:\n",
    "    print('Yes, there is at least one match!')\n",
    "else:\n",
    "    print('No match')\n"
   ]
  },
  {
   "cell_type": "code",
   "execution_count": 22,
   "metadata": {
    "slideshow": {
     "slide_type": "slide"
    }
   },
   "outputs": [
    {
     "name": "stdout",
     "output_type": "stream",
     "text": [
      "['t', 'i', 'm', 'e', 's', 'b', 'e', 'f', 'o', 'r', 'e', 'A', 'M']\n",
      "Yes, there is at least one match!\n"
     ]
    }
   ],
   "source": [
    "# [a-zA-Z]\tReturns a match for any character alphabetically between a and z, lower case OR upper case\n",
    "import re\n",
    "\n",
    "txt = '8 times before 11:45 AM'\n",
    "\n",
    "#Check if the string has any characters from a to z lower case, and A to Z upper case:\n",
    "\n",
    "x = re.findall(r\"[a-zA-Z]\", txt)\n",
    "\n",
    "print(x)\n",
    "\n",
    "if x:\n",
    "    print('Yes, there is at least one match!')\n",
    "else:\n",
    "    print('No match')\n"
   ]
  },
  {
   "cell_type": "markdown",
   "metadata": {
    "slideshow": {
     "slide_type": "slide"
    }
   },
   "source": [
    "#### Boundary Matchers \n",
    "\n",
    "- They match the positions between characters.\n",
    "- The most common anchors are `^` and `$`.\n",
    "    - `^`: Matches the beginning of a line.\n",
    "    - `$`: Matches the end of a line.\n"
   ]
  },
  {
   "cell_type": "code",
   "execution_count": 23,
   "metadata": {
    "slideshow": {
     "slide_type": "slide"
    }
   },
   "outputs": [
    {
     "name": "stdout",
     "output_type": "stream",
     "text": [
      "Yes, the string starts with hello\n"
     ]
    }
   ],
   "source": [
    "# ^ \tStarts with\n",
    "import re\n",
    "\n",
    "txt = 'hello planet'\n",
    "\n",
    "#Check if the string starts with 'hello':\n",
    "\n",
    "x = re.findall(r\"^hello\", txt)\n",
    "\n",
    "if x:\n",
    "    print(f\"Yes, the string starts with {x[0]}\")\n",
    "else:\n",
    "    print('No match')\n"
   ]
  },
  {
   "cell_type": "code",
   "execution_count": 24,
   "metadata": {
    "slideshow": {
     "slide_type": "slide"
    }
   },
   "outputs": [
    {
     "name": "stdout",
     "output_type": "stream",
     "text": [
      "Yes, the string ends with planet\n"
     ]
    }
   ],
   "source": [
    "# ^ \tStarts with\n",
    "import re\n",
    "\n",
    "txt = 'hello planet'\n",
    "\n",
    "#Check if the string starts with 'hello':\n",
    "\n",
    "x = re.findall(r\"planet$\", txt)\n",
    "\n",
    "if x:\n",
    "    print(f\"Yes, the string ends with {x[0]}\")\n",
    "else:\n",
    "    print('No match')\n"
   ]
  },
  {
   "cell_type": "markdown",
   "metadata": {
    "slideshow": {
     "slide_type": "slide"
    }
   },
   "source": [
    "#### Quantifiers\n",
    "\n",
    "- Any literal or character group matches the occurrence of exactly one character.\n",
    "- Using quantifiers, we can overcome this limitation.\n",
    "- The pattern `[0–9][0–9]` matches exactly two digits.\n",
    "- `[0-9]{2}` has the same meaning.\n",
    "- `[0-9]{2,6}` means any 2 to 6 digit number.\n"
   ]
  },
  {
   "cell_type": "markdown",
   "metadata": {
    "slideshow": {
     "slide_type": "slide"
    }
   },
   "source": [
    "### Metacharacters\n",
    "Metacharacters are characters with a special meaning."
   ]
  },
  {
   "cell_type": "code",
   "execution_count": 25,
   "metadata": {
    "slideshow": {
     "slide_type": "slide"
    }
   },
   "outputs": [
    {
     "name": "stdout",
     "output_type": "stream",
     "text": [
      "['hello']\n"
     ]
    }
   ],
   "source": [
    "# . \tAny character (except newline character)\n",
    "import re\n",
    "\n",
    "txt = 'hello planet'\n",
    "\n",
    "#Search for a sequence that starts with \"he\", followed by two (any) characters, and an \"o\":\n",
    "\n",
    "x = re.findall(r\"he..o\", txt)\n",
    "print(x)"
   ]
  },
  {
   "cell_type": "code",
   "execution_count": 26,
   "metadata": {
    "slideshow": {
     "slide_type": "slide"
    }
   },
   "outputs": [
    {
     "name": "stdout",
     "output_type": "stream",
     "text": [
      "[]\n"
     ]
    }
   ],
   "source": [
    "# ? \tZero or one occurrences\n",
    "import re\n",
    "\n",
    "txt = 'hello planet'\n",
    "\n",
    "#Search for a sequence that starts with \"he\", followed by 0 or 1  (any) character, and an \"o\":\n",
    "\n",
    "x = re.findall(r\"he.?o\", txt)\n",
    "\n",
    "print(x)\n",
    "\n",
    "#This time we got no match, because there were not zero, not one, but two characters between \"he\" and the \"o\"\n"
   ]
  },
  {
   "cell_type": "code",
   "execution_count": 27,
   "metadata": {
    "slideshow": {
     "slide_type": "slide"
    }
   },
   "outputs": [
    {
     "name": "stdout",
     "output_type": "stream",
     "text": [
      "['hello']\n"
     ]
    }
   ],
   "source": [
    "# * \tZero or more occurrences\n",
    "import re\n",
    "\n",
    "txt = 'hello planet'\n",
    "\n",
    "#Search for a sequence that starts with \"he\", followed by 0 or more  (any) characters, and an \"o\":\n",
    "\n",
    "x = re.findall(r\"he.*o\", txt)\n",
    "\n",
    "print(x)\n"
   ]
  },
  {
   "cell_type": "code",
   "execution_count": 28,
   "metadata": {
    "slideshow": {
     "slide_type": "slide"
    }
   },
   "outputs": [
    {
     "name": "stdout",
     "output_type": "stream",
     "text": [
      "['hello']\n"
     ]
    }
   ],
   "source": [
    "# + \tOne or more occurrences\n",
    "import re\n",
    "\n",
    "txt = 'hello planet'\n",
    "\n",
    "#Search for a sequence that starts with \"he\", followed by 1 or more  (any) characters, and an \"o\":\n",
    "\n",
    "x = re.findall(r\"he.+o\", txt)\n",
    "\n",
    "print(x)\n"
   ]
  },
  {
   "cell_type": "code",
   "execution_count": 29,
   "metadata": {
    "slideshow": {
     "slide_type": "slide"
    }
   },
   "outputs": [
    {
     "name": "stdout",
     "output_type": "stream",
     "text": [
      "[]\n",
      "No match\n"
     ]
    }
   ],
   "source": [
    "# [+]\tIn sets, +, *, ., |, (), $,{} has no special meaning\n",
    "# , so [+] means: return a match for any + character in the string\n",
    "import re\n",
    "\n",
    "txt = '8 times before 11:45 AM'\n",
    "\n",
    "#Check if the string has any + characters:\n",
    "\n",
    "x = re.findall(r\"[+]\", txt)\n",
    "\n",
    "print(x)\n",
    "\n",
    "if x:\n",
    "    print('Yes, there is at least one match!')\n",
    "else:\n",
    "    print('No match')\n"
   ]
  },
  {
   "cell_type": "code",
   "execution_count": 30,
   "metadata": {
    "slideshow": {
     "slide_type": "slide"
    }
   },
   "outputs": [
    {
     "name": "stdout",
     "output_type": "stream",
     "text": [
      "['5', '9']\n"
     ]
    }
   ],
   "source": [
    "# \\\tSignals a special sequence (can also be used to escape special characters)\n",
    "import re\n",
    "\n",
    "txt = 'That will be 59 dollars'\n",
    "\n",
    "#Find all digit characters:\n",
    "\n",
    "x = re.findall(r\"\\d\", txt)\n",
    "print(x)"
   ]
  },
  {
   "cell_type": "code",
   "execution_count": 31,
   "metadata": {
    "slideshow": {
     "slide_type": "slide"
    }
   },
   "outputs": [
    {
     "name": "stdout",
     "output_type": "stream",
     "text": [
      "['falls']\n",
      "Yes, there is at least one match!\n"
     ]
    }
   ],
   "source": [
    "# | \tEither or\n",
    "import re\n",
    "\n",
    "txt = 'The rain in Spain falls mainly in the plain!''\n",
    "\n",
    "#Check if the string contains either \"falls\" or \"stays\":\n",
    "\n",
    "x = re.findall(r\"falls|stays\", txt)\n",
    "\n",
    "print(x)\n",
    "\n",
    "if x:\n",
    "    print('Yes, there is at least one match!')\n",
    "else:\n",
    "    print('No match')\n"
   ]
  },
  {
   "cell_type": "code",
   "execution_count": 32,
   "metadata": {
    "scrolled": true,
    "slideshow": {
     "slide_type": "slide"
    }
   },
   "outputs": [
    {
     "name": "stdout",
     "output_type": "stream",
     "text": [
      "['hello']\n"
     ]
    }
   ],
   "source": [
    "# {}\tExactly the specified number of occurrences\n",
    "import re\n",
    "\n",
    "txt = 'hello planet'\n",
    "\n",
    "#Search for a sequence that starts with \"he\", followed excactly 2 (any) characters, and an \"o\":\n",
    "\n",
    "x = re.findall(r\"he.{2}o\", txt)\n",
    "\n",
    "print(x)\n"
   ]
  },
  {
   "cell_type": "markdown",
   "metadata": {
    "slideshow": {
     "slide_type": "slide"
    }
   },
   "source": [
    "**Exercise 2:** Write a program to extract numbers from the string below. (use the `re.findall()` function)"
   ]
  },
  {
   "cell_type": "code",
   "execution_count": 33,
   "metadata": {
    "slideshow": {
     "slide_type": "fragment"
    }
   },
   "outputs": [],
   "source": [
    "import re\n",
    "string = 'hello 12 hi 89. Howdy 34'"
   ]
  },
  {
   "cell_type": "markdown",
   "metadata": {
    "slideshow": {
     "slide_type": "slide"
    }
   },
   "source": [
    "#### Groups\n",
    "\n",
    "- You can group sub-patterns in sections enclosed in round brackets. \n",
    "- Grouping parts of a pattern has several uses:\n",
    "    - Simplify regex notation, making intent clerer\n",
    "    - Apply quantifiers to sub-expressions\n",
    "    - Extract or replace sub-strings matching a group\n",
    "    \n",
    "- For Example, To match William Turner, and Bull Turner:\n",
    "    - `(William|Bill) Turner`"
   ]
  },
  {
   "cell_type": "markdown",
   "metadata": {
    "slideshow": {
     "slide_type": "slide"
    }
   },
   "source": [
    "#### The `search()` Function\n",
    "The search() function searches the string for a match, and returns a `Match` object if there is a match.\n",
    "\n",
    "If there is more than one match, only the first occurrence of the match will be returned."
   ]
  },
  {
   "cell_type": "code",
   "execution_count": 34,
   "metadata": {},
   "outputs": [
    {
     "name": "stdout",
     "output_type": "stream",
     "text": [
      "<re.Match object; span=(3, 4), match=' '>\n",
      "The first white-space character is located in position: 3\n"
     ]
    }
   ],
   "source": [
    "# Search for the first white-space character in the string\n",
    "import re\n",
    "\n",
    "txt = 'The rain in Spain'\n",
    "x = re.search(r\"\\s\", txt)\n",
    "\n",
    "print(x)\n",
    "print('The first white-space character is located in position:', x.start())"
   ]
  },
  {
   "cell_type": "markdown",
   "metadata": {
    "slideshow": {
     "slide_type": "slide"
    }
   },
   "source": [
    "#### The `split()` Function\n",
    "\n",
    "The `split()` function returns a list where the string has been split at each match."
   ]
  },
  {
   "cell_type": "code",
   "execution_count": 35,
   "metadata": {},
   "outputs": [
    {
     "name": "stdout",
     "output_type": "stream",
     "text": [
      "['The', 'rain', 'in', 'Spain']\n"
     ]
    }
   ],
   "source": [
    "# Split at each white-space character:\n",
    "\n",
    "import re\n",
    "\n",
    "txt = 'The rain in Spain'\n",
    "x = re.split(r\"\\s\", txt)\n",
    "print(x)"
   ]
  },
  {
   "cell_type": "markdown",
   "metadata": {
    "slideshow": {
     "slide_type": "slide"
    }
   },
   "source": [
    "#### The `sub()` Function\n",
    "The `sub()` function replaces the matches with the text of your choice:"
   ]
  },
  {
   "cell_type": "code",
   "execution_count": 36,
   "metadata": {},
   "outputs": [
    {
     "name": "stdout",
     "output_type": "stream",
     "text": [
      "The9rain9in9Spain\n"
     ]
    }
   ],
   "source": [
    "# Replace every white-space character with the number 9:\n",
    "\n",
    "import re\n",
    "\n",
    "txt = 'The rain in Spain'\n",
    "x = re.sub(r\"\\s\", \"9\", txt)\n",
    "print(x)"
   ]
  },
  {
   "cell_type": "markdown",
   "metadata": {
    "slideshow": {
     "slide_type": "slide"
    }
   },
   "source": [
    "### HTML\n",
    "\n",
    "- Hyper Text Markup Language (HTML) is a type of markup language.\n",
    "- It is used to make webpages. \n",
    "- HTML tells web browsers how to display contents.\n"
   ]
  },
  {
   "cell_type": "markdown",
   "metadata": {
    "slideshow": {
     "slide_type": "slide"
    }
   },
   "source": [
    "### HTML: Tags\n",
    "\n",
    "- HTML uses \"elements\" to let the browser know how a webpage is made of. \n",
    "- Elements are shown as \"tags\" in the code, written with angle brackets: `<example>`. \n",
    "- Tags usually come in pairs: \n",
    "    - an opening tag defines the start of a block of content\n",
    "    - a closing tag defines the end of that block of content.\n",
    "- Example: `<p>This is a paragraph</p>`"
   ]
  },
  {
   "cell_type": "raw",
   "metadata": {
    "slideshow": {
     "slide_type": "slide"
    }
   },
   "source": [
    "<!DOCTYPE html>\n",
    "<html>\n",
    "<head>\n",
    "<title>Page Title</title>\n",
    "</head>\n",
    "<body>\n",
    "\n",
    "<h1>This is a Heading</h1>\n",
    "<p>This is a paragraph.</p>\n",
    "<a href=\"https://www.gsu.edu/\">GSU Website</a>\n",
    "\n",
    "</body>\n",
    "</html>"
   ]
  },
  {
   "cell_type": "markdown",
   "metadata": {
    "slideshow": {
     "slide_type": "slide"
    }
   },
   "source": [
    "### In the browsers, the previous code renders as:\n",
    "\n",
    "<h1>This is a Heading</h1>\n",
    "<p>This is a paragraph.</p>\n",
    "<a href=\"https://www.gsu.edu/\">GSU Website</a>\n"
   ]
  },
  {
   "cell_type": "markdown",
   "metadata": {
    "slideshow": {
     "slide_type": "slide"
    }
   },
   "source": [
    "### How webpages work?\n",
    "\n",
    "- When the you type in a webpage URL in the browser and hit Enter, the browser makes an `HTTP GET` request.\n",
    "\n",
    "<img src=\"httpreq.png\" />"
   ]
  },
  {
   "cell_type": "markdown",
   "metadata": {
    "slideshow": {
     "slide_type": "slide"
    }
   },
   "source": [
    "### HTTP (Hyper-Text Transfer Protocol)\n",
    "\n",
    "When you visit a website:\n",
    "1. Your browser makes an HTTP request to a server.\n",
    "1. The server generates data for that request. \n",
    "1. Then that server responds with a resource (an image, video, or the HTML of a web page)\n",
    "1. Then, your browser then displays contents for you."
   ]
  },
  {
   "cell_type": "markdown",
   "metadata": {
    "slideshow": {
     "slide_type": "slide"
    }
   },
   "source": [
    "### The Problem\n",
    "\n",
    "- `HTML` is for humans, not machines.\n",
    "- Data scientists usually needs thousands of data items to analyze.\n",
    "- It is not practical to visit a website thousands of times and save data manually.\n",
    "- We need automation to send requests to the severs, and save the response: _Web Scraping!_"
   ]
  },
  {
   "cell_type": "markdown",
   "metadata": {
    "slideshow": {
     "slide_type": "slide"
    }
   },
   "source": [
    "### Web Scraping: An example usecase\n",
    "\n",
    "- From https://www.nature.com/articles/d41586-020-02558-0\n",
    "    - In a project, scientists needed to analyze reports about opiod to prevent future deaths.\n",
    "    - It has required downloading more than 3,000 PDFs to search for opioid-related deaths.\n",
    "    - They wrote [a program](https://github.com/georgiarichards/opioiddeaths) to automate the data collection task.\n",
    "    - Such a tool is called a ‘web scraper’.\n",
    "    - For this project, they could manually screen and save about 25 case reports every hour. \n",
    "    - Now, the program can save more than 1,000 cases per hour."
   ]
  },
  {
   "cell_type": "markdown",
   "metadata": {
    "slideshow": {
     "slide_type": "slide"
    }
   },
   "source": [
    "### How scraping works?\n",
    "\n",
    "- A scraper understands HTML, and is able to parse and extract information from it.\n",
    "- A common scraping task involves iterating over every possible URL from www.example.com/data/1 to www.example.com/data/100 (sometimes called ‘crawling’)\n",
    "- In Python, the `requests` and `beautifulsoup` libraries are used for scraping.\n",
    "- There will be more trial and error, compared to other problems."
   ]
  },
  {
   "cell_type": "markdown",
   "metadata": {
    "slideshow": {
     "slide_type": "slide"
    }
   },
   "source": [
    "### Web Scraping: Things to consider\n",
    "\n",
    "- Can you get the data an easier way? \n",
    "    - Some websites provide APIs or datasets to download.\n",
    "\n",
    "- Can this website be scraped? \n",
    "    - Some websites don’t make their data available directly in the HTML and might require some more advanced techniques (check resources such as StackOverflow for help with specific questions).\n",
    "\n",
    "- Are the data restricted? \n",
    "    - Be sure to check for licensing or copyright restrictions on the extracted data."
   ]
  },
  {
   "cell_type": "markdown",
   "metadata": {
    "slideshow": {
     "slide_type": "slide"
    }
   },
   "source": [
    "### Web Scraping: Things to consider\n",
    "\n",
    "-  Are you being a courteous scraper? \n",
    "    - Every time your program requests data from a website, the underlying information needs to be ‘served’ to you. You can only move so quickly in a browser, but a scraper could potentially send hundreds to thousands of requests per minute. Hammering a web server like that can slow, or entirely bring down, the website (essentially performing an unintentional DoS attack)."
   ]
  },
  {
   "cell_type": "markdown",
   "metadata": {
    "slideshow": {
     "slide_type": "slide"
    }
   },
   "source": [
    "### `requests` library in Python\n",
    "\n",
    "- https://docs.python-requests.org/en/latest/\n",
    "- Install:\n",
    "    - with `conda`: `conda install requests` \n",
    "    - or, with `pip`: `pip install requests`\n"
   ]
  },
  {
   "cell_type": "markdown",
   "metadata": {
    "slideshow": {
     "slide_type": "slide"
    }
   },
   "source": [
    "#### Beautifulsoup\n",
    "\n",
    "- https://beautiful-soup-4.readthedocs.io/en/latest/\n",
    "\n",
    "- Install:\n",
    "    - with `conda`: `conda install beautifulsoup4` \n",
    "    - or, with `pip`: `pip install beautifulsoup4`\n",
    "   \n"
   ]
  }
 ],
 "metadata": {
  "anaconda-cloud": {},
  "celltoolbar": "Slideshow",
  "kernelspec": {
   "display_name": "Python 3 (ipykernel)",
   "language": "python",
   "name": "python3"
  },
  "language_info": {
   "codemirror_mode": {
    "name": "ipython",
    "version": 3
   },
   "file_extension": ".py",
   "mimetype": "text/x-python",
   "name": "python",
   "nbconvert_exporter": "python",
   "pygments_lexer": "ipython3",
   "version": "3.8.11"
  }
 },
 "nbformat": 4,
 "nbformat_minor": 1
}
