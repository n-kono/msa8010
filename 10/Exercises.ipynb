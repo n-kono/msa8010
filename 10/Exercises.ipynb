{
 "cells": [
  {
   "cell_type": "markdown",
   "id": "7bc182bb",
   "metadata": {
    "slideshow": {
     "slide_type": "notes"
    }
   },
   "source": [
    "## MSA 8010 - Exercises\n"
   ]
  },
  {
   "cell_type": "markdown",
   "id": "0d270e81",
   "metadata": {
    "slideshow": {
     "slide_type": "notes"
    }
   },
   "source": [
    "### Session 10: K-Means"
   ]
  },
  {
   "cell_type": "markdown",
   "id": "07d8dc6c",
   "metadata": {
    "slideshow": {
     "slide_type": "slide"
    }
   },
   "source": [
    "**Q:** Considering only `sepal_length`, and `sepal_width`, find the best $K$ for the following dataset, and perform a K-Means clustering."
   ]
  },
  {
   "cell_type": "code",
   "execution_count": 1,
   "id": "6837d5a7",
   "metadata": {},
   "outputs": [
    {
     "data": {
      "text/html": [
       "<div>\n",
       "<style scoped>\n",
       "    .dataframe tbody tr th:only-of-type {\n",
       "        vertical-align: middle;\n",
       "    }\n",
       "\n",
       "    .dataframe tbody tr th {\n",
       "        vertical-align: top;\n",
       "    }\n",
       "\n",
       "    .dataframe thead th {\n",
       "        text-align: right;\n",
       "    }\n",
       "</style>\n",
       "<table border=\"1\" class=\"dataframe\">\n",
       "  <thead>\n",
       "    <tr style=\"text-align: right;\">\n",
       "      <th></th>\n",
       "      <th>sepal_length</th>\n",
       "      <th>sepal_width</th>\n",
       "      <th>petal_length</th>\n",
       "      <th>petal_width</th>\n",
       "    </tr>\n",
       "  </thead>\n",
       "  <tbody>\n",
       "    <tr>\n",
       "      <th>0</th>\n",
       "      <td>5.1</td>\n",
       "      <td>3.5</td>\n",
       "      <td>1.4</td>\n",
       "      <td>0.2</td>\n",
       "    </tr>\n",
       "    <tr>\n",
       "      <th>1</th>\n",
       "      <td>4.9</td>\n",
       "      <td>3.0</td>\n",
       "      <td>1.4</td>\n",
       "      <td>0.2</td>\n",
       "    </tr>\n",
       "    <tr>\n",
       "      <th>2</th>\n",
       "      <td>4.7</td>\n",
       "      <td>3.2</td>\n",
       "      <td>1.3</td>\n",
       "      <td>0.2</td>\n",
       "    </tr>\n",
       "    <tr>\n",
       "      <th>3</th>\n",
       "      <td>4.6</td>\n",
       "      <td>3.1</td>\n",
       "      <td>1.5</td>\n",
       "      <td>0.2</td>\n",
       "    </tr>\n",
       "    <tr>\n",
       "      <th>4</th>\n",
       "      <td>5.0</td>\n",
       "      <td>3.6</td>\n",
       "      <td>1.4</td>\n",
       "      <td>0.2</td>\n",
       "    </tr>\n",
       "  </tbody>\n",
       "</table>\n",
       "</div>"
      ],
      "text/plain": [
       "   sepal_length  sepal_width  petal_length  petal_width\n",
       "0           5.1          3.5           1.4          0.2\n",
       "1           4.9          3.0           1.4          0.2\n",
       "2           4.7          3.2           1.3          0.2\n",
       "3           4.6          3.1           1.5          0.2\n",
       "4           5.0          3.6           1.4          0.2"
      ]
     },
     "execution_count": 1,
     "metadata": {},
     "output_type": "execute_result"
    }
   ],
   "source": [
    "import pandas as pd\n",
    "data = pd.read_csv('IRIS-modified.csv')\n",
    "data.head()"
   ]
  },
  {
   "cell_type": "markdown",
   "id": "2dff3ad9",
   "metadata": {
    "slideshow": {
     "slide_type": "slide"
    }
   },
   "source": [
    "**Answer:**"
   ]
  },
  {
   "cell_type": "code",
   "execution_count": 2,
   "id": "49fe115f",
   "metadata": {},
   "outputs": [],
   "source": [
    "X = data[[\"sepal_length\",\"sepal_width\"]].values"
   ]
  },
  {
   "cell_type": "code",
   "execution_count": 3,
   "id": "ea952d2a",
   "metadata": {
    "scrolled": true
   },
   "outputs": [
    {
     "data": {
      "image/png": "[encoded data removed]",
      "text/plain": [
       "<Figure size 432x288 with 1 Axes>"
      ]
     },
     "metadata": {
      "needs_background": "light"
     },
     "output_type": "display_data"
    }
   ],
   "source": [
    "from sklearn.cluster import KMeans\n",
    "import matplotlib.pyplot as plt\n",
    "\n",
    "wcss = []\n",
    "for i in range(1, 10):\n",
    "    kmeans = KMeans(n_clusters=i, init='k-means++', max_iter=300, n_init=10, random_state=0)\n",
    "    kmeans.fit(X)\n",
    "    wcss.append(kmeans.inertia_)\n",
    "plt.plot(range(1, 10), wcss)\n",
    "plt.title('Elbow-Method using WCSS')\n",
    "plt.xlabel('Number of Clusters (K)')\n",
    "plt.ylabel('Within-Cluster-Sum-of-Squares')\n",
    "plt.show()"
   ]
  },
  {
   "cell_type": "code",
   "execution_count": 4,
   "id": "2fc1cd4c",
   "metadata": {
    "slideshow": {
     "slide_type": "slide"
    }
   },
   "outputs": [
    {
     "data": {
      "text/plain": [
       "array([1, 1, 1, 1, 1, 1, 1, 1, 1, 1, 1, 1, 1, 1, 1, 1, 1, 1, 1, 1, 1, 1,\n",
       "       1, 1, 1, 1, 1, 1, 1, 1, 1, 1, 1, 1, 1, 1, 1, 1, 1, 1, 1, 1, 1, 1,\n",
       "       1, 1, 1, 1, 1, 1, 2, 2, 2, 0, 2, 0, 2, 0, 2, 0, 0, 0, 0, 0, 0, 2,\n",
       "       0, 0, 0, 0, 0, 0, 0, 0, 2, 2, 2, 2, 0, 0, 0, 0, 0, 0, 0, 0, 2, 0,\n",
       "       0, 0, 0, 0, 0, 0, 0, 0, 0, 0, 0, 0, 2, 0, 2, 2, 2, 2, 0, 2, 2, 2,\n",
       "       2, 2, 2, 0, 0, 2, 2, 2, 2, 0, 2, 0, 2, 0, 2, 2, 0, 0, 2, 2, 2, 2,\n",
       "       2, 0, 0, 2, 2, 2, 0, 2, 2, 2, 0, 2, 2, 2, 0, 2, 2, 0])"
      ]
     },
     "execution_count": 4,
     "metadata": {},
     "output_type": "execute_result"
    }
   ],
   "source": [
    "kmeans = KMeans(n_clusters=3, init='k-means++', max_iter=300, n_init=10, random_state=0)\n",
    "y_kmeans = kmeans.fit_predict(X)\n",
    "y_kmeans"
   ]
  },
  {
   "cell_type": "code",
   "execution_count": 5,
   "id": "3ef0c995",
   "metadata": {
    "slideshow": {
     "slide_type": "slide"
    }
   },
   "outputs": [
    {
     "data": {
      "image/png": "[encoded data removed]",
      "text/plain": [
       "<Figure size 720x360 with 1 Axes>"
      ]
     },
     "metadata": {
      "needs_background": "light"
     },
     "output_type": "display_data"
    }
   ],
   "source": [
    "plt.figure(figsize=(10, 5))\n",
    "\n",
    "plt.scatter(X[y_kmeans == 0, 0], X[y_kmeans == 0, 1], s = 60, c = 'orange', label = 'Cluster1')\n",
    "plt.scatter(X[y_kmeans == 1, 0], X[y_kmeans == 1, 1], s = 60, c = 'blue', label = 'Cluster2')\n",
    "plt.scatter(X[y_kmeans == 2, 0], X[y_kmeans == 2, 1], s = 60, c = 'green', label = 'Cluster3')\n",
    "plt.scatter(kmeans.cluster_centers_[:, 0], kmeans.cluster_centers_[:, 1], s = 100, c = 'red', label = 'Centroids')\n",
    "plt.xlabel('Sepal Length') \n",
    "plt.ylabel('Sepal Width') \n",
    "plt.legend(bbox_to_anchor = (1.02, 0.8))\n",
    "\n",
    "plt.show()"
   ]
  },
  {
   "cell_type": "markdown",
   "id": "f2dc57a9",
   "metadata": {
    "slideshow": {
     "slide_type": "notes"
    }
   },
   "source": [
    "### Session 10: Metrics"
   ]
  },
  {
   "cell_type": "markdown",
   "id": "730b34c9",
   "metadata": {
    "slideshow": {
     "slide_type": "slide"
    }
   },
   "source": [
    "**Q:** Considering the following values, show:\n",
    "- Accuracy\n",
    "- Precision\n",
    "- Recall\n",
    "- F1-Score"
   ]
  },
  {
   "cell_type": "code",
   "execution_count": 6,
   "id": "da59003b",
   "metadata": {
    "slideshow": {
     "slide_type": "notes"
    }
   },
   "outputs": [
    {
     "data": {
      "text/plain": [
       "(9970, 30, 10, 90)"
      ]
     },
     "execution_count": 6,
     "metadata": {},
     "output_type": "execute_result"
    }
   ],
   "source": [
    "from sklearn.metrics import confusion_matrix\n",
    "\n",
    "# define actual\n",
    "act_pos = [1 for _ in range(100)]\n",
    "act_neg = [0 for _ in range(10000)]\n",
    "\n",
    "# define predictions\n",
    "pred_pos = [0 for _ in range(10)] + [1 for _ in range(90)]\n",
    "pred_neg = [1 for _ in range(30)] + [0 for _ in range(9970)]\n",
    "\n",
    "y_true = act_pos + act_neg\n",
    "y_pred = pred_pos + pred_neg\n",
    "tn, fp, fn, tp = confusion_matrix(y_true, y_pred).ravel()\n",
    "(tn, fp, fn, tp)"
   ]
  },
  {
   "cell_type": "markdown",
   "id": "30ec5dfd",
   "metadata": {
    "slideshow": {
     "slide_type": "slide"
    }
   },
   "source": [
    "**Answer:**\n",
    "There are two methods:\n",
    "- Manually calculating values\n",
    "- Using sklearn's `accuracy_score`, `precision_score`, `recall_score`, `f1_score`.\n",
    "    - It is especially useful if the problem is not a binary classification."
   ]
  },
  {
   "cell_type": "code",
   "execution_count": 7,
   "id": "e5771626",
   "metadata": {
    "slideshow": {
     "slide_type": "slide"
    }
   },
   "outputs": [
    {
     "name": "stdout",
     "output_type": "stream",
     "text": [
      "Accuracy: 0.996039603960396\n",
      "Precision: 0.75\n",
      "Recall: 0.9\n",
      "F1 Score: 0.8181818181818182\n"
     ]
    }
   ],
   "source": [
    "# The manual method:\n",
    "\n",
    "accuracy = (tn+tp) / (tp+tn+fp+fn)\n",
    "print('Accuracy:', accuracy)\n",
    "\n",
    "precision = (tp)/(tp+fp)\n",
    "print('Precision:', precision)\n",
    "\n",
    "recall = (tp)/(tp+fn)\n",
    "print('Recall:', recall)\n",
    "\n",
    "f1score = 2*(precision*recall)/(precision+recall)\n",
    "print('F1 Score:', f1score)"
   ]
  },
  {
   "cell_type": "code",
   "execution_count": 8,
   "id": "bf28776c",
   "metadata": {
    "slideshow": {
     "slide_type": "slide"
    }
   },
   "outputs": [
    {
     "name": "stdout",
     "output_type": "stream",
     "text": [
      "Accuracy: 0.996039603960396\n",
      "Precision: 0.75\n",
      "Recall: 0.9\n",
      "F1 Score: 0.8181818181818182\n"
     ]
    }
   ],
   "source": [
    "# Using sklearn's library:\n",
    "from sklearn.metrics import accuracy_score, precision_score, recall_score, f1_score\n",
    "\n",
    "accuracy = accuracy_score(y_true,y_pred)\n",
    "print('Accuracy:', accuracy)\n",
    "\n",
    "precision = precision_score(y_true, y_pred)\n",
    "print('Precision:', precision)\n",
    "\n",
    "recall = recall_score(y_true, y_pred)\n",
    "print('Recall:', recall)\n",
    "\n",
    "f1score = f1_score(y_true, y_pred)\n",
    "print('F1 Score:', f1score)"
   ]
  },
  {
   "cell_type": "markdown",
   "id": "3d3c4404",
   "metadata": {
    "slideshow": {
     "slide_type": "notes"
    }
   },
   "source": [
    "### Session 10: Deep Learning"
   ]
  },
  {
   "cell_type": "markdown",
   "id": "69a5ba37",
   "metadata": {
    "slideshow": {
     "slide_type": "slide"
    }
   },
   "source": [
    "**Q:** \n",
    "1. Build a deep neural network to predict if a persoan has diabetes or not. \n",
    "    - The \"outcome\" column contains either `1` for diabetes, and `0` for not.\n",
    "2. Show the confusion matrix values."
   ]
  },
  {
   "cell_type": "code",
   "execution_count": 9,
   "id": "d11c6bd6",
   "metadata": {},
   "outputs": [],
   "source": [
    "import pandas as pd\n",
    "data = pd.read_csv('diabetes.csv')\n",
    "X = data.drop(\"Outcome\", axis=1)\n",
    "y = data[\"Outcome\"]"
   ]
  },
  {
   "cell_type": "markdown",
   "id": "5011d085",
   "metadata": {
    "slideshow": {
     "slide_type": "slide"
    }
   },
   "source": [
    "**Answer:**"
   ]
  },
  {
   "cell_type": "code",
   "execution_count": 10,
   "id": "29687893",
   "metadata": {},
   "outputs": [
    {
     "data": {
      "text/html": [
       "<div>\n",
       "<style scoped>\n",
       "    .dataframe tbody tr th:only-of-type {\n",
       "        vertical-align: middle;\n",
       "    }\n",
       "\n",
       "    .dataframe tbody tr th {\n",
       "        vertical-align: top;\n",
       "    }\n",
       "\n",
       "    .dataframe thead th {\n",
       "        text-align: right;\n",
       "    }\n",
       "</style>\n",
       "<table border=\"1\" class=\"dataframe\">\n",
       "  <thead>\n",
       "    <tr style=\"text-align: right;\">\n",
       "      <th></th>\n",
       "      <th>Pregnancies</th>\n",
       "      <th>Glucose</th>\n",
       "      <th>BloodPressure</th>\n",
       "      <th>SkinThickness</th>\n",
       "      <th>Insulin</th>\n",
       "      <th>BMI</th>\n",
       "      <th>DiabetesPedigreeFunction</th>\n",
       "      <th>Age</th>\n",
       "      <th>Outcome</th>\n",
       "    </tr>\n",
       "  </thead>\n",
       "  <tbody>\n",
       "    <tr>\n",
       "      <th>0</th>\n",
       "      <td>6</td>\n",
       "      <td>148</td>\n",
       "      <td>72</td>\n",
       "      <td>35</td>\n",
       "      <td>0</td>\n",
       "      <td>33.6</td>\n",
       "      <td>0.627</td>\n",
       "      <td>50</td>\n",
       "      <td>1</td>\n",
       "    </tr>\n",
       "    <tr>\n",
       "      <th>1</th>\n",
       "      <td>1</td>\n",
       "      <td>85</td>\n",
       "      <td>66</td>\n",
       "      <td>29</td>\n",
       "      <td>0</td>\n",
       "      <td>26.6</td>\n",
       "      <td>0.351</td>\n",
       "      <td>31</td>\n",
       "      <td>0</td>\n",
       "    </tr>\n",
       "    <tr>\n",
       "      <th>2</th>\n",
       "      <td>8</td>\n",
       "      <td>183</td>\n",
       "      <td>64</td>\n",
       "      <td>0</td>\n",
       "      <td>0</td>\n",
       "      <td>23.3</td>\n",
       "      <td>0.672</td>\n",
       "      <td>32</td>\n",
       "      <td>1</td>\n",
       "    </tr>\n",
       "    <tr>\n",
       "      <th>3</th>\n",
       "      <td>1</td>\n",
       "      <td>89</td>\n",
       "      <td>66</td>\n",
       "      <td>23</td>\n",
       "      <td>94</td>\n",
       "      <td>28.1</td>\n",
       "      <td>0.167</td>\n",
       "      <td>21</td>\n",
       "      <td>0</td>\n",
       "    </tr>\n",
       "    <tr>\n",
       "      <th>4</th>\n",
       "      <td>0</td>\n",
       "      <td>137</td>\n",
       "      <td>40</td>\n",
       "      <td>35</td>\n",
       "      <td>168</td>\n",
       "      <td>43.1</td>\n",
       "      <td>2.288</td>\n",
       "      <td>33</td>\n",
       "      <td>1</td>\n",
       "    </tr>\n",
       "  </tbody>\n",
       "</table>\n",
       "</div>"
      ],
      "text/plain": [
       "   Pregnancies  Glucose  BloodPressure  SkinThickness  Insulin   BMI  \\\n",
       "0            6      148             72             35        0  33.6   \n",
       "1            1       85             66             29        0  26.6   \n",
       "2            8      183             64              0        0  23.3   \n",
       "3            1       89             66             23       94  28.1   \n",
       "4            0      137             40             35      168  43.1   \n",
       "\n",
       "   DiabetesPedigreeFunction  Age  Outcome  \n",
       "0                     0.627   50        1  \n",
       "1                     0.351   31        0  \n",
       "2                     0.672   32        1  \n",
       "3                     0.167   21        0  \n",
       "4                     2.288   33        1  "
      ]
     },
     "execution_count": 10,
     "metadata": {},
     "output_type": "execute_result"
    }
   ],
   "source": [
    "import numpy as np\n",
    "import pandas as pd\n",
    "\n",
    "from keras.models import Sequential\n",
    "from keras.layers import Dense,Activation,Layer,Lambda\n",
    "\n",
    "from sklearn.model_selection import train_test_split\n",
    "\n",
    "data.head()"
   ]
  },
  {
   "cell_type": "code",
   "execution_count": 11,
   "id": "d5726893",
   "metadata": {},
   "outputs": [],
   "source": [
    "def getModel(arr):\n",
    "    model = Sequential()\n",
    "\n",
    "    model.add(Dense(arr[0], input_dim=arr[0], activation='relu'))  # Input layer\n",
    "    for layer in range(1, len(arr) - 1):\n",
    "        model.add(Dense(arr[layer], activation='relu'))  # Hidden layer(s)\n",
    "    model.add(Dense(arr[-1], activation=\"sigmoid\"))  # Output layer\n",
    "\n",
    "    model.compile(loss=\"binary_crossentropy\", optimizer='rmsprop', metrics=['accuracy'])\n",
    "    return model"
   ]
  },
  {
   "cell_type": "code",
   "execution_count": 12,
   "id": "46c60d4d",
   "metadata": {},
   "outputs": [],
   "source": [
    "#divide dataset into training set, cross validation set, and test set\n",
    "trainX, testX, trainY, testY = train_test_split(X, y, test_size=0.2, random_state=42)"
   ]
  },
  {
   "cell_type": "code",
   "execution_count": 13,
   "id": "07a1ce28",
   "metadata": {},
   "outputs": [
    {
     "name": "stdout",
     "output_type": "stream",
     "text": [
      "Epoch 1/100\n",
      "20/20 [==============================] - 0s 680us/step - loss: 4.8438 - accuracy: 0.6384\n",
      "Epoch 2/100\n",
      "20/20 [==============================] - 0s 630us/step - loss: 1.6051 - accuracy: 0.4870\n",
      "Epoch 3/100\n",
      "20/20 [==============================] - 0s 675us/step - loss: 1.2098 - accuracy: 0.5391\n",
      "Epoch 4/100\n",
      "20/20 [==============================] - 0s 682us/step - loss: 1.0060 - accuracy: 0.5358\n",
      "Epoch 5/100\n",
      "20/20 [==============================] - 0s 681us/step - loss: 0.8890 - accuracy: 0.5879\n",
      "Epoch 6/100\n",
      "20/20 [==============================] - 0s 629us/step - loss: 0.8032 - accuracy: 0.5961\n",
      "Epoch 7/100\n",
      "20/20 [==============================] - 0s 630us/step - loss: 0.7734 - accuracy: 0.6026\n",
      "Epoch 8/100\n",
      "20/20 [==============================] - 0s 630us/step - loss: 0.7116 - accuracy: 0.6319\n",
      "Epoch 9/100\n",
      "20/20 [==============================] - 0s 629us/step - loss: 0.7364 - accuracy: 0.5782\n",
      "Epoch 10/100\n",
      "20/20 [==============================] - 0s 630us/step - loss: 0.6755 - accuracy: 0.6205\n",
      "Epoch 11/100\n",
      "20/20 [==============================] - 0s 664us/step - loss: 0.6796 - accuracy: 0.6482\n",
      "Epoch 12/100\n",
      "20/20 [==============================] - 0s 712us/step - loss: 0.6668 - accuracy: 0.6612\n",
      "Epoch 13/100\n",
      "20/20 [==============================] - 0s 682us/step - loss: 0.6766 - accuracy: 0.6287\n",
      "Epoch 14/100\n",
      "20/20 [==============================] - 0s 683us/step - loss: 0.6504 - accuracy: 0.6629\n",
      "Epoch 15/100\n",
      "20/20 [==============================] - 0s 681us/step - loss: 0.6428 - accuracy: 0.6612\n",
      "Epoch 16/100\n",
      "20/20 [==============================] - 0s 681us/step - loss: 0.6162 - accuracy: 0.6726\n",
      "Epoch 17/100\n",
      "20/20 [==============================] - 0s 682us/step - loss: 0.6449 - accuracy: 0.6401\n",
      "Epoch 18/100\n",
      "20/20 [==============================] - 0s 736us/step - loss: 0.6220 - accuracy: 0.6938\n",
      "Epoch 19/100\n",
      "20/20 [==============================] - 0s 682us/step - loss: 0.6137 - accuracy: 0.6873\n",
      "Epoch 20/100\n",
      "20/20 [==============================] - 0s 652us/step - loss: 0.6390 - accuracy: 0.6726\n",
      "Epoch 21/100\n",
      "20/20 [==============================] - 0s 641us/step - loss: 0.6200 - accuracy: 0.6645\n",
      "Epoch 22/100\n",
      "20/20 [==============================] - 0s 682us/step - loss: 0.6037 - accuracy: 0.6971\n",
      "Epoch 23/100\n",
      "20/20 [==============================] - 0s 735us/step - loss: 0.6134 - accuracy: 0.6726\n",
      "Epoch 24/100\n",
      "20/20 [==============================] - 0s 701us/step - loss: 0.6138 - accuracy: 0.6873\n",
      "Epoch 25/100\n",
      "20/20 [==============================] - 0s 734us/step - loss: 0.5928 - accuracy: 0.6938\n",
      "Epoch 26/100\n",
      "20/20 [==============================] - 0s 682us/step - loss: 0.6158 - accuracy: 0.6906\n",
      "Epoch 27/100\n",
      "20/20 [==============================] - 0s 735us/step - loss: 0.5936 - accuracy: 0.6808\n",
      "Epoch 28/100\n",
      "20/20 [==============================] - 0s 682us/step - loss: 0.6066 - accuracy: 0.6971\n",
      "Epoch 29/100\n",
      "20/20 [==============================] - 0s 629us/step - loss: 0.5938 - accuracy: 0.6954\n",
      "Epoch 30/100\n",
      "20/20 [==============================] - 0s 683us/step - loss: 0.6009 - accuracy: 0.6808\n",
      "Epoch 31/100\n",
      "20/20 [==============================] - 0s 630us/step - loss: 0.5901 - accuracy: 0.6938\n",
      "Epoch 32/100\n",
      "20/20 [==============================] - 0s 630us/step - loss: 0.5897 - accuracy: 0.7020\n",
      "Epoch 33/100\n",
      "20/20 [==============================] - 0s 577us/step - loss: 0.5875 - accuracy: 0.7003\n",
      "Epoch 34/100\n",
      "20/20 [==============================] - 0s 629us/step - loss: 0.5880 - accuracy: 0.7020\n",
      "Epoch 35/100\n",
      "20/20 [==============================] - 0s 629us/step - loss: 0.5861 - accuracy: 0.7052\n",
      "Epoch 36/100\n",
      "20/20 [==============================] - 0s 681us/step - loss: 0.5817 - accuracy: 0.7036\n",
      "Epoch 37/100\n",
      "20/20 [==============================] - 0s 628us/step - loss: 0.5917 - accuracy: 0.6922\n",
      "Epoch 38/100\n",
      "20/20 [==============================] - 0s 681us/step - loss: 0.5801 - accuracy: 0.7101\n",
      "Epoch 39/100\n",
      "20/20 [==============================] - 0s 683us/step - loss: 0.5763 - accuracy: 0.6938\n",
      "Epoch 40/100\n",
      "20/20 [==============================] - 0s 671us/step - loss: 0.5690 - accuracy: 0.7215\n",
      "Epoch 41/100\n",
      "20/20 [==============================] - 0s 681us/step - loss: 0.5799 - accuracy: 0.6954\n",
      "Epoch 42/100\n",
      "20/20 [==============================] - 0s 630us/step - loss: 0.5578 - accuracy: 0.7085\n",
      "Epoch 43/100\n",
      "20/20 [==============================] - 0s 742us/step - loss: 0.5771 - accuracy: 0.7068\n",
      "Epoch 44/100\n",
      "20/20 [==============================] - 0s 682us/step - loss: 0.5574 - accuracy: 0.7068\n",
      "Epoch 45/100\n",
      "20/20 [==============================] - 0s 630us/step - loss: 0.5628 - accuracy: 0.7117\n",
      "Epoch 46/100\n",
      "20/20 [==============================] - 0s 682us/step - loss: 0.5803 - accuracy: 0.6873\n",
      "Epoch 47/100\n",
      "20/20 [==============================] - 0s 682us/step - loss: 0.5489 - accuracy: 0.7345\n",
      "Epoch 48/100\n",
      "20/20 [==============================] - 0s 683us/step - loss: 0.5672 - accuracy: 0.7068\n",
      "Epoch 49/100\n",
      "20/20 [==============================] - 0s 735us/step - loss: 0.5525 - accuracy: 0.7199\n",
      "Epoch 50/100\n",
      "20/20 [==============================] - 0s 682us/step - loss: 0.5513 - accuracy: 0.7215\n",
      "Epoch 51/100\n",
      "20/20 [==============================] - 0s 727us/step - loss: 0.5613 - accuracy: 0.7150\n",
      "Epoch 52/100\n",
      "20/20 [==============================] - 0s 683us/step - loss: 0.5508 - accuracy: 0.7199\n",
      "Epoch 53/100\n",
      "20/20 [==============================] - 0s 674us/step - loss: 0.5535 - accuracy: 0.7215\n",
      "Epoch 54/100\n",
      "20/20 [==============================] - 0s 641us/step - loss: 0.5529 - accuracy: 0.7215\n",
      "Epoch 55/100\n",
      "20/20 [==============================] - 0s 682us/step - loss: 0.5682 - accuracy: 0.7134\n",
      "Epoch 56/100\n",
      "20/20 [==============================] - 0s 682us/step - loss: 0.5463 - accuracy: 0.7150\n",
      "Epoch 57/100\n",
      "20/20 [==============================] - 0s 734us/step - loss: 0.5452 - accuracy: 0.7215\n",
      "Epoch 58/100\n",
      "20/20 [==============================] - 0s 735us/step - loss: 0.5524 - accuracy: 0.7362\n",
      "Epoch 59/100\n",
      "20/20 [==============================] - 0s 681us/step - loss: 0.5416 - accuracy: 0.7313\n",
      "Epoch 60/100\n",
      "20/20 [==============================] - 0s 682us/step - loss: 0.5361 - accuracy: 0.7264\n",
      "Epoch 61/100\n",
      "20/20 [==============================] - 0s 734us/step - loss: 0.5504 - accuracy: 0.7427\n",
      "Epoch 62/100\n",
      "20/20 [==============================] - 0s 734us/step - loss: 0.5592 - accuracy: 0.7215\n",
      "Epoch 63/100\n",
      "20/20 [==============================] - 0s 681us/step - loss: 0.5522 - accuracy: 0.7248\n",
      "Epoch 64/100\n",
      "20/20 [==============================] - 0s 681us/step - loss: 0.5580 - accuracy: 0.7150\n",
      "Epoch 65/100\n",
      "20/20 [==============================] - 0s 683us/step - loss: 0.5352 - accuracy: 0.7459\n",
      "Epoch 66/100\n",
      "20/20 [==============================] - 0s 630us/step - loss: 0.5406 - accuracy: 0.7199\n",
      "Epoch 67/100\n",
      "20/20 [==============================] - 0s 682us/step - loss: 0.5388 - accuracy: 0.7476\n",
      "Epoch 68/100\n",
      "20/20 [==============================] - 0s 638us/step - loss: 0.5462 - accuracy: 0.7215\n",
      "Epoch 69/100\n",
      "20/20 [==============================] - 0s 682us/step - loss: 0.5416 - accuracy: 0.7248\n",
      "Epoch 70/100\n",
      "20/20 [==============================] - 0s 630us/step - loss: 0.5250 - accuracy: 0.7410\n",
      "Epoch 71/100\n",
      "20/20 [==============================] - 0s 708us/step - loss: 0.5425 - accuracy: 0.7134\n",
      "Epoch 72/100\n",
      "20/20 [==============================] - 0s 697us/step - loss: 0.5384 - accuracy: 0.7215\n",
      "Epoch 73/100\n",
      "20/20 [==============================] - 0s 648us/step - loss: 0.5434 - accuracy: 0.7280\n",
      "Epoch 74/100\n",
      "20/20 [==============================] - 0s 682us/step - loss: 0.5416 - accuracy: 0.7150\n",
      "Epoch 75/100\n",
      "20/20 [==============================] - 0s 672us/step - loss: 0.5350 - accuracy: 0.7394\n",
      "Epoch 76/100\n",
      "20/20 [==============================] - 0s 577us/step - loss: 0.5366 - accuracy: 0.7313\n",
      "Epoch 77/100\n",
      "20/20 [==============================] - 0s 628us/step - loss: 0.5361 - accuracy: 0.7329\n",
      "Epoch 78/100\n",
      "20/20 [==============================] - 0s 682us/step - loss: 0.5313 - accuracy: 0.7459\n",
      "Epoch 79/100\n",
      "20/20 [==============================] - 0s 675us/step - loss: 0.5396 - accuracy: 0.7199\n",
      "Epoch 80/100\n",
      "20/20 [==============================] - 0s 681us/step - loss: 0.5310 - accuracy: 0.7231\n",
      "Epoch 81/100\n"
     ]
    },
    {
     "name": "stdout",
     "output_type": "stream",
     "text": [
      "20/20 [==============================] - 0s 621us/step - loss: 0.5290 - accuracy: 0.7280\n",
      "Epoch 82/100\n",
      "20/20 [==============================] - 0s 630us/step - loss: 0.5336 - accuracy: 0.7296\n",
      "Epoch 83/100\n",
      "20/20 [==============================] - 0s 682us/step - loss: 0.5337 - accuracy: 0.7345\n",
      "Epoch 84/100\n",
      "20/20 [==============================] - 0s 684us/step - loss: 0.5242 - accuracy: 0.7362\n",
      "Epoch 85/100\n",
      "20/20 [==============================] - 0s 681us/step - loss: 0.5336 - accuracy: 0.7280\n",
      "Epoch 86/100\n",
      "20/20 [==============================] - 0s 630us/step - loss: 0.5218 - accuracy: 0.7345\n",
      "Epoch 87/100\n",
      "20/20 [==============================] - 0s 681us/step - loss: 0.5277 - accuracy: 0.7378\n",
      "Epoch 88/100\n",
      "20/20 [==============================] - 0s 630us/step - loss: 0.5215 - accuracy: 0.7280\n",
      "Epoch 89/100\n",
      "20/20 [==============================] - 0s 682us/step - loss: 0.5264 - accuracy: 0.7394\n",
      "Epoch 90/100\n",
      "20/20 [==============================] - 0s 630us/step - loss: 0.5321 - accuracy: 0.7199\n",
      "Epoch 91/100\n",
      "20/20 [==============================] - 0s 630us/step - loss: 0.5267 - accuracy: 0.7378\n",
      "Epoch 92/100\n",
      "20/20 [==============================] - 0s 683us/step - loss: 0.5150 - accuracy: 0.7492\n",
      "Epoch 93/100\n",
      "20/20 [==============================] - 0s 675us/step - loss: 0.5279 - accuracy: 0.7345\n",
      "Epoch 94/100\n",
      "20/20 [==============================] - 0s 682us/step - loss: 0.5193 - accuracy: 0.7443\n",
      "Epoch 95/100\n",
      "20/20 [==============================] - 0s 681us/step - loss: 0.5222 - accuracy: 0.7394\n",
      "Epoch 96/100\n",
      "20/20 [==============================] - 0s 735us/step - loss: 0.5163 - accuracy: 0.7427\n",
      "Epoch 97/100\n",
      "20/20 [==============================] - 0s 737us/step - loss: 0.5159 - accuracy: 0.7345\n",
      "Epoch 98/100\n",
      "20/20 [==============================] - 0s 721us/step - loss: 0.5271 - accuracy: 0.7329\n",
      "Epoch 99/100\n",
      "20/20 [==============================] - 0s 734us/step - loss: 0.5217 - accuracy: 0.7410\n",
      "Epoch 100/100\n",
      "20/20 [==============================] - 0s 738us/step - loss: 0.5176 - accuracy: 0.7524\n"
     ]
    },
    {
     "data": {
      "text/plain": [
       "<keras.callbacks.History at 0x1e539297790>"
      ]
     },
     "execution_count": 13,
     "metadata": {},
     "output_type": "execute_result"
    }
   ],
   "source": [
    "model=getModel([8,40,1])\n",
    "model.fit(np.array(trainX), np.array(trainY), epochs=100)"
   ]
  },
  {
   "cell_type": "code",
   "execution_count": 14,
   "id": "cad109f2",
   "metadata": {},
   "outputs": [],
   "source": [
    "predY = model.predict(np.array(testX))\n",
    "predY = np.round(predY).astype(int).reshape(1,-1)[0]"
   ]
  },
  {
   "cell_type": "code",
   "execution_count": 15,
   "id": "bb12d06b",
   "metadata": {},
   "outputs": [
    {
     "name": "stdout",
     "output_type": "stream",
     "text": [
      "TN=91, FN=38, FP=8, TP=17\n"
     ]
    }
   ],
   "source": [
    "from sklearn.metrics import confusion_matrix\n",
    "m=confusion_matrix(predY,testY)\n",
    "tn, fn, fp, tp=confusion_matrix(predY,testY).ravel()\n",
    "print(f\"TN={tn}, FN={fn}, FP={fp}, TP={tp}\")"
   ]
  },
  {
   "cell_type": "code",
   "execution_count": 16,
   "id": "154f1470",
   "metadata": {},
   "outputs": [
    {
     "name": "stdout",
     "output_type": "stream",
     "text": [
      "Accuracy: 0.996039603960396\n",
      "Precision: 0.75\n",
      "Recall: 0.9\n",
      "F1 Score: 0.8181818181818182\n"
     ]
    }
   ],
   "source": [
    "from sklearn.metrics import accuracy_score, precision_score, recall_score, f1_score\n",
    "\n",
    "accuracy = accuracy_score(y_true,y_pred)\n",
    "print('Accuracy:', accuracy)\n",
    "\n",
    "precision = precision_score(y_true, y_pred)\n",
    "print('Precision:', precision)\n",
    "\n",
    "recall = recall_score(y_true, y_pred)\n",
    "print('Recall:', recall)\n",
    "\n",
    "f1score = f1_score(y_true, y_pred)\n",
    "print('F1 Score:', f1score)"
   ]
  }
 ],
 "metadata": {
  "celltoolbar": "Slideshow",
  "kernelspec": {
   "display_name": "Python 3 (ipykernel)",
   "language": "python",
   "name": "python3"
  },
  "language_info": {
   "codemirror_mode": {
    "name": "ipython",
    "version": 3
   },
   "file_extension": ".py",
   "mimetype": "text/x-python",
   "name": "python",
   "nbconvert_exporter": "python",
   "pygments_lexer": "ipython3",
   "version": "3.8.11"
  }
 },
 "nbformat": 4,
 "nbformat_minor": 5
}
