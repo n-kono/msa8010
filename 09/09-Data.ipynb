{
 "cells": [
  {
   "cell_type": "markdown",
   "metadata": {
    "slideshow": {
     "slide_type": "slide"
    }
   },
   "source": [
    "# Session 9: Imbalanced-Bagging-Boosting\n",
    "MSA 8010: Data Programming"
   ]
  },
  {
   "cell_type": "markdown",
   "metadata": {
    "slideshow": {
     "slide_type": "slide"
    }
   },
   "source": [
    "Agenda:\n",
    "- Imbalanced Data: Problem Definition and Solutions\n",
    "- Ensemble Learning: Bagging, and Boosting\n",
    "\n",
    "Sources:\n",
    "- [Learning From Imbalanced Data, Springer, 2018](https://link.springer.com/book/10.1007%2F978-3-319-98074-4)\n",
    "- https://machinelearningmastery.com/undersampling-algorithms-for-imbalanced-classification/\n",
    "- [Tomek Links' paper](https://ieeexplore.ieee.org/stamp/stamp.jsp?tp=&arnumber=4309452)\n",
    "- https://www.kaggle.com/nareshbhat/outlier-the-silent-killer\n",
    "- https://en.wikipedia.org/wiki/DBSCAN\n",
    "- https://sebastianraschka.com/blog/2016/model-evaluation-selection-part2.html\n",
    "- https://towardsdatascience.com/boosting-algorithms-explained-d38f56ef3f30\n",
    "- https://towardsdatascience.com/https-medium-com-vishalmorde-xgboost-algorithm-long-she-may-rein-edd9f99be63d"
   ]
  },
  {
   "cell_type": "markdown",
   "metadata": {
    "slideshow": {
     "slide_type": "slide"
    }
   },
   "source": [
    "### Definition\n",
    "- A dataset is said to be imbalanced when there is a significant, or in some cases extreme, disproportion among the number of examples of each class of the problem.\n",
    "- In other words, the class imbalance occurs when the number of examples representing one class is much lower than the ones of the other classes.\n",
    "- Hence, one or more classes may be underrepresented in the dataset."
   ]
  },
  {
   "cell_type": "markdown",
   "metadata": {
    "slideshow": {
     "slide_type": "slide"
    }
   },
   "source": [
    "### Effects\n",
    "- Imbalanced data, has significant effect on various problems.\n",
    "- Some applications that are known to suffer from this problem are:\n",
    "    - fault diagnosis, anomaly detection, medical diagnosis, e-mail spam, face recognition, and detection of oil spills."
   ]
  },
  {
   "cell_type": "markdown",
   "metadata": {
    "slideshow": {
     "slide_type": "slide"
    }
   },
   "source": [
    "### Imbalanced data in Binary Classification\n",
    "- In two-class problems the minority (underrepresented) class is usually referred to as the **positive** class, whereas the majority class is considered to be the **negative** one.\n",
    "- The following image show a two-class problem with ratio 1:100.\n",
    "- It means that for each positive/minority class example there are 100 negative/majority class examples."
   ]
  },
  {
   "cell_type": "markdown",
   "metadata": {
    "slideshow": {
     "slide_type": "slide"
    }
   },
   "source": [
    "<img src=\"binary-example.jpg\" width=\"70%\" />"
   ]
  },
  {
   "cell_type": "markdown",
   "metadata": {
    "slideshow": {
     "slide_type": "slide"
    }
   },
   "source": [
    "### The Problem\n",
    "- One of the main issues in imbalanced problems is that usually, the underrepresented class is the class of interest of the problem from the application point of view.\n",
    "- Think about examples mentioned earlier: \n",
    "    - In the `medical diagnosis`, the goal is to find a health problem (i.e., most of the subjects are healthy, but those who have a disease, are important)\n",
    "    - In the `detection of oil spills`, the goal is to find spills (i.e., not many spills, but they are important)."
   ]
  },
  {
   "cell_type": "markdown",
   "metadata": {
    "slideshow": {
     "slide_type": "slide"
    }
   },
   "source": [
    "### The Problem\n",
    "- Although we are interested in `positive` classes, a standard classifier learning algorithms are usually biased toward the `negative` class.\n",
    "- Rules predict those instances are weighted in favor of the accuracy metric or the corresponding cost function. \n",
    "- The minority class can be ignored (treating them as noise), because more general rules are preferred.\n",
    "- __As a consequence, minority class instances are more often misclassified than those from the majority one.__"
   ]
  },
  {
   "cell_type": "markdown",
   "metadata": {
    "slideshow": {
     "slide_type": "slide"
    }
   },
   "source": [
    "<img src=\"two-models.jpg\" width=\"100%\" />"
   ]
  },
  {
   "cell_type": "markdown",
   "metadata": {
    "slideshow": {
     "slide_type": "slide"
    }
   },
   "source": [
    "### The Problem: Example\n",
    "- The previous example shows two models for the same dataset and the same features.\n",
    "- On the left side, Model 1 has learned that it should label every example as negative.\n",
    "    - In fact, such a simple model achieves a 99.01% of accuracy.\n",
    "- The right model's accuracy obtained over the test set is 98.61%, \n",
    "    - The accuracy is lower than Model 1. \n",
    "- Despite being less accurate in terms of global accuracy, this second model is able to distinguish both classes,"
   ]
  },
  {
   "cell_type": "markdown",
   "metadata": {
    "slideshow": {
     "slide_type": "slide"
    }
   },
   "source": [
    "### Lessons Learned\n",
    "1. Accuracy is no longer a proper measure in the imbalance scenario.\n",
    "1. We need classifiers that are biased toward the minority class, without neglecting the accuracy over the majority class.\n",
    "\n",
    "A large amount of techniques have been developed to overcome this issue, that we can categorize them in four groups:\n",
    "1. Algorithm level (or internal) approaches\n",
    "1. Data Level (or external) approaches\n",
    "1. Cost-sensitive learning framework\n",
    "1. Ensemble-based methods"
   ]
  },
  {
   "cell_type": "markdown",
   "metadata": {
    "slideshow": {
     "slide_type": "slide"
    }
   },
   "source": [
    "### 1. Algorithm level (or internal) approaches\n",
    "\n",
    "- They modify the learning process of existing classifier to accept costs.\n",
    "- They bias the learning toward the minority class. \n",
    "- In order to perform the adaptation a special knowledge of both the corresponding `classifier` and `the application domain` is required.\n",
    "    - to comprehend why the classifier fails when the class distribution is uneven.\n"
   ]
  },
  {
   "cell_type": "markdown",
   "metadata": {
    "slideshow": {
     "slide_type": "slide"
    }
   },
   "source": [
    "### 2. Data Level (or external) approaches\n",
    "- They aim at rebalancing the class distribution by resampling the data space.\n",
    "- This way, the modification of the learning algorithm is avoided. \n",
    "- These methods are discussed in depth in Chap. 5 of this book:\n",
    "    - [Learning From Imbalanced Data, Springer, 2018](https://link.springer.com/book/10.1007%2F978-3-319-98074-4)\n",
    "    - Also, we cover some examples in this session.\n"
   ]
  },
  {
   "cell_type": "markdown",
   "metadata": {
    "slideshow": {
     "slide_type": "slide"
    }
   },
   "source": [
    "### 3. Cost-sensetive learning framework\n",
    "- This method falls between data and algorithm level approaches. \n",
    "- Both data level transformations (by adding costs to instances)\n",
    "- And, algorithm level modifications (by modifying the learning process to accept costs)\n",
    "- Chapter 4 of the mentioned book covers this approach."
   ]
  },
  {
   "cell_type": "markdown",
   "metadata": {
    "slideshow": {
     "slide_type": "slide"
    }
   },
   "source": [
    "### 4. Ensemble-based methods\n",
    "- Usually consist of a combination between an ensemble learning algorithm and one of the techniques above.\n",
    "    - We will talk about ensemble learning algorithms in this session.\n",
    "    - Also, Ensemble-based models are described in Chap. 7 of the mentioned book.\n",
    "- Adding a data level approach to the ensemble learning algorithm:\n",
    "    - the new hybrid method usually preprocesses the data before training each classifier.\n",
    "- Adding a cost-sensitive ensembles instead of modifying the classifier:\n",
    "    - guides the cost minimization via the ensemble learning algorithm."
   ]
  },
  {
   "cell_type": "markdown",
   "metadata": {
    "slideshow": {
     "slide_type": "slide"
    }
   },
   "source": [
    "### Let's focus on the second category: Resampling\n",
    "- The training instances are modified in such a way to produce a more balanced class distribution.\n",
    "- This allows classifiers to perform in a similar manner to standard classification.\n",
    "- Cateogies of resampling techniques:\n",
    "    - Undersampling methods\n",
    "    - Oversampling methods\n",
    "    - Hybrids methods"
   ]
  },
  {
   "cell_type": "markdown",
   "metadata": {
    "slideshow": {
     "slide_type": "slide"
    }
   },
   "source": [
    "### Undersampling\n",
    "- Ojective: equalizing the number of examples of each class\n",
    "- The major drawback of random undersampling is that this method can discard potentially useful data that could be important for the induction process.\n",
    "- We discuss some undersampling techniques:\n",
    "    - **Random Undersampling (RUS):** This technique randomly eliminates the majority class examples to get a balanced instance set.\n",
    "    - **Near Miss Undersampling**: A method that select examples to _keep_\n",
    "    - **Tomek Links**: A method that selects examples to _delete_\n",
    "    - **One-Sided Selection for Undersampling**: Combinations of keep and delete methods"
   ]
  },
  {
   "cell_type": "code",
   "execution_count": 1,
   "metadata": {
    "slideshow": {
     "slide_type": "slide"
    }
   },
   "outputs": [],
   "source": [
    "# Creating an imbalanced dataset\n",
    "from sklearn.datasets import make_classification\n",
    "\n",
    "# 10,000 examples with two input variables and a 1:100 distribution:\n",
    "X, y = make_classification(n_samples=10000, n_features=2, n_redundant=0,\n",
    "n_clusters_per_class=1, weights=[0.99], flip_y=0, random_state=1)"
   ]
  },
  {
   "cell_type": "code",
   "execution_count": 2,
   "metadata": {
    "slideshow": {
     "slide_type": "slide"
    }
   },
   "outputs": [
    {
     "name": "stdout",
     "output_type": "stream",
     "text": [
      "Counter({0: 9900, 1: 100})\n"
     ]
    }
   ],
   "source": [
    "# summarize class distribution\n",
    "from collections import Counter\n",
    "counter = Counter(y)\n",
    "print(counter)"
   ]
  },
  {
   "cell_type": "code",
   "execution_count": 3,
   "metadata": {
    "scrolled": true,
    "slideshow": {
     "slide_type": "slide"
    }
   },
   "outputs": [
    {
     "data": {
      "image/png": "[encoded data removed]",
      "text/plain": [
       "<Figure size 432x288 with 1 Axes>"
      ]
     },
     "metadata": {
      "needs_background": "light"
     },
     "output_type": "display_data"
    }
   ],
   "source": [
    "# scatter plot of examples by class label\n",
    "import numpy as np\n",
    "from matplotlib import pyplot\n",
    "\n",
    "# scatter plot of examples by class label\n",
    "for label, _ in counter.items():\n",
    "    row_ix = np.where(y == label)[0]\n",
    "    pyplot.scatter(X[row_ix, 0], X[row_ix, 1], label=str(label))\n",
    "pyplot.legend()\n",
    "pyplot.show()"
   ]
  },
  {
   "cell_type": "markdown",
   "metadata": {
    "slideshow": {
     "slide_type": "slide"
    }
   },
   "source": [
    "Next, we can begin to review popular _undersampling_ methods made available via the `imbalanced-learn` Python library.\n",
    "- `conda install -c conda-forge imbalanced-learn`\n",
    "\n",
    "Or:\n",
    "- `pip install imbalanced-learn --user`"
   ]
  },
  {
   "cell_type": "code",
   "execution_count": 4,
   "metadata": {
    "slideshow": {
     "slide_type": "fragment"
    }
   },
   "outputs": [
    {
     "name": "stdout",
     "output_type": "stream",
     "text": [
      "0.8.1\n"
     ]
    }
   ],
   "source": [
    "# check version number\n",
    "import imblearn\n",
    "print(imblearn.__version__)"
   ]
  },
  {
   "cell_type": "markdown",
   "metadata": {
    "slideshow": {
     "slide_type": "slide"
    }
   },
   "source": [
    "**Near Miss Undersampling:** \n",
    "\n",
    "- A collection of methods that select examples to keep.\n",
    "- It has three methods in the `imblearn` library.\n",
    "- Keep majority class examples with minimum average distance to:\n",
    "    1. k closest minority class examples. _(Method 1)_\n",
    "    1. k furthest minority class examples. _(Method 2)_\n",
    "    1. Look for the k closest majority class examples for each minority class example. _(Method 3)_\n",
    "        - This method balances the data differently than the rest."
   ]
  },
  {
   "cell_type": "code",
   "execution_count": 5,
   "metadata": {
    "slideshow": {
     "slide_type": "slide"
    }
   },
   "outputs": [
    {
     "name": "stdout",
     "output_type": "stream",
     "text": [
      "Counter({0: 9900, 1: 100})\n",
      "Counter({0: 100, 1: 100})\n"
     ]
    }
   ],
   "source": [
    "### Near Miss Undersampling, Method 1\n",
    "from imblearn.under_sampling import NearMiss\n",
    "X, y = make_classification(n_samples=10000, n_features=2, n_redundant=0,\n",
    "    n_clusters_per_class=1, weights=[0.99], flip_y=0, random_state=1)\n",
    "\n",
    "counter = Counter(y)\n",
    "print(counter)\n",
    "\n",
    "undersample = NearMiss(version=1, n_neighbors=3)\n",
    "# transform the dataset\n",
    "X, y = undersample.fit_resample(X, y)\n",
    "# summarize the new class distribution\n",
    "counter = Counter(y)\n",
    "print(counter)"
   ]
  },
  {
   "cell_type": "code",
   "execution_count": 6,
   "metadata": {
    "slideshow": {
     "slide_type": "slide"
    }
   },
   "outputs": [
    {
     "name": "stdout",
     "output_type": "stream",
     "text": [
      "Scatter plot of examples by class label (Method 1)\n"
     ]
    },
    {
     "data": {
      "image/png": "[encoded data removed]",
      "text/plain": [
       "<Figure size 432x288 with 1 Axes>"
      ]
     },
     "metadata": {
      "needs_background": "light"
     },
     "output_type": "display_data"
    }
   ],
   "source": [
    "print(\"Scatter plot of examples by class label (Method 1)\")\n",
    "\n",
    "for label, _ in counter.items():\n",
    "    row_ix = np.where(y == label)[0]\n",
    "    pyplot.scatter(X[row_ix, 0], X[row_ix, 1], label=str(label))\n",
    "pyplot.legend()\n",
    "pyplot.show()"
   ]
  },
  {
   "cell_type": "code",
   "execution_count": 7,
   "metadata": {
    "slideshow": {
     "slide_type": "slide"
    }
   },
   "outputs": [
    {
     "name": "stdout",
     "output_type": "stream",
     "text": [
      "Counter({0: 9900, 1: 100})\n",
      "Counter({0: 100, 1: 100})\n"
     ]
    }
   ],
   "source": [
    "### Near Miss Undersampling, Method 2\n",
    "X, y = make_classification(n_samples=10000, n_features=2, n_redundant=0,\n",
    "    n_clusters_per_class=1, weights=[0.99], flip_y=0, random_state=1)\n",
    "\n",
    "counter = Counter(y)\n",
    "print(counter)\n",
    "\n",
    "undersample = NearMiss(version=2, n_neighbors=3)\n",
    "\n",
    "X, y = undersample.fit_resample(X, y)\n",
    "# summarize the new class distribution\n",
    "counter = Counter(y)\n",
    "print(counter)"
   ]
  },
  {
   "cell_type": "markdown",
   "metadata": {
    "slideshow": {
     "slide_type": "slide"
    }
   },
   "source": [
    "- NearMiss-2 strategy, which is an inverse to NearMiss-1. \n",
    "- It selects examples that are closest to the most distant examples from the minority class, \n",
    "    - defined by the `n_neighbors` argument."
   ]
  },
  {
   "cell_type": "code",
   "execution_count": 8,
   "metadata": {
    "slideshow": {
     "slide_type": "slide"
    }
   },
   "outputs": [
    {
     "name": "stdout",
     "output_type": "stream",
     "text": [
      "Scatter plot of examples by class label (Method 2)\n"
     ]
    },
    {
     "data": {
      "image/png": "[encoded data removed]",
      "text/plain": [
       "<Figure size 432x288 with 1 Axes>"
      ]
     },
     "metadata": {
      "needs_background": "light"
     },
     "output_type": "display_data"
    }
   ],
   "source": [
    "print(\"Scatter plot of examples by class label (Method 2)\")\n",
    "for label, _ in counter.items():\n",
    "    row_ix = np.where(y == label)[0]\n",
    "    pyplot.scatter(X[row_ix, 0], X[row_ix, 1], label=str(label))\n",
    "pyplot.legend()\n",
    "pyplot.show()"
   ]
  },
  {
   "cell_type": "markdown",
   "metadata": {
    "slideshow": {
     "slide_type": "slide"
    }
   },
   "source": [
    "- NearMiss-3 that selects the closest examples from the majority class for each minority class.\n",
    "- It selects examples that are closest to the most distant examples from the minority class, \n",
    "    - The `n_neighbors_ver3` argument determines the number of examples to select for each minority example\n",
    "    - Although the desired balancing ratio set via `sampling_strategy` will filter this so that the desired balance is achieved."
   ]
  },
  {
   "cell_type": "code",
   "execution_count": 9,
   "metadata": {
    "slideshow": {
     "slide_type": "slide"
    }
   },
   "outputs": [
    {
     "name": "stdout",
     "output_type": "stream",
     "text": [
      "Counter({0: 9900, 1: 100})\n",
      "Counter({0: 100, 1: 100})\n"
     ]
    }
   ],
   "source": [
    "from collections import Counter\n",
    "from sklearn.datasets import make_classification\n",
    "from imblearn.under_sampling import NearMiss\n",
    "from matplotlib import pyplot\n",
    "from numpy import where\n",
    "# define dataset\n",
    "X, y = make_classification(n_samples=10000, n_features=2, n_redundant=0,\n",
    "    n_clusters_per_class=1, weights=[0.99], flip_y=0, random_state=1)\n",
    "# summarize class distribution\n",
    "counter = Counter(y)\n",
    "print(counter)\n",
    "# define the undersampling method\n",
    "undersample = NearMiss(version=3, n_neighbors_ver3=3)\n",
    "# transform the dataset\n",
    "X, y = undersample.fit_resample(X, y)\n",
    "# summarize the new class distribution\n",
    "counter = Counter(y)\n",
    "print(counter)"
   ]
  },
  {
   "cell_type": "code",
   "execution_count": 10,
   "metadata": {
    "scrolled": false,
    "slideshow": {
     "slide_type": "slide"
    }
   },
   "outputs": [
    {
     "name": "stdout",
     "output_type": "stream",
     "text": [
      "Scatter plot of examples by class label (Method 3)\n"
     ]
    },
    {
     "data": {
      "image/png": "[encoded data removed]",
      "text/plain": [
       "<Figure size 432x288 with 1 Axes>"
      ]
     },
     "metadata": {
      "needs_background": "light"
     },
     "output_type": "display_data"
    }
   ],
   "source": [
    "print(\"Scatter plot of examples by class label (Method 3)\")\n",
    "for label, _ in counter.items():\n",
    "    row_ix = where(y == label)[0]\n",
    "    pyplot.scatter(X[row_ix, 0], X[row_ix, 1], label=str(label))\n",
    "pyplot.legend()\n",
    "pyplot.show()"
   ]
  },
  {
   "cell_type": "markdown",
   "metadata": {
    "slideshow": {
     "slide_type": "slide"
    }
   },
   "source": [
    "**Tomek Link Undersampling:** \n",
    "\n",
    "- It is a method that select examples to _delete_ from the majority class.\n",
    "- Instances `a` and `b` define a Tomek Link if: \n",
    "    1. Instance `a`’s nearest neighbor is `b`, and\n",
    "    2. Instance `b`’s nearest neighbor is `a`, and\n",
    "    3. Instances `a` and `b` belong to different classes."
   ]
  },
  {
   "cell_type": "code",
   "execution_count": 11,
   "metadata": {
    "slideshow": {
     "slide_type": "slide"
    }
   },
   "outputs": [
    {
     "name": "stdout",
     "output_type": "stream",
     "text": [
      "Counter({0: 9900, 1: 100})\n",
      "Counter({0: 9874, 1: 100})\n",
      "Only 26 examples from the majority class were removed.\n"
     ]
    }
   ],
   "source": [
    "# Undersample and plot imbalanced dataset with Tomek Links (delete)\n",
    "from collections import Counter\n",
    "from sklearn.datasets import make_classification\n",
    "from imblearn.under_sampling import TomekLinks\n",
    "from matplotlib import pyplot\n",
    "from numpy import where\n",
    "# define dataset\n",
    "X, y = make_classification(n_samples=10000, n_features=2, n_redundant=0,\n",
    "    n_clusters_per_class=1, weights=[0.99], flip_y=0, random_state=1)\n",
    "# summarize class distribution\n",
    "counter = Counter(y)\n",
    "print(counter)\n",
    "# define the undersampling method\n",
    "undersample = TomekLinks()\n",
    "# transform the dataset\n",
    "new_X, new_y = undersample.fit_resample(X, y)\n",
    "removed = np.delete(X, undersample.sample_indices_, axis=0)\n",
    "# summarize the new class distribution\n",
    "counter = Counter(new_y)\n",
    "\n",
    "print(counter)\n",
    "print(\"Only 26 examples from the majority class were removed.\")"
   ]
  },
  {
   "cell_type": "code",
   "execution_count": 12,
   "metadata": {
    "scrolled": true,
    "slideshow": {
     "slide_type": "slide"
    }
   },
   "outputs": [
    {
     "data": {
      "image/png": "[encoded data removed]",
      "text/plain": [
       "<Figure size 432x288 with 1 Axes>"
      ]
     },
     "metadata": {
      "needs_background": "light"
     },
     "output_type": "display_data"
    }
   ],
   "source": [
    "# scatter plot of examples by class label\n",
    "for label, _ in counter.items():\n",
    "    row_ix = where(new_y == label)[0]\n",
    "    pyplot.scatter(new_X[row_ix, 0], new_X[row_ix, 1], label=str(label))\n",
    "    \n",
    "pyplot.scatter(removed[:, 0], removed[:, 1], label=\"Removed\")\n",
    "pyplot.legend()\n",
    "pyplot.show()"
   ]
  },
  {
   "cell_type": "markdown",
   "metadata": {
    "slideshow": {
     "slide_type": "slide"
    }
   },
   "source": [
    "**Tomek Links Removal: Conclusion** \n",
    "\n",
    "- The goal is to find and remove positive instances when they are very similar with a negative instance.\n",
    "- Although finding the ambiguous examples on the class boundary is useful, alone, it is not sufficient.\n",
    "- In practice, the Tomek Links procedure is often combined with other methods."
   ]
  },
  {
   "cell_type": "markdown",
   "metadata": {
    "slideshow": {
     "slide_type": "slide"
    }
   },
   "source": [
    "### Random Undersampling\n",
    "- Random undersampling is the simplest technique involves removing random records from the majority class.\n",
    "- It is a naive technique, because it has no assumption about data.\n",
    "- It can cause loss of information, but in some use cases it is useful.\n",
    "    - For example, if the positive class and negative class are equal in nature, but we have more samples of one class."
   ]
  },
  {
   "cell_type": "markdown",
   "metadata": {
    "slideshow": {
     "slide_type": "slide"
    }
   },
   "source": [
    "### Undersampling\n",
    "- Ojective: equalizing the number of examples of each class\n",
    "- The major drawback of random undersampling is that this method can discard potentially useful data that could be important for the induction process.\n",
    "- We discuss some undersampling techniques:\n",
    "    - **Random Undersampling (RUS):** This technique randomly eliminates the majority class examples to get a balanced instance set.\n",
    "    - **Near Miss Undersampling**: A method that select examples to _keep_\n",
    "    - **Tomek Links**: A method that selects examples to _delete_\n",
    "    - **One-Sided Selection for Undersampling**: Combinations of keep and delete methods"
   ]
  },
  {
   "cell_type": "code",
   "execution_count": 13,
   "metadata": {
    "slideshow": {
     "slide_type": "slide"
    }
   },
   "outputs": [
    {
     "name": "stdout",
     "output_type": "stream",
     "text": [
      "Counter({0: 9900, 1: 100})\n",
      "Counter({0: 100, 1: 100})\n"
     ]
    }
   ],
   "source": [
    "# example of random undersampling to balance the class distribution\n",
    "from collections import Counter\n",
    "from sklearn.datasets import make_classification\n",
    "from imblearn.under_sampling import RandomUnderSampler\n",
    "# define dataset\n",
    "X, y = make_classification(n_samples=10000, weights=[0.99], flip_y=0)\n",
    "# summarize class distribution\n",
    "counter = Counter(y)\n",
    "print(counter)\n",
    "# define undersample strategy\n",
    "undersample = RandomUnderSampler(sampling_strategy='majority')\n",
    "# fit and apply the transform\n",
    "X, y = undersample.fit_resample(X, y)\n",
    "# summarize class distribution\n",
    "counter = Counter(y)\n",
    "print(counter)"
   ]
  },
  {
   "cell_type": "code",
   "execution_count": 14,
   "metadata": {
    "slideshow": {
     "slide_type": "slide"
    }
   },
   "outputs": [
    {
     "data": {
      "image/png": "[encoded data removed]",
      "text/plain": [
       "<Figure size 432x288 with 1 Axes>"
      ]
     },
     "metadata": {
      "needs_background": "light"
     },
     "output_type": "display_data"
    },
    {
     "name": "stdout",
     "output_type": "stream",
     "text": [
      "Results may vary given the stochastic nature of the algorithm.\n"
     ]
    }
   ],
   "source": [
    "for label, _ in counter.items():\n",
    "    row_ix = where(y == label)[0]\n",
    "    pyplot.scatter(X[row_ix, 0], X[row_ix, 1], label=str(label))\n",
    "pyplot.legend()\n",
    "pyplot.show()\n",
    "print(\"Results may vary given the stochastic nature of the algorithm.\")"
   ]
  },
  {
   "cell_type": "markdown",
   "metadata": {
    "slideshow": {
     "slide_type": "slide"
    }
   },
   "source": [
    "### Oversampling\n",
    "\n",
    "- Oversampling is the replication of minority class examples. \n",
    "- Three common algorithms for oversampling are `SMOTE`, and `ADASYN`, and their variants:\n",
    "    - `Random Oversampling (ROS)`: This technique randomly duplicates samples from the majority class to get a balanced instance set.\n",
    "    - `SMOTE`: Synthetic Minority Oversampling Technique (SMOTE). \n",
    "        - This technique is described in the next slide.\n",
    "    - `ADASYN`: the Adaptive Synthetic (ADASYN). \n",
    "        - Similar to SMOTE, but after creating samples, it adds a random small values to the points thus making it more realistic."
   ]
  },
  {
   "cell_type": "markdown",
   "metadata": {
    "slideshow": {
     "slide_type": "slide"
    }
   },
   "source": [
    "### Random Oversampling\n",
    "- Random oversampling is the simplest technique involves duplicating random records from the minority class.\n",
    "- It is a naive technique, because it has no assumption about data.\n",
    "- Oversampling using ROS can cause overfit issues and hurt the generalization of your model."
   ]
  },
  {
   "cell_type": "code",
   "execution_count": 15,
   "metadata": {
    "scrolled": true,
    "slideshow": {
     "slide_type": "slide"
    }
   },
   "outputs": [
    {
     "name": "stdout",
     "output_type": "stream",
     "text": [
      "Counter({0: 9900, 1: 100})\n",
      "Counter({0: 9900, 1: 9900})\n"
     ]
    }
   ],
   "source": [
    "# example of random oversampling to balance the class distribution\n",
    "from collections import Counter\n",
    "from sklearn.datasets import make_classification\n",
    "from imblearn.over_sampling import RandomOverSampler\n",
    "# define dataset\n",
    "X, y = make_classification(n_samples=10000, weights=[0.99], flip_y=0)\n",
    "# summarize class distribution\n",
    "counter = Counter(y)\n",
    "print(counter)\n",
    "# define undersample strategy\n",
    "undersample = RandomOverSampler(sampling_strategy='minority')\n",
    "# fit and apply the transform\n",
    "X, y = undersample.fit_resample(X, y)\n",
    "# summarize class distribution\n",
    "counter = Counter(y)\n",
    "print(counter)"
   ]
  },
  {
   "cell_type": "code",
   "execution_count": 16,
   "metadata": {
    "slideshow": {
     "slide_type": "slide"
    }
   },
   "outputs": [
    {
     "data": {
      "image/png": "[encoded data removed]",
      "text/plain": [
       "<Figure size 432x288 with 1 Axes>"
      ]
     },
     "metadata": {
      "needs_background": "light"
     },
     "output_type": "display_data"
    },
    {
     "name": "stdout",
     "output_type": "stream",
     "text": [
      "Results may vary given the stochastic nature of the algorithm.\n"
     ]
    }
   ],
   "source": [
    "for label, _ in counter.items():\n",
    "    row_ix = where(y == label)[0]\n",
    "    pyplot.scatter(X[row_ix, 0], X[row_ix, 1], label=str(label))\n",
    "pyplot.legend()\n",
    "pyplot.show()\n",
    "print(\"Results may vary given the stochastic nature of the algorithm.\")"
   ]
  },
  {
   "cell_type": "markdown",
   "metadata": {
    "slideshow": {
     "slide_type": "slide"
    }
   },
   "source": [
    "### Oversampling: How SMOTE works?\n",
    "\n",
    "- Both `SMOTE`, and `ADASYN` use the same algorithm to generate new samples.\n",
    "- Considering a sample $x_i$, a new sample $x_{new}$ will be generated considering its `k_neighbors`\n",
    "- For instance, the 3 nearest-neighbors are included in the blue circle as illustrated in the figure below.\n",
    "- Then, one of these nearest-neighbors $x_{zi}$ is selected and a sample is generated as follows:\n",
    "    - $x_{new} = x_i + \\lambda \\times (x_{zi} - x_i)$, where $\\lambda$ is a random number in the range `[0, 1]`. \n"
   ]
  },
  {
   "cell_type": "markdown",
   "metadata": {
    "slideshow": {
     "slide_type": "slide"
    }
   },
   "source": [
    "<img src=\"sphx_glr_plot_illustration_generation_sample_001.png\" width=\"50%\" />"
   ]
  },
  {
   "cell_type": "markdown",
   "metadata": {
    "slideshow": {
     "slide_type": "slide"
    }
   },
   "source": [
    "### Oversampling in `imblearn`\n",
    "\n",
    "- In the `imblearn` library, the following classes perform oversampling:\n",
    "    - `RandomOverSampler`: Naive random over-sampling\n",
    "    - `SMOTE`: Synthetic Minority Oversampling Technique (SMOTE) \n",
    "    - `ADASYN`: the Adaptive Synthetic (ADASYN)"
   ]
  },
  {
   "cell_type": "markdown",
   "metadata": {
    "slideshow": {
     "slide_type": "slide"
    }
   },
   "source": [
    "### Combining Oversampling and Undersampling\n",
    "\n",
    "- We can use the `Pipeline` class to create a combined sequence of resampling methods:\n",
    "\n",
    "`pipeline = Pipeline(steps=[('o', over), ('u', under)])`\n",
    "- This pipeline first applies an oversampling technique to a dataset.\n",
    "- Then applies undersampling to the output of the oversampling transform.\n",
    "- A model can be added as the last step in the pipeline.\n",
    "    - This allows the pipeline to be treated as a model."
   ]
  },
  {
   "cell_type": "markdown",
   "metadata": {
    "slideshow": {
     "slide_type": "slide"
    }
   },
   "source": [
    "### A pipeline example\n"
   ]
  },
  {
   "cell_type": "code",
   "execution_count": 17,
   "metadata": {
    "slideshow": {
     "slide_type": "fragment"
    }
   },
   "outputs": [],
   "source": [
    "from sklearn.tree import DecisionTreeClassifier\n",
    "from imblearn.pipeline import Pipeline\n",
    "from imblearn.over_sampling import RandomOverSampler\n",
    "from imblearn.under_sampling import RandomUnderSampler\n",
    "\n",
    "# define model\n",
    "model = DecisionTreeClassifier()\n",
    "# define resampling\n",
    "over = RandomOverSampler(sampling_strategy=0.1)\n",
    "under = RandomUnderSampler(sampling_strategy=0.5)\n",
    "# define pipeline\n",
    "pipeline = Pipeline(steps=[('o', over), ('u', under), ('m', model)])"
   ]
  },
  {
   "cell_type": "markdown",
   "metadata": {
    "slideshow": {
     "slide_type": "slide"
    }
   },
   "source": [
    "### Combining Random Oversampling and Undersampling (Manual)"
   ]
  },
  {
   "cell_type": "code",
   "execution_count": 18,
   "metadata": {
    "scrolled": true,
    "slideshow": {
     "slide_type": "fragment"
    }
   },
   "outputs": [
    {
     "name": "stdout",
     "output_type": "stream",
     "text": [
      "Mean ROC AUC: 0.801\n",
      "Fully unbalanced score: 0.773\n",
      "NOTE: `Cross_validate` only returns scores, to create a model you can use the `GridSearchCV` class.\n"
     ]
    }
   ],
   "source": [
    "from numpy import mean\n",
    "from sklearn.datasets import make_classification\n",
    "from sklearn.model_selection import cross_val_score\n",
    "from sklearn.model_selection import RepeatedStratifiedKFold\n",
    "\n",
    "# generate dataset\n",
    "X, y = make_classification(n_samples=10000, n_features=2, n_redundant=0,\n",
    "    n_clusters_per_class=1, weights=[0.99], flip_y=0, random_state=1)\n",
    "\n",
    "# define evaluation procedure\n",
    "cv = RepeatedStratifiedKFold(n_splits=10, n_repeats=3, random_state=1)\n",
    "# evaluate model on the pipeline\n",
    "scores = cross_val_score(pipeline, X, y, scoring='roc_auc', cv=cv, n_jobs=-1)\n",
    "# summarize performance\n",
    "print('Mean ROC AUC: %.3f' % mean(scores))\n",
    "print(f\"Fully unbalanced score: {mean(cross_val_score(model, X, y, scoring='roc_auc', cv=cv, n_jobs=-1)):0.3f}\")\n",
    "print('NOTE: `Cross_validate` only returns scores, to create a model you can use the `GridSearchCV` class.')"
   ]
  },
  {
   "cell_type": "code",
   "execution_count": 19,
   "metadata": {
    "slideshow": {
     "slide_type": "fragment"
    }
   },
   "outputs": [
    {
     "name": "stdout",
     "output_type": "stream",
     "text": [
      "Original: 9900 100\n",
      "Over: 9900 990\n",
      "Under: 1980 990\n"
     ]
    }
   ],
   "source": [
    "X, y = make_classification(n_samples=10000, n_features=2, n_redundant=0,\n",
    "    n_clusters_per_class=1, weights=[0.99], flip_y=0, random_state=1)\n",
    "\n",
    "over = RandomOverSampler(sampling_strategy=0.1)\n",
    "under = RandomUnderSampler(sampling_strategy=0.5)\n",
    "\n",
    "print('Original:', len(y[y==0]), len(y[y==1]))\n",
    "over_X, over_y = over.fit_resample(X, y)\n",
    "print('Over:', len(over_y[over_y==0]), len(over_y[over_y==1]))\n",
    "under_X, under_y = under.fit_resample(over_X, over_y)\n",
    "print('Under:', len(under_y[under_y==0]), len(under_y[under_y==1]))"
   ]
  },
  {
   "cell_type": "markdown",
   "metadata": {
    "slideshow": {
     "slide_type": "slide"
    }
   },
   "source": [
    "### Combining SMOTE Oversampling and Tomek Links Undersampling\n",
    "- `imblearn` has some classes for combining techniques, for example: `SMOTETomek`"
   ]
  },
  {
   "cell_type": "code",
   "execution_count": 20,
   "metadata": {
    "slideshow": {
     "slide_type": "fragment"
    }
   },
   "outputs": [
    {
     "name": "stdout",
     "output_type": "stream",
     "text": [
      "Mean ROC AUC: 0.812\n"
     ]
    }
   ],
   "source": [
    "from imblearn.combine import SMOTETomek\n",
    "from imblearn.under_sampling import TomekLinks\n",
    "\n",
    "X, y = make_classification(n_samples=10000, n_features=2, n_redundant=0,\n",
    "    n_clusters_per_class=1, weights=[0.99], flip_y=0, random_state=1)\n",
    "\n",
    "model = DecisionTreeClassifier()\n",
    "resample = SMOTETomek(tomek=TomekLinks(sampling_strategy='majority'))\n",
    "pipeline = Pipeline(steps=[('r', resample), ('m', model)])\n",
    "cv = RepeatedStratifiedKFold(n_splits=10, n_repeats=3, random_state=1)\n",
    "scores = cross_val_score(pipeline, X, y, scoring='roc_auc', cv=cv, n_jobs=-1)\n",
    "# summarize performance\n",
    "print('Mean ROC AUC: %.3f' % mean(scores))"
   ]
  },
  {
   "cell_type": "markdown",
   "metadata": {
    "slideshow": {
     "slide_type": "slide"
    }
   },
   "source": [
    "### Outliers\n",
    "\n",
    "- **Noise**: a random error or variance in a variable. Consequently, the variables affected by the noise will have values that fall outside the expected values for those variables. \n",
    "- **Outliers**: If these extreme values are out of range, we call them outliers. Based on their nature, we should fix them differently.\n",
    "    - If an outlier is due to human errors in data collection, we should remove them. \n",
    "        - Examples:\n",
    "            - an individual can appear with age over 1,000 years.\n",
    "            - an individual can appear with a negative salary.\n",
    "    - We can look at some undersampling techniques, as methods to remove outliers.\n",
    "- There are different methods to deal with outliers. For example:\n",
    "    - Z-Score method, IQR method, DBSCAN"
   ]
  },
  {
   "cell_type": "markdown",
   "metadata": {
    "slideshow": {
     "slide_type": "slide"
    }
   },
   "source": [
    "### Z-Score\n",
    "Using Z score method, we can find out how many standard deviations value away from the mean.$\\newline$      \n",
    "      $z=\\dfrac{x-\\bar{x}}{\\sigma}$ "
   ]
  },
  {
   "cell_type": "markdown",
   "metadata": {
    "slideshow": {
     "slide_type": "slide"
    }
   },
   "source": [
    "### Example\n",
    "<img src=\"zscore1.jpg\" width=\"80%\"/>\n",
    "\n",
    "\n",
    "    "
   ]
  },
  {
   "cell_type": "markdown",
   "metadata": {
    "slideshow": {
     "slide_type": "slide"
    }
   },
   "source": [
    "In the previous example:$\\newline$\n",
    "    - `68%` of the data points lie between `+1` and `-1` standard deviation.$\\newline$\n",
    "    - `95%` of the data points lie between `+2` and `-2` standard deviation.$\\newline$\n",
    "    - `99.7%` of the data points lie between `+3` and `-3` standard deviation."
   ]
  },
  {
   "cell_type": "code",
   "execution_count": 21,
   "metadata": {
    "slideshow": {
     "slide_type": "slide"
    }
   },
   "outputs": [
    {
     "data": {
      "text/plain": [
       "array([71, 21, 35, 57, 57, 52, 16, 76, 99, 40, 63, 51, 36, 82, 45,  8, 49,\n",
       "       88, 98, 14, 93, 17, 69, 74, 91, 76, 53, 70, 64, 42, 92,  2, 15, 65,\n",
       "       64, 30, 19, 59, 21, 24, 78, 58, 67, 62, 31, 81, 95, 51, 95,  1])"
      ]
     },
     "execution_count": 21,
     "metadata": {},
     "output_type": "execute_result"
    }
   ],
   "source": [
    "#generating 50 random numbers between 0, and 100\n",
    "sample_data = np.random.randint(100, size=50)\n",
    "sample_data"
   ]
  },
  {
   "cell_type": "code",
   "execution_count": 22,
   "metadata": {
    "slideshow": {
     "slide_type": "slide"
    }
   },
   "outputs": [
    {
     "data": {
      "text/plain": [
       "array([  71,   21,   35,   57,   57,   52,   16,   76,   99,   40,   63,\n",
       "         51,   36,   82,   45,    8,   49,   88,   98,   14,   93,   17,\n",
       "         69,   74,   91,   76,   53,   70,   64,   42,   92,    2,   15,\n",
       "         65,   64,   30,   19,   59,   21,   24,   78,   58,   67,   62,\n",
       "         31,   81,   95,   51,   95,    1,  880, 2000,  590])"
      ]
     },
     "execution_count": 22,
     "metadata": {},
     "output_type": "execute_result"
    }
   ],
   "source": [
    "#adding some unrelated numbers:\n",
    "sample_data = np.append(sample_data, np.array([880,2000,590]))\n",
    "sample_data"
   ]
  },
  {
   "cell_type": "code",
   "execution_count": 23,
   "metadata": {
    "slideshow": {
     "slide_type": "slide"
    }
   },
   "outputs": [
    {
     "name": "stdout",
     "output_type": "stream",
     "text": [
      "Outliers: [880, 2000, 590]\n"
     ]
    }
   ],
   "source": [
    "def Zscore_outlier(data):\n",
    "    out = []\n",
    "    m = np.mean(data)\n",
    "    sd = np.std(data)\n",
    "    for i in data: \n",
    "        z = (i-m)/sd\n",
    "        if np.abs(z) > 1: \n",
    "            out.append(i)\n",
    "    return out\n",
    "\n",
    "outliers = Zscore_outlier(sample_data)\n",
    "print(\"Outliers:\", outliers)"
   ]
  },
  {
   "cell_type": "markdown",
   "metadata": {
    "slideshow": {
     "slide_type": "slide"
    }
   },
   "source": [
    "### IQR (Inter Quartile Range)\n",
    "\n",
    "- In this method by using IQR, we detect outliers.\n",
    "- IQR tells us the variation in the data set.\n",
    "- Any value, which is beyond the range of -1.5 x IQR to 1.5 x IQR treated as outliers."
   ]
  },
  {
   "cell_type": "markdown",
   "metadata": {
    "slideshow": {
     "slide_type": "slide"
    }
   },
   "source": [
    "<img src=\"iqr.png\" />"
   ]
  },
  {
   "cell_type": "markdown",
   "metadata": {
    "slideshow": {
     "slide_type": "slide"
    }
   },
   "source": [
    "- `Q1` represents the `1st quartile`/25th percentile of the data.\n",
    "- `Q2` represents the `2nd quartile`/50th percentile of the data. (median)\n",
    "- `Q3` represents the 3`rd quartile`/75th percentile of the data.\n",
    "- `IQR` = `q3`-`q1`\n",
    "- `(Q1–1.5*IQR)` represents the smallest value in the data set. \n",
    "- `(Q3+1.5*IQR)` represnts the largest value in the data set."
   ]
  },
  {
   "cell_type": "code",
   "execution_count": 24,
   "metadata": {
    "slideshow": {
     "slide_type": "slide"
    }
   },
   "outputs": [
    {
     "data": {
      "text/plain": [
       "array([  71,   21,   35,   57,   57,   52,   16,   76,   99,   40,   63,\n",
       "         51,   36,   82,   45,    8,   49,   88,   98,   14,   93,   17,\n",
       "         69,   74,   91,   76,   53,   70,   64,   42,   92,    2,   15,\n",
       "         65,   64,   30,   19,   59,   21,   24,   78,   58,   67,   62,\n",
       "         31,   81,   95,   51,   95,    1,  880, 2000,  590])"
      ]
     },
     "execution_count": 24,
     "metadata": {},
     "output_type": "execute_result"
    }
   ],
   "source": [
    "sample_data"
   ]
  },
  {
   "cell_type": "code",
   "execution_count": 25,
   "metadata": {
    "slideshow": {
     "slide_type": "slide"
    }
   },
   "outputs": [
    {
     "name": "stdout",
     "output_type": "stream",
     "text": [
      "iqr 43.0\n",
      "Upper tail 142.5\n",
      "Lower tail -29.5\n",
      "Outliers: [880, 2000, 590]\n"
     ]
    }
   ],
   "source": [
    "out=[]\n",
    "def iqr_outliers(data):\n",
    "    q1 = np.quantile(data, 0.25)\n",
    "    q3 = np.quantile(data, 0.75)\n",
    "    iqr = q3-q1\n",
    "    print(\"iqr\",iqr)\n",
    "    lt = q1 - 1.5 * iqr\n",
    "    ut = q3 + 1.5 * iqr\n",
    "    print(\"Upper tail\",ut)\n",
    "    print(\"Lower tail\",lt)\n",
    "    for i in data:\n",
    "        if i > ut or i < lt:\n",
    "            out.append(i)\n",
    "    print(\"Outliers:\", out)\n",
    "iqr_outliers(sample_data)"
   ]
  },
  {
   "cell_type": "markdown",
   "metadata": {
    "slideshow": {
     "slide_type": "slide"
    }
   },
   "source": [
    "### DBSCAN (Density-based spatial clustering of applications with noise)\n",
    "\n",
    "- DBSCAN a clustering algorithm.\n",
    "- It finds core samples in a dense area and groups neighbors to create clusters.\n",
    "- The samples in a low-density area become the outliers.\n",
    "- The main inputs are `epsilon`, and `minimum samples`:\n",
    "    - `eps`: a distance parameter that defines the radius to search for nearby neighbors.\n",
    "    - `min_samples`: minimum amount of points required to form a cluster."
   ]
  },
  {
   "cell_type": "markdown",
   "metadata": {
    "slideshow": {
     "slide_type": "slide"
    }
   },
   "source": [
    "<img src=\"dbscan.png\" />"
   ]
  },
  {
   "cell_type": "markdown",
   "metadata": {
    "slideshow": {
     "slide_type": "fragment"
    }
   },
   "source": [
    "https://www.naftaliharris.com/blog/visualizing-dbscan-clustering/"
   ]
  },
  {
   "cell_type": "code",
   "execution_count": 26,
   "metadata": {
    "slideshow": {
     "slide_type": "slide"
    }
   },
   "outputs": [
    {
     "data": {
      "text/html": [
       "<div>\n",
       "<style scoped>\n",
       "    .dataframe tbody tr th:only-of-type {\n",
       "        vertical-align: middle;\n",
       "    }\n",
       "\n",
       "    .dataframe tbody tr th {\n",
       "        vertical-align: top;\n",
       "    }\n",
       "\n",
       "    .dataframe thead th {\n",
       "        text-align: right;\n",
       "    }\n",
       "</style>\n",
       "<table border=\"1\" class=\"dataframe\">\n",
       "  <thead>\n",
       "    <tr style=\"text-align: right;\">\n",
       "      <th></th>\n",
       "      <th>sepal length (cm)</th>\n",
       "      <th>sepal width (cm)</th>\n",
       "      <th>petal length (cm)</th>\n",
       "      <th>petal width (cm)</th>\n",
       "    </tr>\n",
       "  </thead>\n",
       "  <tbody>\n",
       "    <tr>\n",
       "      <th>0</th>\n",
       "      <td>5.1</td>\n",
       "      <td>3.5</td>\n",
       "      <td>1.4</td>\n",
       "      <td>0.2</td>\n",
       "    </tr>\n",
       "    <tr>\n",
       "      <th>1</th>\n",
       "      <td>4.9</td>\n",
       "      <td>3.0</td>\n",
       "      <td>1.4</td>\n",
       "      <td>0.2</td>\n",
       "    </tr>\n",
       "    <tr>\n",
       "      <th>2</th>\n",
       "      <td>4.7</td>\n",
       "      <td>3.2</td>\n",
       "      <td>1.3</td>\n",
       "      <td>0.2</td>\n",
       "    </tr>\n",
       "    <tr>\n",
       "      <th>3</th>\n",
       "      <td>4.6</td>\n",
       "      <td>3.1</td>\n",
       "      <td>1.5</td>\n",
       "      <td>0.2</td>\n",
       "    </tr>\n",
       "    <tr>\n",
       "      <th>4</th>\n",
       "      <td>5.0</td>\n",
       "      <td>3.6</td>\n",
       "      <td>1.4</td>\n",
       "      <td>0.2</td>\n",
       "    </tr>\n",
       "  </tbody>\n",
       "</table>\n",
       "</div>"
      ],
      "text/plain": [
       "   sepal length (cm)  sepal width (cm)  petal length (cm)  petal width (cm)\n",
       "0                5.1               3.5                1.4               0.2\n",
       "1                4.9               3.0                1.4               0.2\n",
       "2                4.7               3.2                1.3               0.2\n",
       "3                4.6               3.1                1.5               0.2\n",
       "4                5.0               3.6                1.4               0.2"
      ]
     },
     "execution_count": 26,
     "metadata": {},
     "output_type": "execute_result"
    }
   ],
   "source": [
    "from sklearn import datasets\n",
    "import pandas as pd\n",
    "\n",
    "iris = datasets.load_iris()\n",
    "df = pd.DataFrame(iris.data, columns=iris.feature_names)\n",
    "df.head()"
   ]
  },
  {
   "cell_type": "code",
   "execution_count": 27,
   "metadata": {
    "slideshow": {
     "slide_type": "slide"
    }
   },
   "outputs": [
    {
     "data": {
      "text/html": [
       "<div>\n",
       "<style scoped>\n",
       "    .dataframe tbody tr th:only-of-type {\n",
       "        vertical-align: middle;\n",
       "    }\n",
       "\n",
       "    .dataframe tbody tr th {\n",
       "        vertical-align: top;\n",
       "    }\n",
       "\n",
       "    .dataframe thead th {\n",
       "        text-align: right;\n",
       "    }\n",
       "</style>\n",
       "<table border=\"1\" class=\"dataframe\">\n",
       "  <thead>\n",
       "    <tr style=\"text-align: right;\">\n",
       "      <th></th>\n",
       "      <th>sepal length (cm)</th>\n",
       "      <th>sepal width (cm)</th>\n",
       "    </tr>\n",
       "  </thead>\n",
       "  <tbody>\n",
       "    <tr>\n",
       "      <th>0</th>\n",
       "      <td>5.1</td>\n",
       "      <td>3.5</td>\n",
       "    </tr>\n",
       "    <tr>\n",
       "      <th>1</th>\n",
       "      <td>4.9</td>\n",
       "      <td>3.0</td>\n",
       "    </tr>\n",
       "    <tr>\n",
       "      <th>2</th>\n",
       "      <td>4.7</td>\n",
       "      <td>3.2</td>\n",
       "    </tr>\n",
       "    <tr>\n",
       "      <th>3</th>\n",
       "      <td>4.6</td>\n",
       "      <td>3.1</td>\n",
       "    </tr>\n",
       "    <tr>\n",
       "      <th>4</th>\n",
       "      <td>5.0</td>\n",
       "      <td>3.6</td>\n",
       "    </tr>\n",
       "  </tbody>\n",
       "</table>\n",
       "</div>"
      ],
      "text/plain": [
       "   sepal length (cm)  sepal width (cm)\n",
       "0                5.1               3.5\n",
       "1                4.9               3.0\n",
       "2                4.7               3.2\n",
       "3                4.6               3.1\n",
       "4                5.0               3.6"
      ]
     },
     "execution_count": 27,
     "metadata": {},
     "output_type": "execute_result"
    }
   ],
   "source": [
    "#Let's use only two features\n",
    "df = df[[\"sepal length (cm)\", \"sepal width (cm)\"]]\n",
    "df.head()"
   ]
  },
  {
   "cell_type": "code",
   "execution_count": 28,
   "metadata": {
    "scrolled": true,
    "slideshow": {
     "slide_type": "slide"
    }
   },
   "outputs": [
    {
     "name": "stdout",
     "output_type": "stream",
     "text": [
      "Outlier values detected in purple color.\n"
     ]
    },
    {
     "data": {
      "image/png": "[encoded data removed]",
      "text/plain": [
       "<Figure size 432x288 with 1 Axes>"
      ]
     },
     "metadata": {
      "needs_background": "light"
     },
     "output_type": "display_data"
    }
   ],
   "source": [
    "from sklearn.cluster import DBSCAN\n",
    "import matplotlib.pyplot as plt\n",
    "\n",
    "model = DBSCAN(eps=0.4, min_samples=10).fit(df)\n",
    "colors = model.labels_\n",
    "plt.scatter(df[\"sepal length (cm)\"], df[\"sepal width (cm)\"], c=colors)\n",
    "print(\"Outlier values detected in purple color.\")"
   ]
  },
  {
   "cell_type": "code",
   "execution_count": 29,
   "metadata": {
    "scrolled": true,
    "slideshow": {
     "slide_type": "slide"
    }
   },
   "outputs": [
    {
     "data": {
      "text/html": [
       "<div>\n",
       "<style scoped>\n",
       "    .dataframe tbody tr th:only-of-type {\n",
       "        vertical-align: middle;\n",
       "    }\n",
       "\n",
       "    .dataframe tbody tr th {\n",
       "        vertical-align: top;\n",
       "    }\n",
       "\n",
       "    .dataframe thead th {\n",
       "        text-align: right;\n",
       "    }\n",
       "</style>\n",
       "<table border=\"1\" class=\"dataframe\">\n",
       "  <thead>\n",
       "    <tr style=\"text-align: right;\">\n",
       "      <th></th>\n",
       "      <th>sepal length (cm)</th>\n",
       "      <th>sepal width (cm)</th>\n",
       "    </tr>\n",
       "  </thead>\n",
       "  <tbody>\n",
       "    <tr>\n",
       "      <th>14</th>\n",
       "      <td>5.8</td>\n",
       "      <td>4.0</td>\n",
       "    </tr>\n",
       "    <tr>\n",
       "      <th>15</th>\n",
       "      <td>5.7</td>\n",
       "      <td>4.4</td>\n",
       "    </tr>\n",
       "    <tr>\n",
       "      <th>41</th>\n",
       "      <td>4.5</td>\n",
       "      <td>2.3</td>\n",
       "    </tr>\n",
       "    <tr>\n",
       "      <th>57</th>\n",
       "      <td>4.9</td>\n",
       "      <td>2.4</td>\n",
       "    </tr>\n",
       "    <tr>\n",
       "      <th>60</th>\n",
       "      <td>5.0</td>\n",
       "      <td>2.0</td>\n",
       "    </tr>\n",
       "    <tr>\n",
       "      <th>62</th>\n",
       "      <td>6.0</td>\n",
       "      <td>2.2</td>\n",
       "    </tr>\n",
       "    <tr>\n",
       "      <th>93</th>\n",
       "      <td>5.0</td>\n",
       "      <td>2.3</td>\n",
       "    </tr>\n",
       "    <tr>\n",
       "      <th>98</th>\n",
       "      <td>5.1</td>\n",
       "      <td>2.5</td>\n",
       "    </tr>\n",
       "    <tr>\n",
       "      <th>106</th>\n",
       "      <td>4.9</td>\n",
       "      <td>2.5</td>\n",
       "    </tr>\n",
       "    <tr>\n",
       "      <th>117</th>\n",
       "      <td>7.7</td>\n",
       "      <td>3.8</td>\n",
       "    </tr>\n",
       "    <tr>\n",
       "      <th>118</th>\n",
       "      <td>7.7</td>\n",
       "      <td>2.6</td>\n",
       "    </tr>\n",
       "    <tr>\n",
       "      <th>119</th>\n",
       "      <td>6.0</td>\n",
       "      <td>2.2</td>\n",
       "    </tr>\n",
       "    <tr>\n",
       "      <th>122</th>\n",
       "      <td>7.7</td>\n",
       "      <td>2.8</td>\n",
       "    </tr>\n",
       "    <tr>\n",
       "      <th>131</th>\n",
       "      <td>7.9</td>\n",
       "      <td>3.8</td>\n",
       "    </tr>\n",
       "    <tr>\n",
       "      <th>135</th>\n",
       "      <td>7.7</td>\n",
       "      <td>3.0</td>\n",
       "    </tr>\n",
       "  </tbody>\n",
       "</table>\n",
       "</div>"
      ],
      "text/plain": [
       "     sepal length (cm)  sepal width (cm)\n",
       "14                 5.8               4.0\n",
       "15                 5.7               4.4\n",
       "41                 4.5               2.3\n",
       "57                 4.9               2.4\n",
       "60                 5.0               2.0\n",
       "62                 6.0               2.2\n",
       "93                 5.0               2.3\n",
       "98                 5.1               2.5\n",
       "106                4.9               2.5\n",
       "117                7.7               3.8\n",
       "118                7.7               2.6\n",
       "119                6.0               2.2\n",
       "122                7.7               2.8\n",
       "131                7.9               3.8\n",
       "135                7.7               3.0"
      ]
     },
     "execution_count": 29,
     "metadata": {},
     "output_type": "execute_result"
    }
   ],
   "source": [
    "# outliers dataframe\n",
    "outliers = df[model.labels_ == -1]\n",
    "outliers"
   ]
  },
  {
   "cell_type": "markdown",
   "metadata": {
    "slideshow": {
     "slide_type": "slide"
    }
   },
   "source": [
    "### Ensamble Learning\n",
    "\n",
    "- Ensemble Learning helps improve machine learning results by combining several models to improve predictive performance compared to a single model.\n",
    "- The main motivation behind ensemble learning is to correctly combine weak models to get a more accurate and robust model\n",
    "<img src=\"ensemble.png\" />"
   ]
  },
  {
   "cell_type": "markdown",
   "metadata": {
    "slideshow": {
     "slide_type": "slide"
    }
   },
   "source": [
    "### Ensamble Learning: methods\n",
    "\n",
    "Two popular methods for combining the predictions from different models are:\n",
    "\n",
    "- `Bagging`: Building multiple models (typically of the same type) from different subsamples of the training dataset.\n",
    "- `Boosting`: Building multiple models (typically of the same type) each of which learns to fix the prediction errors of a prior model in the chain."
   ]
  },
  {
   "cell_type": "markdown",
   "metadata": {
    "slideshow": {
     "slide_type": "slide"
    }
   },
   "source": [
    "#### Ensamble Learning: Bagging\n",
    "\n",
    "- Since multiple model predictions are averaged together to form the final predictions, Bagging reduces variance and helps to avoid overfitting.\n",
    "- Although it is usually applied to decision tree methods, it can be used with any type of method.\n",
    "- In case of regression problem we take mean of the output and in case of classification we take the majority vote.\n",
    "- Bagging is more helpful if we have overfitting (high variance) base models.\n",
    "- Bagging uses bootstraps, that's why we also call it bootstraping."
   ]
  },
  {
   "cell_type": "markdown",
   "metadata": {
    "slideshow": {
     "slide_type": "slide"
    }
   },
   "source": [
    "#### Bootstraping\n",
    "- The bootstrap method is a resampling technique.\n",
    "- `Bagging` training models with bootstraps of a dataset, then aggregating the models.\n",
    "<img src=\"bootstrap_concept.png\" />\n"
   ]
  },
  {
   "cell_type": "markdown",
   "metadata": {
    "slideshow": {
     "slide_type": "slide"
    }
   },
   "source": [
    "#### Ensamble Learning: Boosting\n",
    "\n",
    "- The main idea of boosting is to add additional models to the overall ensemble model sequentially.\n",
    "- In Bagging, we averaged each individual model created. \n",
    "- However, in Boosting, with each iteration, a new model is created and the new base-learner model is trained (updated) from the errors of the previous learners.\n",
    "-  Machine learning models are used one after the other and the predictions made by first layer models are used as input to next layer models. \n",
    "- Boosting needs you to specify a weak model (e.g. regression, shallow decision trees, etc) and then improves it.\n",
    "- There are different techniques for boosting, such as: `AdaBoost`, and `Gradient Boosting`"
   ]
  },
  {
   "cell_type": "markdown",
   "metadata": {
    "slideshow": {
     "slide_type": "slide"
    }
   },
   "source": [
    "#### AdaBoost (Adaptive Boosting)\n",
    "- AdaBoost is a specific Boosting algorithm developed for classification problems (also called discrete AdaBoost). \n",
    "- In each iteration, AdaBoost identifies miss-classified data points, increasing their weights (and decrease the weights of correct points, in a sense) so that the next classifier will pay extra attention to get them right.\n",
    "- The following figure illustrates how weights impact the performance of a simple decision stump(tree with depth 1)"
   ]
  },
  {
   "cell_type": "markdown",
   "metadata": {
    "slideshow": {
     "slide_type": "slide"
    }
   },
   "source": [
    "<img src=\"adaboost.png\" width=\"60%\" />"
   ]
  },
  {
   "cell_type": "code",
   "execution_count": 30,
   "metadata": {
    "slideshow": {
     "slide_type": "slide"
    }
   },
   "outputs": [],
   "source": [
    "from sklearn import datasets\n",
    "from sklearn.model_selection import train_test_split\n",
    "from sklearn.ensemble import AdaBoostClassifier\n",
    "\n",
    "iris = datasets.load_iris()\n",
    "X,y = iris.data,iris.target\n",
    "X_train, X_test, y_train, y_test = train_test_split(X, y, test_size=0.2, random_state=1)"
   ]
  },
  {
   "cell_type": "code",
   "execution_count": 31,
   "metadata": {
    "slideshow": {
     "slide_type": "slide"
    }
   },
   "outputs": [
    {
     "data": {
      "text/plain": [
       "0.9666666666666667"
      ]
     },
     "execution_count": 31,
     "metadata": {},
     "output_type": "execute_result"
    }
   ],
   "source": [
    "# n_estimators: The maximum number of estimators at which boosting is terminated. \n",
    "\n",
    "ada_boost = AdaBoostClassifier(random_state=1, n_estimators=10)\n",
    "ada_boost.fit(X_train, y_train)\n",
    "ada_boost.score(X_test,y_test)"
   ]
  },
  {
   "cell_type": "markdown",
   "metadata": {
    "slideshow": {
     "slide_type": "slide"
    }
   },
   "source": [
    "#### Gradient Boosting (GBM)\n",
    "- Gradient boosting is an approach where new models are created that predict the residuals or errors of prior models and then added together to make the final prediction.\n",
    "- It is called gradient boosting because it uses a gradient descent algorithm to minimize the loss when adding new models.\n",
    "- Instead of adjusting weights of data points, Gradient boosting focuses on the difference between the prediction and the ground truth.\n",
    "- Works for both regression and classification problems. "
   ]
  },
  {
   "cell_type": "markdown",
   "metadata": {
    "slideshow": {
     "slide_type": "slide"
    }
   },
   "source": [
    "#### XGBoost (eXtreme Gradient Boosting)\n",
    "- `XGBoost` is an optimized distributed gradient boosting library with better speed and performance compared to other algorithms.\n",
    "- `XGBoost` provides a parallel tree boosting (also known as GBDT, GBM) that solve many data science problems in a fast and accurate way.\n",
    "- It is a complicated algorithm, that uses Machine Learning on itself. If interested, here is a video of its creator, _Tianqi Chen_: \n",
    "    - https://youtu.be/Vly8xGnNiWs\n",
    "- Fortunately, `sklearn` supports `xgboost` models though it is a separate library."
   ]
  },
  {
   "cell_type": "markdown",
   "metadata": {
    "slideshow": {
     "slide_type": "slide"
    }
   },
   "source": [
    "<img src=\"xgboost-features.png\" />"
   ]
  },
  {
   "cell_type": "markdown",
   "metadata": {
    "slideshow": {
     "slide_type": "slide"
    }
   },
   "source": [
    "<img src=\"xgboost-compare.jpg\" />"
   ]
  },
  {
   "cell_type": "markdown",
   "metadata": {
    "slideshow": {
     "slide_type": "slide"
    }
   },
   "source": [
    "### So should we use just XGBoost all the time?\n",
    "- As Data Scientists, we must test all possible algorithms for data at hand to identify the champion algorithm.\n",
    "- Besides, picking the right algorithm is not enough. We must also choose the right configuration of the algorithm for a dataset.\n",
    "- Furthermore, there are several other considerations for choosing the winning algorithm such as computational complexity, explainability, and ease of implementation. "
   ]
  },
  {
   "cell_type": "markdown",
   "metadata": {
    "slideshow": {
     "slide_type": "slide"
    }
   },
   "source": [
    "#### Installing\n",
    "\n",
    "`conda install -c conda-forge xgboost`\n",
    "\n",
    "Or, `pip install xgboost`\n",
    "\n",
    "Learn about paramters:\n",
    "https://xgboost.readthedocs.io/en/latest/parameter.html"
   ]
  },
  {
   "cell_type": "code",
   "execution_count": 32,
   "metadata": {
    "slideshow": {
     "slide_type": "slide"
    }
   },
   "outputs": [
    {
     "data": {
      "text/plain": [
       "0.9418352162998144"
      ]
     },
     "execution_count": 32,
     "metadata": {},
     "output_type": "execute_result"
    }
   ],
   "source": [
    "import xgboost as xgb\n",
    "\n",
    "xgb_model = xgb.XGBRegressor(booster='gbtree',subsample='0.5', random_state=1)\n",
    "xgb_model.fit(X_train, y_train)\n",
    "xgb_model.score(X_test,y_test)"
   ]
  }
 ],
 "metadata": {
  "anaconda-cloud": {},
  "celltoolbar": "Slideshow",
  "kernelspec": {
   "display_name": "Python 3 (ipykernel)",
   "language": "python",
   "name": "python3"
  },
  "language_info": {
   "codemirror_mode": {
    "name": "ipython",
    "version": 3
   },
   "file_extension": ".py",
   "mimetype": "text/x-python",
   "name": "python",
   "nbconvert_exporter": "python",
   "pygments_lexer": "ipython3",
   "version": "3.8.11"
  }
 },
 "nbformat": 4,
 "nbformat_minor": 1
}
