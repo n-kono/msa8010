{
 "cells": [
  {
   "cell_type": "markdown",
   "metadata": {
    "slideshow": {
     "slide_type": "slide"
    }
   },
   "source": [
    "# Session 3: Numpy and Pandas\n",
    "MSA 8010: Data Programming\n",
    "\n",
    "### Agenda\n",
    "1. Analyzing Patient Data (Numpy) with:\n",
    "    1. Loops\n",
    "    1. Functions\n",
    "    1. Plotting\n",
    "1. Pandas\n",
    "1. Assignment #1"
   ]
  },
  {
   "cell_type": "markdown",
   "metadata": {
    "slideshow": {
     "slide_type": "notes"
    }
   },
   "source": [
    "Source: https://swcarpentry.github.io/python-novice-inflammation/02-numpy/index.html"
   ]
  },
  {
   "cell_type": "markdown",
   "metadata": {
    "slideshow": {
     "slide_type": "slide"
    }
   },
   "source": [
    "<img src=\"python-zero-index.svg\" />"
   ]
  },
  {
   "cell_type": "code",
   "execution_count": 1,
   "metadata": {
    "slideshow": {
     "slide_type": "fragment"
    }
   },
   "outputs": [
    {
     "name": "stdout",
     "output_type": "stream",
     "text": [
      "[['A' 'B' 'C']\n",
      " ['D' 'E' 'F']\n",
      " ['G' 'H' 'I']]\n"
     ]
    }
   ],
   "source": [
    "import numpy\n",
    "data = numpy.array([[\"A\",\"B\",\"C\"],[\"D\",\"E\",\"F\"],[\"G\",\"H\",\"I\"]])\n",
    "print(data)"
   ]
  },
  {
   "cell_type": "code",
   "execution_count": 2,
   "metadata": {
    "slideshow": {
     "slide_type": "slide"
    }
   },
   "outputs": [
    {
     "name": "stdout",
     "output_type": "stream",
     "text": [
      "<class 'numpy.ndarray'>\n"
     ]
    }
   ],
   "source": [
    "# The type function will only tell you that a variable is a NumPy array\n",
    "print(type(data))"
   ]
  },
  {
   "cell_type": "code",
   "execution_count": 3,
   "metadata": {
    "slideshow": {
     "slide_type": "fragment"
    }
   },
   "outputs": [
    {
     "name": "stdout",
     "output_type": "stream",
     "text": [
      "type= <U1\n"
     ]
    }
   ],
   "source": [
    "#In Python, numbers are stored as integers or floating-point numbers.\n",
    "#To see type of array items:\n",
    "print(\"type=\",data.dtype)"
   ]
  },
  {
   "cell_type": "code",
   "execution_count": 4,
   "metadata": {
    "slideshow": {
     "slide_type": "fragment"
    }
   },
   "outputs": [
    {
     "name": "stdout",
     "output_type": "stream",
     "text": [
      "(3, 3)\n"
     ]
    }
   ],
   "source": [
    "#shape: An array’s dimensions, represented as a vector. \n",
    "#For example, a 5×3 array’s shape is (5,3).\n",
    "print(data.shape)"
   ]
  },
  {
   "cell_type": "code",
   "execution_count": 5,
   "metadata": {
    "slideshow": {
     "slide_type": "fragment"
    }
   },
   "outputs": [
    {
     "name": "stdout",
     "output_type": "stream",
     "text": [
      "B\n"
     ]
    }
   ],
   "source": [
    "# To view a single number from the array: \n",
    "# provide an index in square brackets after the variable name.\n",
    "print(data[0,1])"
   ]
  },
  {
   "cell_type": "markdown",
   "metadata": {
    "slideshow": {
     "slide_type": "slide"
    }
   },
   "source": [
    "### Exercise #1\n",
    "1. Create the following numpy array:\n",
    "\n",
    "    $\\begin{bmatrix}1 & 4 & 7\\\\9 & 12 & 19\\end{bmatrix}$\n",
    "\n",
    "\n",
    "1. Print the contents\n",
    "1. Print the datatype\n",
    "1. Print the shape\n",
    "1. Print the item at the [second row, third column] (_The answer should be **19**_)"
   ]
  },
  {
   "cell_type": "code",
   "execution_count": 6,
   "metadata": {
    "slideshow": {
     "slide_type": "slide"
    }
   },
   "outputs": [
    {
     "name": "stdout",
     "output_type": "stream",
     "text": [
      "[ 0  1  2  3  4  5  6  7  8  9 10 11 12 13 14]\n",
      "shape: (15,)\n",
      "the number of axes (dimensions) of the array: 1\n",
      "first: 0\n"
     ]
    }
   ],
   "source": [
    "#Range and reshape\n",
    "import numpy as np\n",
    "# arange function which is analogous to the Python built-in range, but returns an array.\n",
    "a = np.arange(15)\n",
    "print(a)\n",
    "print(\"shape:\",a.shape)\n",
    "print(\"the number of axes (dimensions) of the array:\",a.ndim)\n",
    "print(\"first:\", a[0])\n",
    "#print(a[0,0]) #IndexError"
   ]
  },
  {
   "cell_type": "code",
   "execution_count": 7,
   "metadata": {
    "scrolled": true,
    "slideshow": {
     "slide_type": "fragment"
    }
   },
   "outputs": [
    {
     "name": "stdout",
     "output_type": "stream",
     "text": [
      "[[ 0  1  2  3  4]\n",
      " [ 5  6  7  8  9]\n",
      " [10 11 12 13 14]]\n",
      "shape: (3, 5)\n",
      "dimensions 2\n",
      "first: 0\n",
      "size 15\n"
     ]
    }
   ],
   "source": [
    "a = np.arange(15).reshape(3, 5)\n",
    "print(a)\n",
    "print(\"shape:\",a.shape)\n",
    "print(\"dimensions\",a.ndim)\n",
    "print(\"first:\", a[0,0]) #first\n",
    "# The total number of elements of the array. \n",
    "#This is equal to the product of the elements of shape.\n",
    "print(\"size\",a.size)"
   ]
  },
  {
   "cell_type": "code",
   "execution_count": 8,
   "metadata": {
    "scrolled": true,
    "slideshow": {
     "slide_type": "slide"
    }
   },
   "outputs": [
    {
     "name": "stdout",
     "output_type": "stream",
     "text": [
      "[[0. 0. 0. 0.]\n",
      " [0. 0. 0. 0.]\n",
      " [0. 0. 0. 0.]]\n",
      "----\n",
      "[[[1 1 1 1]\n",
      "  [1 1 1 1]\n",
      "  [1 1 1 1]]\n",
      "\n",
      " [[1 1 1 1]\n",
      "  [1 1 1 1]\n",
      "  [1 1 1 1]]]\n"
     ]
    }
   ],
   "source": [
    "#From: https://numpy.org/devdocs/user/quickstart.html\n",
    "#Zeros\n",
    "a = np.zeros((3, 4))\n",
    "print(a)\n",
    "print(\"----\")\n",
    "#Ones\n",
    "a = np.ones((2, 3, 4), dtype=np.int16)\n",
    "print(a)"
   ]
  },
  {
   "cell_type": "markdown",
   "metadata": {
    "slideshow": {
     "slide_type": "fragment"
    }
   },
   "source": [
    "Numpy data types: [https://www.tutorialspoint.com/numpy/numpy_data_types.htm](https://www.tutorialspoint.com/numpy/numpy_data_types.htm)"
   ]
  },
  {
   "cell_type": "code",
   "execution_count": null,
   "metadata": {},
   "outputs": [],
   "source": []
  },
  {
   "cell_type": "code",
   "execution_count": 9,
   "metadata": {
    "scrolled": true,
    "slideshow": {
     "slide_type": "slide"
    }
   },
   "outputs": [
    {
     "name": "stdout",
     "output_type": "stream",
     "text": [
      "A= [[1 1]\n",
      " [0 1]]\n",
      "B= [[2 0]\n",
      " [3 4]]\n",
      "----\n",
      "A-B= [[-1  1]\n",
      " [-3 -3]]\n",
      "elementwise product= [[2 0]\n",
      " [0 4]]\n",
      "matrix product= [[5 4]\n",
      " [3 4]]\n",
      "D= [[-0.18102953  0.96300237]\n",
      " [-0.97042196  0.71261168]]\n"
     ]
    }
   ],
   "source": [
    "#Basic Operations\n",
    "A = np.array([[1, 1], \n",
    "              [0, 1]])\n",
    "B = np.array([[2, 0], \n",
    "              [3, 4]])\n",
    "print(\"A=\",A)\n",
    "print(\"B=\",B)  \n",
    "C = A - B\n",
    "print(\"----\")\n",
    "print(\"A-B=\",C)\n",
    "print(\"elementwise product=\", A * B)\n",
    "print(\"matrix product=\", A @ B) # or A.dot(B)\n",
    "D = np.random.randn(2,2)\n",
    "print(\"D=\",D)"
   ]
  },
  {
   "cell_type": "markdown",
   "metadata": {
    "slideshow": {
     "slide_type": "slide"
    }
   },
   "source": [
    "### Exercise #2\n",
    "Write a function, _matrix_generator_, that takes two numbers (_a_, and _b_) and returns a two dimensional matrix of _a_ rows, and _b_ columns filled with random numbers."
   ]
  },
  {
   "cell_type": "code",
   "execution_count": 84,
   "metadata": {
    "slideshow": {
     "slide_type": "fragment"
    }
   },
   "outputs": [
    {
     "name": "stdout",
     "output_type": "stream",
     "text": [
      "testing 3,5\n",
      "[[-0.61321733  0.07940577  1.57483197  0.30476885 -0.29453081]\n",
      " [-0.0922119  -1.1374506   1.47268604 -0.7688336  -0.58400464]\n",
      " [-0.89309743  1.09606599 -1.04919403  1.34089769 -0.50734703]]\n"
     ]
    }
   ],
   "source": [
    "import numpy as np\n",
    "def matrix_generator(a,b):\n",
    "    m = np.random.randn(a,b)\n",
    "    return m\n",
    "\n",
    "print(\"testing 3,5\")\n",
    "print(matrix_generator(3,5))"
   ]
  },
  {
   "cell_type": "markdown",
   "metadata": {
    "slideshow": {
     "slide_type": "slide"
    }
   },
   "source": [
    "### Exercise #3\n",
    "1. Write a function, _matrix_props_, that takes two parameters: _matrix_, and _prop_, based on the prop value (that could be **shape**, **dtype**, or **size**), the function should print relevant info of the matrix.\n",
    "2. If the prop value was incorrect, print _Not recognized_."
   ]
  },
  {
   "cell_type": "code",
   "execution_count": 11,
   "metadata": {
    "slideshow": {
     "slide_type": "fragment"
    }
   },
   "outputs": [],
   "source": [
    "def matrix_props(matrix, prop):\n",
    "    if prop == \"shape\":\n",
    "        print(matrix.shape)\n",
    "    elif prop == \"dtype\":\n",
    "        print(matrix.dtype)\n",
    "    elif prop == \"size\":\n",
    "        print(matrix.size)\n",
    "    else:\n",
    "        print(\"Not recognized\")"
   ]
  },
  {
   "cell_type": "code",
   "execution_count": 12,
   "metadata": {
    "slideshow": {
     "slide_type": "slide"
    }
   },
   "outputs": [
    {
     "name": "stdout",
     "output_type": "stream",
     "text": [
      "(4, 2)\n"
     ]
    }
   ],
   "source": [
    "# Test\n",
    "a = np.random.randn(4,2)\n",
    "matrix_props(a, \"shape\")"
   ]
  },
  {
   "cell_type": "code",
   "execution_count": 13,
   "metadata": {
    "slideshow": {
     "slide_type": "fragment"
    }
   },
   "outputs": [
    {
     "name": "stdout",
     "output_type": "stream",
     "text": [
      "float64\n"
     ]
    }
   ],
   "source": [
    "matrix_props(a, \"dtype\")"
   ]
  },
  {
   "cell_type": "code",
   "execution_count": 14,
   "metadata": {
    "slideshow": {
     "slide_type": "fragment"
    }
   },
   "outputs": [
    {
     "name": "stdout",
     "output_type": "stream",
     "text": [
      "8\n"
     ]
    }
   ],
   "source": [
    "matrix_props(a, \"size\")"
   ]
  },
  {
   "cell_type": "code",
   "execution_count": 15,
   "metadata": {
    "slideshow": {
     "slide_type": "fragment"
    }
   },
   "outputs": [
    {
     "name": "stdout",
     "output_type": "stream",
     "text": [
      "Not recognized\n"
     ]
    }
   ],
   "source": [
    "matrix_props(a, \"hello\")"
   ]
  },
  {
   "cell_type": "markdown",
   "metadata": {
    "slideshow": {
     "slide_type": "slide"
    }
   },
   "source": [
    "## Transposing a Matrix\n",
    "\n",
    "At times it is useful to pivot a matrix for conformability- that is in order to matrix divide or multiply, we need to switch the rows and column dimensions of matrices.  Consider the matrix\n",
    "$$\n",
    "\\begin{equation}\n",
    "\tA_{3 \\times 2}=\\begin{bmatrix}\n",
    "\t  a_{11} & a_{12} \\\\\n",
    "\t  a_{21} & a_{22} \\\\\n",
    "\t  a_{31} & a_{32} \t\n",
    "\t\\end{bmatrix}_{3 \\times 2}\t\n",
    "\\end{equation}\n",
    "$$\n",
    "The transpose of A (denoted as $A^{\\prime}$) is\n",
    "$$\n",
    "\\begin{equation}\n",
    "   A^{\\prime}=\\begin{bmatrix}\n",
    "\t  a_{11} & a_{21} & a_{31} \\\\\n",
    "\t  a_{12} & a_{22} & a_{32} \\\\\n",
    "\t\\end{bmatrix}_{2 \\times 3}\n",
    "\\end{equation}\n",
    "$$"
   ]
  },
  {
   "cell_type": "code",
   "execution_count": 16,
   "metadata": {
    "scrolled": true,
    "slideshow": {
     "slide_type": "slide"
    }
   },
   "outputs": [
    {
     "name": "stdout",
     "output_type": "stream",
     "text": [
      "A is\n",
      "[[0 1]\n",
      " [2 3]\n",
      " [4 5]]\n",
      "The Transpose of A is\n",
      "[[0 2 4]\n",
      " [1 3 5]]\n"
     ]
    }
   ],
   "source": [
    "A = np.arange(6).reshape((3,2))\n",
    "B = np.arange(8).reshape((2,4))\n",
    "print (\"A is\")\n",
    "print (A)\n",
    "\n",
    "print (\"The Transpose of A is\")\n",
    "print (A.T)"
   ]
  },
  {
   "cell_type": "markdown",
   "metadata": {
    "slideshow": {
     "slide_type": "slide"
    }
   },
   "source": [
    "Let matrix A be of dimension $N \\times M$ and let B of of dimension $M \\times P$.  \n",
    "Then\n",
    "$\n",
    "\\begin{equation}\n",
    "\t(AB)^{\\prime}=B^{\\prime}A^{\\prime}\n",
    "\\end{equation}\n",
    "$"
   ]
  },
  {
   "cell_type": "code",
   "execution_count": 17,
   "metadata": {
    "scrolled": false,
    "slideshow": {
     "slide_type": "fragment"
    }
   },
   "outputs": [
    {
     "name": "stdout",
     "output_type": "stream",
     "text": [
      "[[ 4 12 20]\n",
      " [ 5 17 29]\n",
      " [ 6 22 38]\n",
      " [ 7 27 47]]\n",
      "----\n",
      "[[ 4 12 20]\n",
      " [ 5 17 29]\n",
      " [ 6 22 38]\n",
      " [ 7 27 47]]\n"
     ]
    }
   ],
   "source": [
    "# Testing the above rule\n",
    "matrix1 = B.T.dot(A.T)\n",
    "matrix2 = (A.dot(B)).T\n",
    "print(matrix1)\n",
    "print(\"----\")\n",
    "print(matrix2)\n",
    "\n",
    "numpy.testing.assert_array_equal(matrix1, matrix2)\n",
    "# More info about testing numpy arrays:\n",
    "# https://numpy.org/doc/stable/reference/generated/numpy.testing.assert_array_equal.html\n"
   ]
  },
  {
   "cell_type": "markdown",
   "metadata": {
    "slideshow": {
     "slide_type": "slide"
    }
   },
   "source": [
    "### Slicing"
   ]
  },
  {
   "cell_type": "code",
   "execution_count": 85,
   "metadata": {
    "slideshow": {
     "slide_type": "fragment"
    }
   },
   "outputs": [
    {
     "name": "stdout",
     "output_type": "stream",
     "text": [
      "s= slice(2, 7, 2)\n",
      "a= [10 11 12 13 14 15 16 17 18 19]\n",
      "a[s]= [12 14 16]\n",
      "Similarly, a[2:7:2]= [12 14 16]\n"
     ]
    }
   ],
   "source": [
    "a = np.arange(10,20) \n",
    "s = slice(2,7,2) #slice(start index, end index, step)\n",
    "# start_position: included\n",
    "# end_position: excluded\n",
    "# step: default is 1\n",
    "print(\"s=\",s)\n",
    "print(\"a=\",a)\n",
    "print(\"a[s]=\",a[s])\n",
    "print(\"Similarly, a[2:7:2]=\", a[2:7:2])"
   ]
  },
  {
   "cell_type": "code",
   "execution_count": 19,
   "metadata": {
    "slideshow": {
     "slide_type": "slide"
    }
   },
   "outputs": [
    {
     "name": "stdout",
     "output_type": "stream",
     "text": [
      "[[1 2 3]\n",
      " [3 4 5]\n",
      " [4 5 6]]\n",
      "Now we will slice the array from the index a[1:]\n",
      "[[3 4 5]\n",
      " [4 5 6]]\n",
      "slicing along 2 dimensions a[1:,2]\n",
      "[5 6]\n"
     ]
    }
   ],
   "source": [
    "a = np.array([[1,2,3],[3,4,5],[4,5,6]]) \n",
    "print (a)\n",
    "\n",
    "# slice items starting from index\n",
    "print ('Now we will slice the array from the index a[1:]' )\n",
    "print (a[1:])\n",
    "print (\"slicing along 2 dimensions a[1:,2]\")\n",
    "print (a[1:,2])"
   ]
  },
  {
   "cell_type": "markdown",
   "metadata": {
    "slideshow": {
     "slide_type": "slide"
    }
   },
   "source": [
    "### Exercise #4\n",
    "Considering `a = np.arange(18)`, write a code to print the transpose of the 3x3 matrix formed from taking the even elements of a?"
   ]
  },
  {
   "cell_type": "code",
   "execution_count": 87,
   "metadata": {
    "slideshow": {
     "slide_type": "fragment"
    }
   },
   "outputs": [
    {
     "name": "stdout",
     "output_type": "stream",
     "text": [
      "[[ 0  6 12]\n",
      " [ 2  8 14]\n",
      " [ 4 10 16]]\n"
     ]
    }
   ],
   "source": [
    "a = np.arange(18)\n",
    "sliced = a[0:18:2] #or, a[::2]\n",
    "reshaped = sliced.reshape([3,3])\n",
    "transposed = reshaped.T\n",
    "print(transposed)\n",
    "#In one line: print(a[0:18:2].reshape([3,3]).T)"
   ]
  },
  {
   "cell_type": "markdown",
   "metadata": {
    "slideshow": {
     "slide_type": "slide"
    }
   },
   "source": [
    "### Logical Operations"
   ]
  },
  {
   "cell_type": "code",
   "execution_count": 21,
   "metadata": {
    "slideshow": {
     "slide_type": "fragment"
    }
   },
   "outputs": [
    {
     "name": "stdout",
     "output_type": "stream",
     "text": [
      "[[0 1]\n",
      " [2 3]\n",
      " [4 5]]\n",
      "\n",
      "A[:,1]>4:\n",
      "[False False  True]\n"
     ]
    }
   ],
   "source": [
    "A = np.arange(6).reshape((3,2))\n",
    "print(A)\n",
    "print(\"\\nA[:,1]>4:\")\n",
    "print(A[:,1]>4)\n"
   ]
  },
  {
   "cell_type": "code",
   "execution_count": 22,
   "metadata": {
    "scrolled": true,
    "slideshow": {
     "slide_type": "slide"
    }
   },
   "outputs": [
    {
     "name": "stdout",
     "output_type": "stream",
     "text": [
      "[[3.901876   7.42884964 3.94506222]\n",
      " [7.57916109 8.14617429 4.61938188]\n",
      " [1.26145783 6.13009017 0.52385434]] \n",
      "\n",
      "[[ True False  True]\n",
      " [False False  True]\n",
      " [ True False  True]]\n"
     ]
    }
   ],
   "source": [
    "A = np.random.rand(3,3)*10\n",
    "print(A, '\\n')\n",
    "print(A < 5)"
   ]
  },
  {
   "cell_type": "code",
   "execution_count": 23,
   "metadata": {
    "slideshow": {
     "slide_type": "slide"
    }
   },
   "outputs": [
    {
     "name": "stdout",
     "output_type": "stream",
     "text": [
      "[[3.1037751  3.41368782 9.22430291]\n",
      " [3.39188366 3.11340422 6.05208562]\n",
      " [3.17484157 4.50158658 4.06086123]]\n",
      "\n",
      "Items less than 5:\n",
      " [3.1037751  3.41368782 3.39188366 3.11340422 3.17484157 4.50158658\n",
      " 4.06086123]\n",
      "\n",
      "Are all items less than 5? False\n",
      "Make all items that are less than or equal to 5 zero:\n",
      "[[3.1037751  3.41368782 0.        ]\n",
      " [3.39188366 3.11340422 0.        ]\n",
      " [3.17484157 4.50158658 4.06086123]]\n",
      "\n",
      "Are all items less than 5 now? True\n"
     ]
    }
   ],
   "source": [
    "A = np.random.rand(3,3)*10\n",
    "print(A)\n",
    "print(\"\\nItems less than 5:\\n\", A[A < 5])\n",
    "print(\"\\nAre all items less than 5?\", np.all(A<5))\n",
    "print(\"Make all items that are less than or equal to 5 zero:\")\n",
    "A[A>=5] = 0\n",
    "print(A)\n",
    "print(\"\\nAre all items less than 5 now?\", np.all(A<5))"
   ]
  },
  {
   "cell_type": "markdown",
   "metadata": {
    "slideshow": {
     "slide_type": "slide"
    }
   },
   "source": [
    "\n",
    "- We are studying inflammation in patients who have been given a new treatment for arthritis.\n",
    "- The data sets are stored in comma-separated values (CSV) format. \n",
    "- Each row holds the observations for just one patient.\n",
    "- Each column holds the inflammation measured in a day, so we have a set of values in successive days. "
   ]
  },
  {
   "cell_type": "markdown",
   "metadata": {
    "slideshow": {
     "slide_type": "slide"
    }
   },
   "source": [
    "### Analyzing Patient Data\n",
    "\n",
    "<img src=\"lesson-overview.svg\" />"
   ]
  },
  {
   "cell_type": "code",
   "execution_count": 24,
   "metadata": {
    "scrolled": true,
    "slideshow": {
     "slide_type": "skip"
    }
   },
   "outputs": [
    {
     "data": {
      "text/html": [
       "<div>\n",
       "<style scoped>\n",
       "    .dataframe tbody tr th:only-of-type {\n",
       "        vertical-align: middle;\n",
       "    }\n",
       "\n",
       "    .dataframe tbody tr th {\n",
       "        vertical-align: top;\n",
       "    }\n",
       "\n",
       "    .dataframe thead th {\n",
       "        text-align: right;\n",
       "    }\n",
       "</style>\n",
       "<table border=\"1\" class=\"dataframe\">\n",
       "  <thead>\n",
       "    <tr style=\"text-align: right;\">\n",
       "      <th></th>\n",
       "      <th>0</th>\n",
       "      <th>0.1</th>\n",
       "      <th>1</th>\n",
       "      <th>3</th>\n",
       "      <th>1.1</th>\n",
       "      <th>2</th>\n",
       "      <th>4</th>\n",
       "      <th>7</th>\n",
       "      <th>8</th>\n",
       "      <th>3.1</th>\n",
       "      <th>...</th>\n",
       "      <th>4.3</th>\n",
       "      <th>4.4</th>\n",
       "      <th>5.1</th>\n",
       "      <th>7.6</th>\n",
       "      <th>3.4</th>\n",
       "      <th>4.5</th>\n",
       "      <th>2.1</th>\n",
       "      <th>3.5</th>\n",
       "      <th>0.2</th>\n",
       "      <th>0.3</th>\n",
       "    </tr>\n",
       "  </thead>\n",
       "  <tbody>\n",
       "    <tr>\n",
       "      <th>0</th>\n",
       "      <td>0</td>\n",
       "      <td>1</td>\n",
       "      <td>2</td>\n",
       "      <td>1</td>\n",
       "      <td>2</td>\n",
       "      <td>1</td>\n",
       "      <td>3</td>\n",
       "      <td>2</td>\n",
       "      <td>2</td>\n",
       "      <td>6</td>\n",
       "      <td>...</td>\n",
       "      <td>3</td>\n",
       "      <td>5</td>\n",
       "      <td>4</td>\n",
       "      <td>4</td>\n",
       "      <td>5</td>\n",
       "      <td>5</td>\n",
       "      <td>1</td>\n",
       "      <td>1</td>\n",
       "      <td>0</td>\n",
       "      <td>1</td>\n",
       "    </tr>\n",
       "    <tr>\n",
       "      <th>1</th>\n",
       "      <td>0</td>\n",
       "      <td>1</td>\n",
       "      <td>1</td>\n",
       "      <td>3</td>\n",
       "      <td>3</td>\n",
       "      <td>2</td>\n",
       "      <td>6</td>\n",
       "      <td>2</td>\n",
       "      <td>5</td>\n",
       "      <td>9</td>\n",
       "      <td>...</td>\n",
       "      <td>10</td>\n",
       "      <td>5</td>\n",
       "      <td>4</td>\n",
       "      <td>2</td>\n",
       "      <td>2</td>\n",
       "      <td>3</td>\n",
       "      <td>2</td>\n",
       "      <td>2</td>\n",
       "      <td>1</td>\n",
       "      <td>1</td>\n",
       "    </tr>\n",
       "    <tr>\n",
       "      <th>2</th>\n",
       "      <td>0</td>\n",
       "      <td>0</td>\n",
       "      <td>2</td>\n",
       "      <td>0</td>\n",
       "      <td>4</td>\n",
       "      <td>2</td>\n",
       "      <td>2</td>\n",
       "      <td>1</td>\n",
       "      <td>6</td>\n",
       "      <td>7</td>\n",
       "      <td>...</td>\n",
       "      <td>3</td>\n",
       "      <td>5</td>\n",
       "      <td>6</td>\n",
       "      <td>3</td>\n",
       "      <td>3</td>\n",
       "      <td>4</td>\n",
       "      <td>2</td>\n",
       "      <td>3</td>\n",
       "      <td>2</td>\n",
       "      <td>1</td>\n",
       "    </tr>\n",
       "    <tr>\n",
       "      <th>3</th>\n",
       "      <td>0</td>\n",
       "      <td>1</td>\n",
       "      <td>1</td>\n",
       "      <td>3</td>\n",
       "      <td>3</td>\n",
       "      <td>1</td>\n",
       "      <td>3</td>\n",
       "      <td>5</td>\n",
       "      <td>2</td>\n",
       "      <td>4</td>\n",
       "      <td>...</td>\n",
       "      <td>9</td>\n",
       "      <td>6</td>\n",
       "      <td>3</td>\n",
       "      <td>2</td>\n",
       "      <td>2</td>\n",
       "      <td>4</td>\n",
       "      <td>2</td>\n",
       "      <td>0</td>\n",
       "      <td>1</td>\n",
       "      <td>1</td>\n",
       "    </tr>\n",
       "    <tr>\n",
       "      <th>4</th>\n",
       "      <td>0</td>\n",
       "      <td>0</td>\n",
       "      <td>1</td>\n",
       "      <td>2</td>\n",
       "      <td>2</td>\n",
       "      <td>4</td>\n",
       "      <td>2</td>\n",
       "      <td>1</td>\n",
       "      <td>6</td>\n",
       "      <td>4</td>\n",
       "      <td>...</td>\n",
       "      <td>8</td>\n",
       "      <td>4</td>\n",
       "      <td>7</td>\n",
       "      <td>3</td>\n",
       "      <td>5</td>\n",
       "      <td>4</td>\n",
       "      <td>4</td>\n",
       "      <td>3</td>\n",
       "      <td>2</td>\n",
       "      <td>1</td>\n",
       "    </tr>\n",
       "  </tbody>\n",
       "</table>\n",
       "<p>5 rows × 40 columns</p>\n",
       "</div>"
      ],
      "text/plain": [
       "   0  0.1  1  3  1.1  2  4  7  8  3.1  ...  4.3  4.4  5.1  7.6  3.4  4.5  2.1  \\\n",
       "0  0    1  2  1    2  1  3  2  2    6  ...    3    5    4    4    5    5    1   \n",
       "1  0    1  1  3    3  2  6  2  5    9  ...   10    5    4    2    2    3    2   \n",
       "2  0    0  2  0    4  2  2  1  6    7  ...    3    5    6    3    3    4    2   \n",
       "3  0    1  1  3    3  1  3  5  2    4  ...    9    6    3    2    2    4    2   \n",
       "4  0    0  1  2    2  4  2  1  6    4  ...    8    4    7    3    5    4    4   \n",
       "\n",
       "   3.5  0.2  0.3  \n",
       "0    1    0    1  \n",
       "1    2    1    1  \n",
       "2    3    2    1  \n",
       "3    0    1    1  \n",
       "4    3    2    1  \n",
       "\n",
       "[5 rows x 40 columns]"
      ]
     },
     "execution_count": 24,
     "metadata": {},
     "output_type": "execute_result"
    }
   ],
   "source": [
    "# Using Pandas to show CSV\n",
    "# Before using, install pandas: conda install pandas\n",
    "import pandas\n",
    "df = pandas.read_csv('data/inflammation-01.csv')\n",
    "df.head()"
   ]
  },
  {
   "cell_type": "code",
   "execution_count": 25,
   "metadata": {
    "scrolled": false,
    "slideshow": {
     "slide_type": "slide"
    }
   },
   "outputs": [
    {
     "name": "stdout",
     "output_type": "stream",
     "text": [
      "[[0. 0. 1. ... 3. 0. 0.]\n",
      " [0. 1. 2. ... 1. 0. 1.]\n",
      " [0. 1. 1. ... 2. 1. 1.]\n",
      " ...\n",
      " [0. 1. 1. ... 1. 1. 1.]\n",
      " [0. 0. 0. ... 0. 2. 0.]\n",
      " [0. 0. 1. ... 1. 1. 0.]]\n",
      "(60, 40)\n",
      "Patients:60, Days:40\n"
     ]
    }
   ],
   "source": [
    "# To load data into a Numpy array, first we import numpy library\n",
    "import numpy\n",
    "\n",
    "# The numpy.loadtxt has two parameters: the name of the file we want to read and the delimiter that separates values on a line. \n",
    "data = numpy.loadtxt(fname='data/inflammation-01.csv', delimiter=',')\n",
    "print(data)\n",
    "#The output tells us that the data array variable contains 60 rows and 40 columns.\n",
    "s = data.shape\n",
    "print(s)\n",
    "print(f\"Patients:{s[0]}, Days:{s[1]}\")"
   ]
  },
  {
   "cell_type": "markdown",
   "metadata": {
    "slideshow": {
     "slide_type": "slide"
    }
   },
   "source": [
    "### Analyzing Data\n",
    "\n",
    "- **Mean**: The mean (informally, the “average“) is found by adding all of the numbers together and dividing by the number of items in the set.\n",
    "- **Variance**: The average of the squared differences from the Mean.\n",
    "- **Standard deviation**: a measure showing dispersion of data. It is the square root of the Variance.\n",
    "    - the lower the standard deviation, the closer the data points tend to be to the mean (or expected value),"
   ]
  },
  {
   "cell_type": "code",
   "execution_count": 26,
   "metadata": {
    "slideshow": {
     "slide_type": "slide"
    }
   },
   "outputs": [
    {
     "name": "stdout",
     "output_type": "stream",
     "text": [
      "6.14875\n"
     ]
    }
   ],
   "source": [
    "print(numpy.mean(data))"
   ]
  },
  {
   "cell_type": "code",
   "execution_count": 27,
   "metadata": {
    "scrolled": false,
    "slideshow": {
     "slide_type": "fragment"
    }
   },
   "outputs": [
    {
     "name": "stdout",
     "output_type": "stream",
     "text": [
      "maximum inflammation: 20.0\n",
      "minimum inflammation: 0.0\n",
      "variance: 21.287456770833334\n",
      "standard deviation: 4.613833197118566\n"
     ]
    }
   ],
   "source": [
    "minval, variance, stdval = numpy.min(data), numpy.var(data), numpy.std(data)\n",
    "maxval = numpy.max(data)\n",
    "print('maximum inflammation:', maxval)\n",
    "print('minimum inflammation:', minval)\n",
    "print('variance:', variance)\n",
    "print('standard deviation:', stdval)"
   ]
  },
  {
   "cell_type": "code",
   "execution_count": 28,
   "metadata": {
    "scrolled": true,
    "slideshow": {
     "slide_type": "slide"
    }
   },
   "outputs": [
    {
     "name": "stdout",
     "output_type": "stream",
     "text": [
      "maximum inflammation for patient 0: 18.0\n",
      "maximum inflammation for patient 6: 17.0\n"
     ]
    }
   ],
   "source": [
    "#Slicing usecases\n",
    "patient_0 = data[0,:] # 0 on the first axis (rows), everything on the second (columns)\n",
    "print('maximum inflammation for patient 0:', numpy.max(patient_0))\n",
    "print('maximum inflammation for patient 6:', numpy.max(data[6, :]))"
   ]
  },
  {
   "cell_type": "code",
   "execution_count": 29,
   "metadata": {
    "slideshow": {
     "slide_type": "slide"
    }
   },
   "outputs": [
    {
     "name": "stdout",
     "output_type": "stream",
     "text": [
      "[0. 0. 2. 0. 4. 2. 2.]\n"
     ]
    }
   ],
   "source": [
    "patient3_week1 = data[3,0:7]\n",
    "print(patient3_week1)"
   ]
  },
  {
   "cell_type": "markdown",
   "metadata": {
    "slideshow": {
     "slide_type": "slide"
    }
   },
   "source": [
    "### Axes (axis=1, and axis=0)\n",
    "What if we need the maximum inflammation for each patient over all days (as in the next diagram on the left)?\n",
    "\n",
    "Or, the average for each day (as in the diagram on the right)?\n",
    "<img src=\"python-operations-across-axes.png\" />"
   ]
  },
  {
   "cell_type": "code",
   "execution_count": 30,
   "metadata": {
    "scrolled": false,
    "slideshow": {
     "slide_type": "slide"
    }
   },
   "outputs": [
    {
     "name": "stdout",
     "output_type": "stream",
     "text": [
      "Mean of inflammations throught all days for each patient:\n",
      " [ 0.          0.45        1.11666667  1.75        2.43333333  3.15\n",
      "  3.8         3.88333333  5.23333333  5.51666667  5.95        5.9\n",
      "  8.35        7.73333333  8.36666667  9.5         9.58333333 10.63333333\n",
      " 11.56666667 12.35       13.25       11.96666667 11.03333333 10.16666667\n",
      " 10.          8.66666667  9.15        7.25        7.33333333  6.58333333\n",
      "  6.06666667  5.95        5.11666667  3.6         3.3         3.56666667\n",
      "  2.48333333  1.5         1.13333333  0.56666667]\n",
      "shape= (40,)\n"
     ]
    }
   ],
   "source": [
    "print(\"Mean of inflammations throught all days for each patient:\\n\",numpy.mean(data, axis=0))\n",
    "print(\"shape=\",numpy.mean(data, axis=0).shape)"
   ]
  },
  {
   "cell_type": "markdown",
   "metadata": {
    "slideshow": {
     "slide_type": "slide"
    }
   },
   "source": [
    "### Numpy diff function\n",
    " It calculates the difference between two subsequent values of a NumPy array. \n",
    " \n",
    " Hence, an array with n elements results in a diff array with n-1 elements.\n"
   ]
  },
  {
   "cell_type": "code",
   "execution_count": 31,
   "metadata": {
    "slideshow": {
     "slide_type": "fragment"
    }
   },
   "outputs": [
    {
     "name": "stdout",
     "output_type": "stream",
     "text": [
      "[1 0 1 1 2 3 5 8]\n"
     ]
    }
   ],
   "source": [
    "fibs = numpy.array([0, 1, 1, 2, 3, 5, 8, 13, 21])\n",
    "diff_fibs = numpy.diff(fibs)\n",
    "print(diff_fibs)"
   ]
  },
  {
   "cell_type": "code",
   "execution_count": 32,
   "metadata": {
    "slideshow": {
     "slide_type": "fragment"
    }
   },
   "outputs": [
    {
     "data": {
      "text/plain": [
       "array([ 0.,  2., -2.,  4., -2.,  0.])"
      ]
     },
     "execution_count": 32,
     "metadata": {},
     "output_type": "execute_result"
    }
   ],
   "source": [
    "# How the inflimmation is changing in patient 3 in the first week?\n",
    "numpy.diff(patient3_week1)"
   ]
  },
  {
   "cell_type": "markdown",
   "metadata": {
    "slideshow": {
     "slide_type": "slide"
    }
   },
   "source": [
    "## Pandas"
   ]
  },
  {
   "cell_type": "code",
   "execution_count": 35,
   "metadata": {
    "slideshow": {
     "slide_type": "fragment"
    }
   },
   "outputs": [
    {
     "data": {
      "text/plain": [
       "0    1.0\n",
       "1    3.0\n",
       "2    5.0\n",
       "3    NaN\n",
       "4    6.0\n",
       "5    8.0\n",
       "dtype: float64"
      ]
     },
     "execution_count": 35,
     "metadata": {},
     "output_type": "execute_result"
    }
   ],
   "source": [
    "#From: https://pandas.pydata.org/pandas-docs/stable/user_guide/10min.html\n",
    "import numpy as np\n",
    "import pandas as pd\n",
    "s = pd.Series([1, 3, 5, np.nan, 6, 8])\n",
    "s"
   ]
  },
  {
   "cell_type": "code",
   "execution_count": 42,
   "metadata": {
    "slideshow": {
     "slide_type": "slide"
    }
   },
   "outputs": [
    {
     "name": "stdout",
     "output_type": "stream",
     "text": [
      "DatetimeIndex(['2013-01-01', '2013-01-02', '2013-01-03', '2013-01-04',\n",
      "               '2013-01-05', '2013-01-06'],\n",
      "              dtype='datetime64[ns]', freq='D')\n"
     ]
    }
   ],
   "source": [
    "# Creating a pandas date range\n",
    "dates = pd.date_range(\"20130101\", periods=6)\n",
    "print(dates)"
   ]
  },
  {
   "cell_type": "code",
   "execution_count": 58,
   "metadata": {
    "slideshow": {
     "slide_type": "fragment"
    }
   },
   "outputs": [
    {
     "name": "stdout",
     "output_type": "stream",
     "text": [
      "                   A         B         C         D\n",
      "2013-01-01  0.536146 -0.838323 -0.227044 -0.332658\n",
      "2013-01-02 -0.723137  2.184546 -0.172544 -0.774822\n",
      "2013-01-03  0.542791  0.130107  0.870087 -0.458507\n",
      "2013-01-04 -1.071307 -0.703697  1.963952 -0.428011\n",
      "2013-01-05 -1.397861 -1.139620 -0.844042  2.957127\n",
      "2013-01-06  2.589445 -0.818587  0.940422 -1.163175\n"
     ]
    }
   ],
   "source": [
    "# Creating a pandas dataframe, having a range is index\n",
    "df = pd.DataFrame(np.random.randn(6, 4), index=dates, columns=list(\"ABCD\"))\n",
    "print(df)\n",
    "#df.loc[\"2013-01-01\"]"
   ]
  },
  {
   "cell_type": "code",
   "execution_count": 60,
   "metadata": {
    "scrolled": true,
    "slideshow": {
     "slide_type": "slide"
    }
   },
   "outputs": [
    {
     "data": {
      "text/html": [
       "<div>\n",
       "<style scoped>\n",
       "    .dataframe tbody tr th:only-of-type {\n",
       "        vertical-align: middle;\n",
       "    }\n",
       "\n",
       "    .dataframe tbody tr th {\n",
       "        vertical-align: top;\n",
       "    }\n",
       "\n",
       "    .dataframe thead th {\n",
       "        text-align: right;\n",
       "    }\n",
       "</style>\n",
       "<table border=\"1\" class=\"dataframe\">\n",
       "  <thead>\n",
       "    <tr style=\"text-align: right;\">\n",
       "      <th></th>\n",
       "      <th>A</th>\n",
       "      <th>B</th>\n",
       "      <th>C</th>\n",
       "    </tr>\n",
       "  </thead>\n",
       "  <tbody>\n",
       "    <tr>\n",
       "      <th>0</th>\n",
       "      <td>0.797153</td>\n",
       "      <td>0.905492</td>\n",
       "      <td>0.383517</td>\n",
       "    </tr>\n",
       "    <tr>\n",
       "      <th>1</th>\n",
       "      <td>-1.752803</td>\n",
       "      <td>0.232148</td>\n",
       "      <td>0.504009</td>\n",
       "    </tr>\n",
       "    <tr>\n",
       "      <th>2</th>\n",
       "      <td>-0.581740</td>\n",
       "      <td>0.568094</td>\n",
       "      <td>-1.370996</td>\n",
       "    </tr>\n",
       "    <tr>\n",
       "      <th>3</th>\n",
       "      <td>-0.488783</td>\n",
       "      <td>0.438026</td>\n",
       "      <td>-0.834427</td>\n",
       "    </tr>\n",
       "    <tr>\n",
       "      <th>4</th>\n",
       "      <td>0.124785</td>\n",
       "      <td>-0.150557</td>\n",
       "      <td>-0.064028</td>\n",
       "    </tr>\n",
       "  </tbody>\n",
       "</table>\n",
       "</div>"
      ],
      "text/plain": [
       "          A         B         C\n",
       "0  0.797153  0.905492  0.383517\n",
       "1 -1.752803  0.232148  0.504009\n",
       "2 -0.581740  0.568094 -1.370996\n",
       "3 -0.488783  0.438026 -0.834427\n",
       "4  0.124785 -0.150557 -0.064028"
      ]
     },
     "execution_count": 60,
     "metadata": {},
     "output_type": "execute_result"
    }
   ],
   "source": [
    "df = pd.DataFrame(np.random.randn(8, 3), columns=[\"A\", \"B\", \"C\"])\n",
    "df.head()"
   ]
  },
  {
   "cell_type": "code",
   "execution_count": 62,
   "metadata": {
    "slideshow": {
     "slide_type": "fragment"
    }
   },
   "outputs": [
    {
     "data": {
      "text/html": [
       "<div>\n",
       "<style scoped>\n",
       "    .dataframe tbody tr th:only-of-type {\n",
       "        vertical-align: middle;\n",
       "    }\n",
       "\n",
       "    .dataframe tbody tr th {\n",
       "        vertical-align: top;\n",
       "    }\n",
       "\n",
       "    .dataframe thead th {\n",
       "        text-align: right;\n",
       "    }\n",
       "</style>\n",
       "<table border=\"1\" class=\"dataframe\">\n",
       "  <thead>\n",
       "    <tr style=\"text-align: right;\">\n",
       "      <th></th>\n",
       "      <th>A</th>\n",
       "      <th>B</th>\n",
       "      <th>C</th>\n",
       "    </tr>\n",
       "  </thead>\n",
       "  <tbody>\n",
       "    <tr>\n",
       "      <th>4</th>\n",
       "      <td>0.124785</td>\n",
       "      <td>-0.150557</td>\n",
       "      <td>-0.064028</td>\n",
       "    </tr>\n",
       "    <tr>\n",
       "      <th>5</th>\n",
       "      <td>0.274222</td>\n",
       "      <td>-1.004205</td>\n",
       "      <td>0.790755</td>\n",
       "    </tr>\n",
       "    <tr>\n",
       "      <th>6</th>\n",
       "      <td>0.177497</td>\n",
       "      <td>-0.033768</td>\n",
       "      <td>-1.190398</td>\n",
       "    </tr>\n",
       "    <tr>\n",
       "      <th>7</th>\n",
       "      <td>-2.015543</td>\n",
       "      <td>0.161858</td>\n",
       "      <td>0.152062</td>\n",
       "    </tr>\n",
       "  </tbody>\n",
       "</table>\n",
       "</div>"
      ],
      "text/plain": [
       "          A         B         C\n",
       "4  0.124785 -0.150557 -0.064028\n",
       "5  0.274222 -1.004205  0.790755\n",
       "6  0.177497 -0.033768 -1.190398\n",
       "7 -2.015543  0.161858  0.152062"
      ]
     },
     "execution_count": 62,
     "metadata": {},
     "output_type": "execute_result"
    }
   ],
   "source": [
    "df.tail(4)"
   ]
  },
  {
   "cell_type": "code",
   "execution_count": 63,
   "metadata": {
    "slideshow": {
     "slide_type": "slide"
    }
   },
   "outputs": [
    {
     "name": "stdout",
     "output_type": "stream",
     "text": [
      "[0, 1, 4, 9, 16, 25, 36, 49, 64, 81]\n"
     ]
    }
   ],
   "source": [
    "# List Comprehensions in Python:\n",
    "squares = []\n",
    "for x in range(10):\n",
    "    squares.append(x**2)\n",
    "print(squares)"
   ]
  },
  {
   "cell_type": "code",
   "execution_count": 67,
   "metadata": {
    "slideshow": {
     "slide_type": "fragment"
    }
   },
   "outputs": [
    {
     "name": "stdout",
     "output_type": "stream",
     "text": [
      "[0, 1, 4, 9, 16, 25, 36, 49, 64, 81]\n"
     ]
    }
   ],
   "source": [
    "#It is equal to:\n",
    "squares = [x**2 for x in range(10)]\n",
    "print(squares)"
   ]
  },
  {
   "cell_type": "code",
   "execution_count": 73,
   "metadata": {
    "slideshow": {
     "slide_type": "slide"
    }
   },
   "outputs": [
    {
     "name": "stdout",
     "output_type": "stream",
     "text": [
      "          A         B         C\n",
      "0 -0.335489 -0.401726  0.314076\n",
      "\n",
      "\n",
      "          a         b         c\n",
      "0 -0.335489 -0.401726  0.314076\n"
     ]
    }
   ],
   "source": [
    "df = pd.DataFrame(np.random.randn(8, 3), columns=[\"A\", \"B\", \"C\"])\n",
    "print(df.head(1))\n",
    "\n",
    "#We can use list comprehension anywhere that a list exists\n",
    "df.columns = [x.lower() for x in df.columns]\n",
    "print(\"\\n\")\n",
    "print(df.head(1))"
   ]
  },
  {
   "cell_type": "markdown",
   "metadata": {
    "slideshow": {
     "slide_type": "slide"
    }
   },
   "source": [
    "### Exercise #5\n",
    "Create a 10x4 DataFrame with random values having the following column names:\n",
    "`A10, A20, A30, .., A100`"
   ]
  },
  {
   "cell_type": "code",
   "execution_count": 83,
   "metadata": {
    "slideshow": {
     "slide_type": "fragment"
    }
   },
   "outputs": [
    {
     "data": {
      "text/html": [
       "<div>\n",
       "<style scoped>\n",
       "    .dataframe tbody tr th:only-of-type {\n",
       "        vertical-align: middle;\n",
       "    }\n",
       "\n",
       "    .dataframe tbody tr th {\n",
       "        vertical-align: top;\n",
       "    }\n",
       "\n",
       "    .dataframe thead th {\n",
       "        text-align: right;\n",
       "    }\n",
       "</style>\n",
       "<table border=\"1\" class=\"dataframe\">\n",
       "  <thead>\n",
       "    <tr style=\"text-align: right;\">\n",
       "      <th></th>\n",
       "      <th>A10</th>\n",
       "      <th>A20</th>\n",
       "      <th>A30</th>\n",
       "      <th>A40</th>\n",
       "      <th>A50</th>\n",
       "      <th>A60</th>\n",
       "      <th>A70</th>\n",
       "      <th>A80</th>\n",
       "      <th>A90</th>\n",
       "      <th>A100</th>\n",
       "    </tr>\n",
       "  </thead>\n",
       "  <tbody>\n",
       "    <tr>\n",
       "      <th>0</th>\n",
       "      <td>-0.647961</td>\n",
       "      <td>-1.066783</td>\n",
       "      <td>1.016228</td>\n",
       "      <td>1.822994</td>\n",
       "      <td>1.166877</td>\n",
       "      <td>-1.113236</td>\n",
       "      <td>0.881922</td>\n",
       "      <td>-1.158390</td>\n",
       "      <td>0.266965</td>\n",
       "      <td>-0.863840</td>\n",
       "    </tr>\n",
       "    <tr>\n",
       "      <th>1</th>\n",
       "      <td>2.928020</td>\n",
       "      <td>-0.859714</td>\n",
       "      <td>-1.110631</td>\n",
       "      <td>0.506560</td>\n",
       "      <td>-0.225781</td>\n",
       "      <td>2.251711</td>\n",
       "      <td>0.155840</td>\n",
       "      <td>0.804569</td>\n",
       "      <td>1.247652</td>\n",
       "      <td>1.602970</td>\n",
       "    </tr>\n",
       "    <tr>\n",
       "      <th>2</th>\n",
       "      <td>-1.467685</td>\n",
       "      <td>0.253177</td>\n",
       "      <td>0.922355</td>\n",
       "      <td>-0.691940</td>\n",
       "      <td>0.568771</td>\n",
       "      <td>1.049467</td>\n",
       "      <td>0.654996</td>\n",
       "      <td>1.653866</td>\n",
       "      <td>2.696517</td>\n",
       "      <td>-0.676505</td>\n",
       "    </tr>\n",
       "    <tr>\n",
       "      <th>3</th>\n",
       "      <td>-0.175471</td>\n",
       "      <td>-0.456015</td>\n",
       "      <td>-0.551743</td>\n",
       "      <td>-1.641772</td>\n",
       "      <td>0.223262</td>\n",
       "      <td>-0.940628</td>\n",
       "      <td>-0.298156</td>\n",
       "      <td>-1.190457</td>\n",
       "      <td>0.207686</td>\n",
       "      <td>1.344661</td>\n",
       "    </tr>\n",
       "  </tbody>\n",
       "</table>\n",
       "</div>"
      ],
      "text/plain": [
       "        A10       A20       A30       A40       A50       A60       A70  \\\n",
       "0 -0.647961 -1.066783  1.016228  1.822994  1.166877 -1.113236  0.881922   \n",
       "1  2.928020 -0.859714 -1.110631  0.506560 -0.225781  2.251711  0.155840   \n",
       "2 -1.467685  0.253177  0.922355 -0.691940  0.568771  1.049467  0.654996   \n",
       "3 -0.175471 -0.456015 -0.551743 -1.641772  0.223262 -0.940628 -0.298156   \n",
       "\n",
       "        A80       A90      A100  \n",
       "0 -1.158390  0.266965 -0.863840  \n",
       "1  0.804569  1.247652  1.602970  \n",
       "2  1.653866  2.696517 -0.676505  \n",
       "3 -1.190457  0.207686  1.344661  "
      ]
     },
     "execution_count": 83,
     "metadata": {},
     "output_type": "execute_result"
    }
   ],
   "source": [
    "s = pd.DataFrame(np.random.randn(4,10), columns=[\"A\" + str((x+1)*10) for x in range(10)])\n",
    "s"
   ]
  },
  {
   "cell_type": "code",
   "execution_count": null,
   "metadata": {},
   "outputs": [],
   "source": []
  }
 ],
 "metadata": {
  "anaconda-cloud": {},
  "celltoolbar": "Slideshow",
  "kernelspec": {
   "display_name": "Python [conda env:msa8010] *",
   "language": "python",
   "name": "conda-env-msa8010-py"
  },
  "language_info": {
   "codemirror_mode": {
    "name": "ipython",
    "version": 3
   },
   "file_extension": ".py",
   "mimetype": "text/x-python",
   "name": "python",
   "nbconvert_exporter": "python",
   "pygments_lexer": "ipython3",
   "version": "3.6.13"
  }
 },
 "nbformat": 4,
 "nbformat_minor": 1
}
