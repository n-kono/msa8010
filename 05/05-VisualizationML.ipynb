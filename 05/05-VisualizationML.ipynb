{
 "cells": [
  {
   "cell_type": "markdown",
   "metadata": {
    "slideshow": {
     "slide_type": "slide"
    }
   },
   "source": [
    "# Session 5: Visualization and Machine Learning\n",
    "MSA 8010: Data Programming"
   ]
  },
  {
   "cell_type": "markdown",
   "metadata": {
    "slideshow": {
     "slide_type": "slide"
    }
   },
   "source": [
    "Sources:\n",
    "- Data: Public crime data provided by the Atlanta Police Department.\n",
    "\n",
    "    -https://www.atlantapd.org/i-want-to/crime-data-downloads (COBRA-2021)"
   ]
  },
  {
   "cell_type": "code",
   "execution_count": 1,
   "metadata": {
    "scrolled": true,
    "slideshow": {
     "slide_type": "slide"
    }
   },
   "outputs": [
    {
     "name": "stdout",
     "output_type": "stream",
     "text": [
      "<class 'pandas.core.frame.DataFrame'>\n",
      "RangeIndex: 16725 entries, 0 to 16724\n",
      "Data columns (total 17 columns):\n",
      " #   Column         Non-Null Count  Dtype  \n",
      "---  ------         --------------  -----  \n",
      " 0   offense_id     16725 non-null  int64  \n",
      " 1   rpt_date       16725 non-null  object \n",
      " 2   occur_date     16716 non-null  object \n",
      " 3   occur_day      16716 non-null  object \n",
      " 4   occur_day_num  16716 non-null  float64\n",
      " 5   occur_time     16716 non-null  object \n",
      " 6   poss_date      16387 non-null  object \n",
      " 7   poss_time      16387 non-null  object \n",
      " 8   beat           16725 non-null  int64  \n",
      " 9   zone           16725 non-null  int64  \n",
      " 10  location       16725 non-null  object \n",
      " 11  ibr_code       16725 non-null  object \n",
      " 12  UC2_Literal    16725 non-null  object \n",
      " 13  neighborhood   15956 non-null  object \n",
      " 14  npu            16519 non-null  object \n",
      " 15  lat            16725 non-null  float64\n",
      " 16  long           16725 non-null  float64\n",
      "dtypes: float64(3), int64(3), object(11)\n",
      "memory usage: 2.2+ MB\n"
     ]
    }
   ],
   "source": [
    "#Creating a DataFrame of some Titanic passengers\n",
    "import pandas as pd\n",
    "df = pd.read_csv(\"data/COBRA-2021.csv\")\n",
    "df.info()"
   ]
  },
  {
   "cell_type": "code",
   "execution_count": 2,
   "metadata": {
    "slideshow": {
     "slide_type": "slide"
    }
   },
   "outputs": [
    {
     "data": {
      "text/html": [
       "<div>\n",
       "<style scoped>\n",
       "    .dataframe tbody tr th:only-of-type {\n",
       "        vertical-align: middle;\n",
       "    }\n",
       "\n",
       "    .dataframe tbody tr th {\n",
       "        vertical-align: top;\n",
       "    }\n",
       "\n",
       "    .dataframe thead th {\n",
       "        text-align: right;\n",
       "    }\n",
       "</style>\n",
       "<table border=\"1\" class=\"dataframe\">\n",
       "  <thead>\n",
       "    <tr style=\"text-align: right;\">\n",
       "      <th></th>\n",
       "      <th>offense_id</th>\n",
       "      <th>rpt_date</th>\n",
       "      <th>occur_date</th>\n",
       "      <th>occur_day</th>\n",
       "      <th>occur_day_num</th>\n",
       "      <th>occur_time</th>\n",
       "      <th>poss_date</th>\n",
       "      <th>poss_time</th>\n",
       "      <th>beat</th>\n",
       "      <th>zone</th>\n",
       "      <th>location</th>\n",
       "      <th>ibr_code</th>\n",
       "      <th>UC2_Literal</th>\n",
       "      <th>neighborhood</th>\n",
       "      <th>npu</th>\n",
       "      <th>lat</th>\n",
       "      <th>long</th>\n",
       "    </tr>\n",
       "  </thead>\n",
       "  <tbody>\n",
       "    <tr>\n",
       "      <th>0</th>\n",
       "      <td>21140096</td>\n",
       "      <td>5/20/2021</td>\n",
       "      <td>5/19/2021</td>\n",
       "      <td>Wednesday</td>\n",
       "      <td>4.0</td>\n",
       "      <td>15:20</td>\n",
       "      <td>5/19/2021</td>\n",
       "      <td>15:25</td>\n",
       "      <td>103</td>\n",
       "      <td>1</td>\n",
       "      <td>1720 MARIETTA BLVD NW\\nATLANTA, GA 30318\\nUNIT...</td>\n",
       "      <td>23F</td>\n",
       "      <td>LARCENY-FROM VEHICLE</td>\n",
       "      <td>Hills Park</td>\n",
       "      <td>D</td>\n",
       "      <td>33.801693</td>\n",
       "      <td>-84.436453</td>\n",
       "    </tr>\n",
       "    <tr>\n",
       "      <th>1</th>\n",
       "      <td>21282015</td>\n",
       "      <td>8/6/2021</td>\n",
       "      <td>8/6/2021</td>\n",
       "      <td>Friday</td>\n",
       "      <td>6.0</td>\n",
       "      <td>22:23</td>\n",
       "      <td>8/6/2021</td>\n",
       "      <td>22:24</td>\n",
       "      <td>508</td>\n",
       "      <td>5</td>\n",
       "      <td>300 PEACHTREE ST NE\\nATLANTA, GA 30308\\nUNITED...</td>\n",
       "      <td>23F</td>\n",
       "      <td>LARCENY-FROM VEHICLE</td>\n",
       "      <td>Downtown</td>\n",
       "      <td>M</td>\n",
       "      <td>33.762549</td>\n",
       "      <td>-84.387874</td>\n",
       "    </tr>\n",
       "    <tr>\n",
       "      <th>2</th>\n",
       "      <td>21320347</td>\n",
       "      <td>2/1/2021</td>\n",
       "      <td>1/31/2021</td>\n",
       "      <td>Sunday</td>\n",
       "      <td>1.0</td>\n",
       "      <td>00:00</td>\n",
       "      <td>2/1/2021</td>\n",
       "      <td>06:53</td>\n",
       "      <td>509</td>\n",
       "      <td>5</td>\n",
       "      <td>229 COURTLAND ST NE\\nATLANTA, GA 30303\\nUNITED...</td>\n",
       "      <td>23F</td>\n",
       "      <td>LARCENY-FROM VEHICLE</td>\n",
       "      <td>Downtown</td>\n",
       "      <td>M</td>\n",
       "      <td>33.760759</td>\n",
       "      <td>-84.383773</td>\n",
       "    </tr>\n",
       "    <tr>\n",
       "      <th>3</th>\n",
       "      <td>21791668</td>\n",
       "      <td>6/28/2021</td>\n",
       "      <td>6/27/2021</td>\n",
       "      <td>Sunday</td>\n",
       "      <td>1.0</td>\n",
       "      <td>21:17</td>\n",
       "      <td>6/28/2021</td>\n",
       "      <td>20:00</td>\n",
       "      <td>102</td>\n",
       "      <td>1</td>\n",
       "      <td>870 MAYSON TURNER RD NW\\nATLANTA, GA 30314\\nUN...</td>\n",
       "      <td>23H</td>\n",
       "      <td>LARCENY-NON VEHICLE</td>\n",
       "      <td>Vine City</td>\n",
       "      <td>L</td>\n",
       "      <td>33.755768</td>\n",
       "      <td>-84.416631</td>\n",
       "    </tr>\n",
       "    <tr>\n",
       "      <th>4</th>\n",
       "      <td>61583880</td>\n",
       "      <td>2/11/2021</td>\n",
       "      <td>2/11/2021</td>\n",
       "      <td>Thursday</td>\n",
       "      <td>5.0</td>\n",
       "      <td>19:15</td>\n",
       "      <td>2/11/2021</td>\n",
       "      <td>20:29</td>\n",
       "      <td>401</td>\n",
       "      <td>4</td>\n",
       "      <td>850 OAK ST SW\\nATLANTA, GA 30310\\nUNITED STATES</td>\n",
       "      <td>23F</td>\n",
       "      <td>LARCENY-FROM VEHICLE</td>\n",
       "      <td>West End</td>\n",
       "      <td>T</td>\n",
       "      <td>33.740594</td>\n",
       "      <td>-84.415800</td>\n",
       "    </tr>\n",
       "  </tbody>\n",
       "</table>\n",
       "</div>"
      ],
      "text/plain": [
       "   offense_id   rpt_date occur_date  occur_day  occur_day_num occur_time  \\\n",
       "0    21140096  5/20/2021  5/19/2021  Wednesday            4.0      15:20   \n",
       "1    21282015   8/6/2021   8/6/2021     Friday            6.0      22:23   \n",
       "2    21320347   2/1/2021  1/31/2021     Sunday            1.0      00:00   \n",
       "3    21791668  6/28/2021  6/27/2021     Sunday            1.0      21:17   \n",
       "4    61583880  2/11/2021  2/11/2021   Thursday            5.0      19:15   \n",
       "\n",
       "   poss_date poss_time  beat  zone  \\\n",
       "0  5/19/2021     15:25   103     1   \n",
       "1   8/6/2021     22:24   508     5   \n",
       "2   2/1/2021     06:53   509     5   \n",
       "3  6/28/2021     20:00   102     1   \n",
       "4  2/11/2021     20:29   401     4   \n",
       "\n",
       "                                            location ibr_code  \\\n",
       "0  1720 MARIETTA BLVD NW\\nATLANTA, GA 30318\\nUNIT...      23F   \n",
       "1  300 PEACHTREE ST NE\\nATLANTA, GA 30308\\nUNITED...      23F   \n",
       "2  229 COURTLAND ST NE\\nATLANTA, GA 30303\\nUNITED...      23F   \n",
       "3  870 MAYSON TURNER RD NW\\nATLANTA, GA 30314\\nUN...      23H   \n",
       "4    850 OAK ST SW\\nATLANTA, GA 30310\\nUNITED STATES      23F   \n",
       "\n",
       "            UC2_Literal neighborhood npu        lat       long  \n",
       "0  LARCENY-FROM VEHICLE   Hills Park   D  33.801693 -84.436453  \n",
       "1  LARCENY-FROM VEHICLE     Downtown   M  33.762549 -84.387874  \n",
       "2  LARCENY-FROM VEHICLE     Downtown   M  33.760759 -84.383773  \n",
       "3   LARCENY-NON VEHICLE    Vine City   L  33.755768 -84.416631  \n",
       "4  LARCENY-FROM VEHICLE     West End   T  33.740594 -84.415800  "
      ]
     },
     "execution_count": 2,
     "metadata": {},
     "output_type": "execute_result"
    }
   ],
   "source": [
    "df.head()"
   ]
  },
  {
   "cell_type": "code",
   "execution_count": 3,
   "metadata": {
    "slideshow": {
     "slide_type": "slide"
    }
   },
   "outputs": [],
   "source": [
    "def fixdatetime(fld):\n",
    "    def _fix(s):\n",
    "        date_col = '%s_date' % fld # \"rpt_date\"\n",
    "        time_col = '%s_time' % fld # \"rpt_time\"\n",
    "        if time_col in s.index:\n",
    "            return str(s[date_col])+' '+str(s[time_col])\n",
    "        else:\n",
    "            return str(s[date_col])+' 00:00:00'\n",
    "    return _fix"
   ]
  },
  {
   "cell_type": "code",
   "execution_count": 4,
   "metadata": {
    "slideshow": {
     "slide_type": "slide"
    }
   },
   "outputs": [],
   "source": [
    "df['rpt_date'] = pd.to_datetime(df['rpt_date'])\n",
    "df['occur_date'] = pd.to_datetime(df['occur_date'])\n",
    "df['poss_date'] = pd.to_datetime(df['poss_date'])"
   ]
  },
  {
   "cell_type": "code",
   "execution_count": 5,
   "metadata": {
    "slideshow": {
     "slide_type": "slide"
    }
   },
   "outputs": [
    {
     "name": "stdout",
     "output_type": "stream",
     "text": [
      "<class 'pandas.core.frame.DataFrame'>\n",
      "RangeIndex: 16725 entries, 0 to 16724\n",
      "Data columns (total 3 columns):\n",
      " #   Column      Non-Null Count  Dtype         \n",
      "---  ------      --------------  -----         \n",
      " 0   rpt_date    16725 non-null  datetime64[ns]\n",
      " 1   occur_date  16716 non-null  datetime64[ns]\n",
      " 2   poss_date   16387 non-null  datetime64[ns]\n",
      "dtypes: datetime64[ns](3)\n",
      "memory usage: 392.1 KB\n"
     ]
    }
   ],
   "source": [
    "df[[\"rpt_date\",\"occur_date\",\"poss_date\"]].info()\n",
    "#[ns] shows the precison is in nanoseconds"
   ]
  },
  {
   "cell_type": "code",
   "execution_count": 13,
   "metadata": {
    "slideshow": {
     "slide_type": "slide"
    }
   },
   "outputs": [
    {
     "name": "stdout",
     "output_type": "stream",
     "text": [
      "Min: 2021-01-01 00:00:00 Max: 2021-09-16 00:00:00\n",
      "\n",
      "Aftr removing all dates before 2021:\n",
      "Min: 2021-01-01 00:00:00 Max: 2021-09-16 00:00:00\n"
     ]
    }
   ],
   "source": [
    "print (\"Min:\",df.occur_date.min(), \"Max:\",df.occur_date.max())\n",
    "\n",
    "df = df[df['occur_date'].dt.year >= 2021]\n",
    "print('\\nAftr removing all dates before 2021:')\n",
    "print (\"Min:\",df.occur_date.min(), \"Max:\", df.occur_date.max())"
   ]
  },
  {
   "cell_type": "code",
   "execution_count": 19,
   "metadata": {
    "slideshow": {
     "slide_type": "slide"
    }
   },
   "outputs": [
    {
     "data": {
      "text/html": [
       "<div>\n",
       "<style scoped>\n",
       "    .dataframe tbody tr th:only-of-type {\n",
       "        vertical-align: middle;\n",
       "    }\n",
       "\n",
       "    .dataframe tbody tr th {\n",
       "        vertical-align: top;\n",
       "    }\n",
       "\n",
       "    .dataframe thead th {\n",
       "        text-align: right;\n",
       "    }\n",
       "</style>\n",
       "<table border=\"1\" class=\"dataframe\">\n",
       "  <thead>\n",
       "    <tr style=\"text-align: right;\">\n",
       "      <th></th>\n",
       "      <th>occur_date</th>\n",
       "      <th>UC2_Literal</th>\n",
       "      <th>offense_id</th>\n",
       "    </tr>\n",
       "  </thead>\n",
       "  <tbody>\n",
       "    <tr>\n",
       "      <th>0</th>\n",
       "      <td>2021-05-19</td>\n",
       "      <td>LARCENY-FROM VEHICLE</td>\n",
       "      <td>21140096</td>\n",
       "    </tr>\n",
       "    <tr>\n",
       "      <th>1</th>\n",
       "      <td>2021-08-06</td>\n",
       "      <td>LARCENY-FROM VEHICLE</td>\n",
       "      <td>21282015</td>\n",
       "    </tr>\n",
       "    <tr>\n",
       "      <th>2</th>\n",
       "      <td>2021-01-31</td>\n",
       "      <td>LARCENY-FROM VEHICLE</td>\n",
       "      <td>21320347</td>\n",
       "    </tr>\n",
       "    <tr>\n",
       "      <th>3</th>\n",
       "      <td>2021-06-27</td>\n",
       "      <td>LARCENY-NON VEHICLE</td>\n",
       "      <td>21791668</td>\n",
       "    </tr>\n",
       "    <tr>\n",
       "      <th>4</th>\n",
       "      <td>2021-02-11</td>\n",
       "      <td>LARCENY-FROM VEHICLE</td>\n",
       "      <td>61583880</td>\n",
       "    </tr>\n",
       "  </tbody>\n",
       "</table>\n",
       "</div>"
      ],
      "text/plain": [
       "  occur_date           UC2_Literal  offense_id\n",
       "0 2021-05-19  LARCENY-FROM VEHICLE    21140096\n",
       "1 2021-08-06  LARCENY-FROM VEHICLE    21282015\n",
       "2 2021-01-31  LARCENY-FROM VEHICLE    21320347\n",
       "3 2021-06-27   LARCENY-NON VEHICLE    21791668\n",
       "4 2021-02-11  LARCENY-FROM VEHICLE    61583880"
      ]
     },
     "execution_count": 19,
     "metadata": {},
     "output_type": "execute_result"
    }
   ],
   "source": [
    "df[[\"occur_date\", \"UC2_Literal\", \"offense_id\"]].head()"
   ]
  },
  {
   "cell_type": "code",
   "execution_count": 27,
   "metadata": {
    "slideshow": {
     "slide_type": "slide"
    }
   },
   "outputs": [
    {
     "data": {
      "text/plain": [
       "occur_date\n",
       "2021-01-31    2394\n",
       "2021-02-28    1785\n",
       "2021-03-31    1839\n",
       "2021-04-30    1630\n",
       "2021-05-31    1756\n",
       "2021-06-30    1690\n",
       "2021-07-31    2198\n",
       "2021-08-31    2171\n",
       "2021-09-30    1058\n",
       "Freq: M, Name: offense_id, dtype: int64"
      ]
     },
     "execution_count": 27,
     "metadata": {},
     "output_type": "execute_result"
    }
   ],
   "source": [
    "# resample is like \"groupby\" for time\n",
    "df.resample('M', closed='right', on='occur_date').offense_id.count()"
   ]
  },
  {
   "cell_type": "code",
   "execution_count": 39,
   "metadata": {
    "scrolled": true,
    "slideshow": {
     "slide_type": "slide"
    }
   },
   "outputs": [
    {
     "data": {
      "text/html": [
       "<div>\n",
       "<style scoped>\n",
       "    .dataframe tbody tr th:only-of-type {\n",
       "        vertical-align: middle;\n",
       "    }\n",
       "\n",
       "    .dataframe tbody tr th {\n",
       "        vertical-align: top;\n",
       "    }\n",
       "\n",
       "    .dataframe thead th {\n",
       "        text-align: right;\n",
       "    }\n",
       "</style>\n",
       "<table border=\"1\" class=\"dataframe\">\n",
       "  <thead>\n",
       "    <tr style=\"text-align: right;\">\n",
       "      <th>UC2_Literal</th>\n",
       "      <th>AGG ASSAULT</th>\n",
       "      <th>AUTO THEFT</th>\n",
       "      <th>BURGLARY</th>\n",
       "      <th>HOMICIDE</th>\n",
       "      <th>LARCENY-FROM VEHICLE</th>\n",
       "      <th>LARCENY-NON VEHICLE</th>\n",
       "      <th>ROBBERY</th>\n",
       "    </tr>\n",
       "    <tr>\n",
       "      <th>occur_date</th>\n",
       "      <th></th>\n",
       "      <th></th>\n",
       "      <th></th>\n",
       "      <th></th>\n",
       "      <th></th>\n",
       "      <th></th>\n",
       "      <th></th>\n",
       "    </tr>\n",
       "  </thead>\n",
       "  <tbody>\n",
       "    <tr>\n",
       "      <th>2021-01-01</th>\n",
       "      <td>210010958</td>\n",
       "      <td>210055694</td>\n",
       "      <td>210619569</td>\n",
       "      <td>nan</td>\n",
       "      <td>210017028</td>\n",
       "      <td>210042456</td>\n",
       "      <td>210011014</td>\n",
       "    </tr>\n",
       "    <tr>\n",
       "      <th>2021-01-02</th>\n",
       "      <td>210023917</td>\n",
       "      <td>210023783</td>\n",
       "      <td>210021008</td>\n",
       "      <td>nan</td>\n",
       "      <td>210024983</td>\n",
       "      <td>210032551</td>\n",
       "      <td>210021304</td>\n",
       "    </tr>\n",
       "    <tr>\n",
       "      <th>2021-01-03</th>\n",
       "      <td>210030406</td>\n",
       "      <td>210033337</td>\n",
       "      <td>210041041</td>\n",
       "      <td>nan</td>\n",
       "      <td>210033445</td>\n",
       "      <td>210034225</td>\n",
       "      <td>210031533</td>\n",
       "    </tr>\n",
       "    <tr>\n",
       "      <th>2021-01-04</th>\n",
       "      <td>210043172</td>\n",
       "      <td>210041214</td>\n",
       "      <td>210047325</td>\n",
       "      <td>210041272</td>\n",
       "      <td>210046309</td>\n",
       "      <td>209424576</td>\n",
       "      <td>210040321</td>\n",
       "    </tr>\n",
       "    <tr>\n",
       "      <th>2021-01-05</th>\n",
       "      <td>210051220</td>\n",
       "      <td>210058087</td>\n",
       "      <td>210051731</td>\n",
       "      <td>nan</td>\n",
       "      <td>210058201</td>\n",
       "      <td>210066245</td>\n",
       "      <td>nan</td>\n",
       "    </tr>\n",
       "  </tbody>\n",
       "</table>\n",
       "</div>"
      ],
      "text/plain": [
       "UC2_Literal  AGG ASSAULT  AUTO THEFT  BURGLARY  HOMICIDE  \\\n",
       "occur_date                                                 \n",
       "2021-01-01     210010958   210055694 210619569       nan   \n",
       "2021-01-02     210023917   210023783 210021008       nan   \n",
       "2021-01-03     210030406   210033337 210041041       nan   \n",
       "2021-01-04     210043172   210041214 210047325 210041272   \n",
       "2021-01-05     210051220   210058087 210051731       nan   \n",
       "\n",
       "UC2_Literal  LARCENY-FROM VEHICLE  LARCENY-NON VEHICLE   ROBBERY  \n",
       "occur_date                                                        \n",
       "2021-01-01              210017028            210042456 210011014  \n",
       "2021-01-02              210024983            210032551 210021304  \n",
       "2021-01-03              210033445            210034225 210031533  \n",
       "2021-01-04              210046309            209424576 210040321  \n",
       "2021-01-05              210058201            210066245       nan  "
      ]
     },
     "execution_count": 39,
     "metadata": {},
     "output_type": "execute_result"
    }
   ],
   "source": [
    "df_ct = df.pivot_table(index=\"occur_date\", columns=\"UC2_Literal\", values=\"offense_id\")\n",
    "#pd.options.display.float_format = '{:.0f}'.format\n",
    "df_ct.round(2).head()"
   ]
  },
  {
   "cell_type": "code",
   "execution_count": 41,
   "metadata": {
    "slideshow": {
     "slide_type": "slide"
    }
   },
   "outputs": [
    {
     "data": {
      "text/html": [
       "<div>\n",
       "<style scoped>\n",
       "    .dataframe tbody tr th:only-of-type {\n",
       "        vertical-align: middle;\n",
       "    }\n",
       "\n",
       "    .dataframe tbody tr th {\n",
       "        vertical-align: top;\n",
       "    }\n",
       "\n",
       "    .dataframe thead th {\n",
       "        text-align: right;\n",
       "    }\n",
       "</style>\n",
       "<table border=\"1\" class=\"dataframe\">\n",
       "  <thead>\n",
       "    <tr style=\"text-align: right;\">\n",
       "      <th>UC2_Literal</th>\n",
       "      <th>AGG ASSAULT</th>\n",
       "      <th>AUTO THEFT</th>\n",
       "      <th>BURGLARY</th>\n",
       "      <th>HOMICIDE</th>\n",
       "      <th>LARCENY-FROM VEHICLE</th>\n",
       "      <th>LARCENY-NON VEHICLE</th>\n",
       "      <th>ROBBERY</th>\n",
       "    </tr>\n",
       "    <tr>\n",
       "      <th>occur_date</th>\n",
       "      <th></th>\n",
       "      <th></th>\n",
       "      <th></th>\n",
       "      <th></th>\n",
       "      <th></th>\n",
       "      <th></th>\n",
       "      <th></th>\n",
       "    </tr>\n",
       "  </thead>\n",
       "  <tbody>\n",
       "    <tr>\n",
       "      <th>2021-01-31</th>\n",
       "      <td>31</td>\n",
       "      <td>31</td>\n",
       "      <td>31</td>\n",
       "      <td>7</td>\n",
       "      <td>31</td>\n",
       "      <td>31</td>\n",
       "      <td>27</td>\n",
       "    </tr>\n",
       "    <tr>\n",
       "      <th>2021-02-28</th>\n",
       "      <td>27</td>\n",
       "      <td>28</td>\n",
       "      <td>28</td>\n",
       "      <td>8</td>\n",
       "      <td>28</td>\n",
       "      <td>28</td>\n",
       "      <td>27</td>\n",
       "    </tr>\n",
       "    <tr>\n",
       "      <th>2021-03-31</th>\n",
       "      <td>31</td>\n",
       "      <td>31</td>\n",
       "      <td>31</td>\n",
       "      <td>8</td>\n",
       "      <td>31</td>\n",
       "      <td>31</td>\n",
       "      <td>24</td>\n",
       "    </tr>\n",
       "    <tr>\n",
       "      <th>2021-04-30</th>\n",
       "      <td>30</td>\n",
       "      <td>30</td>\n",
       "      <td>30</td>\n",
       "      <td>9</td>\n",
       "      <td>30</td>\n",
       "      <td>30</td>\n",
       "      <td>29</td>\n",
       "    </tr>\n",
       "    <tr>\n",
       "      <th>2021-05-31</th>\n",
       "      <td>31</td>\n",
       "      <td>31</td>\n",
       "      <td>31</td>\n",
       "      <td>12</td>\n",
       "      <td>31</td>\n",
       "      <td>31</td>\n",
       "      <td>29</td>\n",
       "    </tr>\n",
       "  </tbody>\n",
       "</table>\n",
       "</div>"
      ],
      "text/plain": [
       "UC2_Literal  AGG ASSAULT  AUTO THEFT  BURGLARY  HOMICIDE  \\\n",
       "occur_date                                                 \n",
       "2021-01-31            31          31        31         7   \n",
       "2021-02-28            27          28        28         8   \n",
       "2021-03-31            31          31        31         8   \n",
       "2021-04-30            30          30        30         9   \n",
       "2021-05-31            31          31        31        12   \n",
       "\n",
       "UC2_Literal  LARCENY-FROM VEHICLE  LARCENY-NON VEHICLE  ROBBERY  \n",
       "occur_date                                                       \n",
       "2021-01-31                     31                   31       27  \n",
       "2021-02-28                     28                   28       27  \n",
       "2021-03-31                     31                   31       24  \n",
       "2021-04-30                     30                   30       29  \n",
       "2021-05-31                     31                   31       29  "
      ]
     },
     "execution_count": 41,
     "metadata": {},
     "output_type": "execute_result"
    }
   ],
   "source": [
    "df_ct = df_ct.resample(\"1M\", closed=\"right\").count()\n",
    "df_ct.head()"
   ]
  },
  {
   "cell_type": "code",
   "execution_count": 54,
   "metadata": {
    "slideshow": {
     "slide_type": "slide"
    }
   },
   "outputs": [
    {
     "data": {
      "text/plain": [
       "<matplotlib.legend.Legend at 0x7fdc01935f98>"
      ]
     },
     "execution_count": 54,
     "metadata": {},
     "output_type": "execute_result"
    },
    {
     "data": {
      "image/png": "[encoded data removed]",
      "text/plain": [
       "<Figure size 720x360 with 1 Axes>"
      ]
     },
     "metadata": {
      "needs_background": "light"
     },
     "output_type": "display_data"
    }
   ],
   "source": [
    "import matplotlib.pyplot as plt\n",
    "df_ct.plot(figsize=(10,5), style='-o')\n",
    "plt.legend(loc=(1.04,0))\n"
   ]
  },
  {
   "attachments": {},
   "cell_type": "markdown",
   "metadata": {
    "slideshow": {
     "slide_type": "slide"
    }
   },
   "source": [
    "#### Box Plot\n",
    "\n",
    "<img src=\"boxplot.png\" width=\"800\" align=\"center\" />\n",
    "\n"
   ]
  },
  {
   "cell_type": "markdown",
   "metadata": {
    "slideshow": {
     "slide_type": "slide"
    }
   },
   "source": [
    "- **median (Q2/50th Percentile):** the middle value of the dataset.\n",
    "- **first quartile (Q1/25th Percentile):** the middle number between the smallest number (not the “minimum”) and the median of the dataset.\n",
    "- **third quartile (Q3/75th Percentile):** the middle value between the median and the highest value (not the “maximum”) of the dataset.\n",
    "- **interquartile range (IQR):** 25th to the 75th percentile."
   ]
  },
  {
   "cell_type": "code",
   "execution_count": 50,
   "metadata": {
    "scrolled": true,
    "slideshow": {
     "slide_type": "slide"
    }
   },
   "outputs": [
    {
     "data": {
      "text/plain": [
       "Text(0, 0.5, 'Total Crimes')"
      ]
     },
     "execution_count": 50,
     "metadata": {},
     "output_type": "execute_result"
    },
    {
     "data": {
      "image/png": "[encoded data removed]",
      "text/plain": [
       "<Figure size 432x288 with 1 Axes>"
      ]
     },
     "metadata": {
      "needs_background": "light"
     },
     "output_type": "display_data"
    }
   ],
   "source": [
    "ax = df_ct[[\"HOMICIDE\",\"ROBBERY\"]].plot.box()\n",
    "plt.ylabel(\"Total Crimes\")"
   ]
  },
  {
   "cell_type": "markdown",
   "metadata": {
    "slideshow": {
     "slide_type": "slide"
    }
   },
   "source": [
    "<img src=\"https://upload.wikimedia.org/wikipedia/commons/thumb/c/cb/Atlanta_Police_Zones_-_Feb_2013.jpg/588px-Atlanta_Police_Zones_-_Feb_2013.jpg\" />"
   ]
  },
  {
   "cell_type": "code",
   "execution_count": 64,
   "metadata": {
    "scrolled": true,
    "slideshow": {
     "slide_type": "slide"
    }
   },
   "outputs": [],
   "source": [
    "import numpy as np\n",
    "df['Zone'] = df['beat']//100\n",
    "df['Year'] = df[\"occur_date\"].apply(lambda x: x.year)\n",
    "df_cp = df.pivot_table(index=\"Zone\", \n",
    "                       columns=\"UC2_Literal\", \n",
    "                       values=\"offense_id\", \n",
    "                       aggfunc=lambda x: np.count_nonzero(~np.isnan(x)))"
   ]
  },
  {
   "cell_type": "code",
   "execution_count": 65,
   "metadata": {
    "slideshow": {
     "slide_type": "slide"
    }
   },
   "outputs": [
    {
     "data": {
      "text/html": [
       "<div>\n",
       "<style scoped>\n",
       "    .dataframe tbody tr th:only-of-type {\n",
       "        vertical-align: middle;\n",
       "    }\n",
       "\n",
       "    .dataframe tbody tr th {\n",
       "        vertical-align: top;\n",
       "    }\n",
       "\n",
       "    .dataframe thead th {\n",
       "        text-align: right;\n",
       "    }\n",
       "</style>\n",
       "<table border=\"1\" class=\"dataframe\">\n",
       "  <thead>\n",
       "    <tr style=\"text-align: right;\">\n",
       "      <th>UC2_Literal</th>\n",
       "      <th>AGG ASSAULT</th>\n",
       "      <th>AUTO THEFT</th>\n",
       "      <th>BURGLARY</th>\n",
       "      <th>HOMICIDE</th>\n",
       "      <th>LARCENY-FROM VEHICLE</th>\n",
       "      <th>LARCENY-NON VEHICLE</th>\n",
       "      <th>ROBBERY</th>\n",
       "    </tr>\n",
       "    <tr>\n",
       "      <th>Zone</th>\n",
       "      <th></th>\n",
       "      <th></th>\n",
       "      <th></th>\n",
       "      <th></th>\n",
       "      <th></th>\n",
       "      <th></th>\n",
       "      <th></th>\n",
       "    </tr>\n",
       "  </thead>\n",
       "  <tbody>\n",
       "    <tr>\n",
       "      <th>1</th>\n",
       "      <td>378</td>\n",
       "      <td>294</td>\n",
       "      <td>177</td>\n",
       "      <td>27</td>\n",
       "      <td>525</td>\n",
       "      <td>428</td>\n",
       "      <td>103</td>\n",
       "    </tr>\n",
       "    <tr>\n",
       "      <th>2</th>\n",
       "      <td>176</td>\n",
       "      <td>482</td>\n",
       "      <td>148</td>\n",
       "      <td>9</td>\n",
       "      <td>1432</td>\n",
       "      <td>805</td>\n",
       "      <td>79</td>\n",
       "    </tr>\n",
       "    <tr>\n",
       "      <th>3</th>\n",
       "      <td>420</td>\n",
       "      <td>347</td>\n",
       "      <td>217</td>\n",
       "      <td>21</td>\n",
       "      <td>446</td>\n",
       "      <td>431</td>\n",
       "      <td>102</td>\n",
       "    </tr>\n",
       "    <tr>\n",
       "      <th>4</th>\n",
       "      <td>384</td>\n",
       "      <td>324</td>\n",
       "      <td>192</td>\n",
       "      <td>22</td>\n",
       "      <td>573</td>\n",
       "      <td>523</td>\n",
       "      <td>102</td>\n",
       "    </tr>\n",
       "    <tr>\n",
       "      <th>5</th>\n",
       "      <td>263</td>\n",
       "      <td>629</td>\n",
       "      <td>133</td>\n",
       "      <td>11</td>\n",
       "      <td>2263</td>\n",
       "      <td>751</td>\n",
       "      <td>127</td>\n",
       "    </tr>\n",
       "    <tr>\n",
       "      <th>6</th>\n",
       "      <td>190</td>\n",
       "      <td>326</td>\n",
       "      <td>173</td>\n",
       "      <td>19</td>\n",
       "      <td>1562</td>\n",
       "      <td>616</td>\n",
       "      <td>97</td>\n",
       "    </tr>\n",
       "    <tr>\n",
       "      <th>7</th>\n",
       "      <td>5</td>\n",
       "      <td>27</td>\n",
       "      <td>3</td>\n",
       "      <td>nan</td>\n",
       "      <td>47</td>\n",
       "      <td>112</td>\n",
       "      <td>nan</td>\n",
       "    </tr>\n",
       "  </tbody>\n",
       "</table>\n",
       "</div>"
      ],
      "text/plain": [
       "UC2_Literal  AGG ASSAULT  AUTO THEFT  BURGLARY  HOMICIDE  \\\n",
       "Zone                                                       \n",
       "1                    378         294       177        27   \n",
       "2                    176         482       148         9   \n",
       "3                    420         347       217        21   \n",
       "4                    384         324       192        22   \n",
       "5                    263         629       133        11   \n",
       "6                    190         326       173        19   \n",
       "7                      5          27         3       nan   \n",
       "\n",
       "UC2_Literal  LARCENY-FROM VEHICLE  LARCENY-NON VEHICLE  ROBBERY  \n",
       "Zone                                                             \n",
       "1                             525                  428      103  \n",
       "2                            1432                  805       79  \n",
       "3                             446                  431      102  \n",
       "4                             573                  523      102  \n",
       "5                            2263                  751      127  \n",
       "6                            1562                  616       97  \n",
       "7                              47                  112      nan  "
      ]
     },
     "execution_count": 65,
     "metadata": {},
     "output_type": "execute_result"
    }
   ],
   "source": [
    "df_cp"
   ]
  },
  {
   "cell_type": "markdown",
   "metadata": {
    "slideshow": {
     "slide_type": "slide"
    }
   },
   "source": [
    "### Machine Learning\n"
   ]
  },
  {
   "cell_type": "code",
   "execution_count": null,
   "metadata": {},
   "outputs": [],
   "source": []
  }
 ],
 "metadata": {
  "anaconda-cloud": {},
  "celltoolbar": "Slideshow",
  "kernelspec": {
   "display_name": "Python [conda env:msa8010] *",
   "language": "python",
   "name": "conda-env-msa8010-py"
  },
  "language_info": {
   "codemirror_mode": {
    "name": "ipython",
    "version": 3
   },
   "file_extension": ".py",
   "mimetype": "text/x-python",
   "name": "python",
   "nbconvert_exporter": "python",
   "pygments_lexer": "ipython3",
   "version": "3.6.13"
  }
 },
 "nbformat": 4,
 "nbformat_minor": 1
}
